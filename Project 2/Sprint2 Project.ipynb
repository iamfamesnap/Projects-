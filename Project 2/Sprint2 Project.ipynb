{
 "cells": [
  {
   "cell_type": "markdown",
   "id": "bbf6355e",
   "metadata": {},
   "source": [
    "<div style=\"border:solid green 2px; padding: 20px\">\n",
    "    \n",
    "<b>Hello, Cadarrius!</b> We're glad to see you in code-reviewer territory. You've done a great job on the project, but let's get to know each other and make it even better! We have our own atmosphere here and a few rules:\n",
    "\n",
    "\n",
    "1.  I work as a code reviewer, and my main goal is not to point out your mistakes, but to share my experience and help you become a data analyst.\n",
    "2. We speak on a first-come-first-served basis.\n",
    "3. if you want to write or ask a question, don't be shy. Just choose your color for your comment.  \n",
    "4. this is a training project, you don't have to be afraid of making a mistake.  \n",
    "5. You have an unlimited number of attempts to pass the project.  \n",
    "6. Let's Go!\n",
    "\n",
    "\n",
    "---\n",
    "I'll be color-coding comments, please don't delete them:\n",
    "\n",
    "<div class=\"alert alert-block alert-danger\">✍\n",
    "    \n",
    "\n",
    "__Reviewer's comment №1__\n",
    "\n",
    "Needs fixing. The block requires some corrections. Work can't be accepted with the red comments.\n",
    "</div>\n",
    "    \n",
    "---\n",
    "\n",
    "<div class=\"alert alert-block alert-warning\">📝\n",
    "    \n",
    "\n",
    "__Reviewer's comment №1__\n",
    "\n",
    "\n",
    "Remarks. Some recommendations.\n",
    "</div>\n",
    "\n",
    "---\n",
    "\n",
    "<div class=\"alert alert-block alert-success\">✔️\n",
    "    \n",
    "\n",
    "__Reviewer's comment №1__\n",
    "\n",
    "Success. Everything is done succesfully.\n",
    "</div>\n",
    "    \n",
    "---\n",
    "    \n",
    "I suggest that we work on the project in dialogue: if you change something in the project or respond to my comments, write about it. It will be easier for me to track changes if you highlight your comments:   \n",
    "    \n",
    "<div class=\"alert alert-info\"> <b>Student сomments:</b> Student answer..</div>\n",
    "    \n",
    "All this will help to make the recheck of your project faster. If you have any questions about my comments, let me know, we'll figure it out together :)   \n",
    "    \n",
    "---"
   ]
  },
  {
   "cell_type": "markdown",
   "id": "230e6fd5",
   "metadata": {},
   "source": [
    "<div class=\"alert alert-block alert-danger\">✍\n",
    "    \n",
    "\n",
    "__Reviewer's comment №1__\n",
    "\n",
    "An excellent practice is to describe the goal and main steps in your own words (a skill that will help a lot on a final project). It would be good to add the progress and purpose of the study."
   ]
  },
  {
   "cell_type": "markdown",
   "id": "05b1f693",
   "metadata": {},
   "source": [
    "<div class=\"alert alert-info\"> <b>Student сomments:</b> ok is this something i would need to do seperately at the end of each section? i was using the # as comments for myself to walk me through my steps.</div>"
   ]
  },
  {
   "cell_type": "markdown",
   "id": "37205cbc",
   "metadata": {},
   "source": [
    "<div class=\"alert alert-block alert-warning\">📝\n",
    "    \n",
    "\n",
    "__Reviewer's comment №2__\n",
    "\n",
    "please see an example\n",
    "    \n",
    "For this project, you’ll work with data from Instacart.\n",
    "\n",
    "Instacart is a grocery delivery platform where customers can place a grocery order and have it delivered to them, similar to how Uber Eats and Door Dash work. This particular dataset was publicly released by Instacart in 2017 for a Kaggle competition.\n",
    "\n",
    "Your mission is to clean up the data and prepare a report that gives insight into the shopping habits of Instacart customers.\n",
    "\n",
    "</div>"
   ]
  },
  {
   "cell_type": "code",
   "execution_count": 4,
   "id": "fbf1adab",
   "metadata": {
    "trusted": false
   },
   "outputs": [
    {
     "name": "stdout",
     "output_type": "stream",
     "text": [
      "<class 'pandas.core.frame.DataFrame'>\n",
      "RangeIndex: 478967 entries, 0 to 478966\n",
      "Data columns (total 6 columns):\n",
      " #   Column                  Non-Null Count   Dtype  \n",
      "---  ------                  --------------   -----  \n",
      " 0   order_id                478967 non-null  int64  \n",
      " 1   user_id                 478967 non-null  int64  \n",
      " 2   order_number            478967 non-null  int64  \n",
      " 3   order_dow               478967 non-null  int64  \n",
      " 4   order_hour_of_day       478967 non-null  int64  \n",
      " 5   days_since_prior_order  450148 non-null  float64\n",
      "dtypes: float64(1), int64(5)\n",
      "memory usage: 21.9 MB\n",
      "<class 'pandas.core.frame.DataFrame'>\n",
      "RangeIndex: 49694 entries, 0 to 49693\n",
      "Data columns (total 4 columns):\n",
      " #   Column         Non-Null Count  Dtype \n",
      "---  ------         --------------  ----- \n",
      " 0   product_id     49694 non-null  int64 \n",
      " 1   product_name   48436 non-null  object\n",
      " 2   aisle_id       49694 non-null  int64 \n",
      " 3   department_id  49694 non-null  int64 \n",
      "dtypes: int64(3), object(1)\n",
      "memory usage: 1.5+ MB\n",
      "<class 'pandas.core.frame.DataFrame'>\n",
      "RangeIndex: 134 entries, 0 to 133\n",
      "Data columns (total 2 columns):\n",
      " #   Column    Non-Null Count  Dtype \n",
      "---  ------    --------------  ----- \n",
      " 0   aisle_id  134 non-null    int64 \n",
      " 1   aisle     134 non-null    object\n",
      "dtypes: int64(1), object(1)\n",
      "memory usage: 2.2+ KB\n",
      "<class 'pandas.core.frame.DataFrame'>\n",
      "RangeIndex: 21 entries, 0 to 20\n",
      "Data columns (total 2 columns):\n",
      " #   Column         Non-Null Count  Dtype \n",
      "---  ------         --------------  ----- \n",
      " 0   department_id  21 non-null     int64 \n",
      " 1   department     21 non-null     object\n",
      "dtypes: int64(1), object(1)\n",
      "memory usage: 468.0+ bytes\n",
      "<class 'pandas.core.frame.DataFrame'>\n",
      "RangeIndex: 4545007 entries, 0 to 4545006\n",
      "Data columns (total 4 columns):\n",
      " #   Column             Non-Null Count    Dtype  \n",
      "---  ------             --------------    -----  \n",
      " 0   order_id           4545007 non-null  int64  \n",
      " 1   product_id         4545007 non-null  int64  \n",
      " 2   add_to_cart_order  4544171 non-null  float64\n",
      " 3   reordered          4545007 non-null  int64  \n",
      "dtypes: float64(1), int64(3)\n",
      "memory usage: 138.7 MB\n"
     ]
    }
   ],
   "source": [
    "# open the data files and view info\n",
    "import pandas as pd\n",
    "try:\n",
    "    df_orders= pd.read_csv('/datasets/instacart_orders.csv', sep=';')\n",
    "except:\n",
    "    df_orders= pd.read_csv('https://practicum-content.s3.us-west-1.amazonaws.com/datasets/instacart_orders.csv', sep=';')\n",
    "df_orders.info()\n",
    "\n",
    " \n",
    "try:\n",
    "    df_products= pd.read_csv('/datasets/products.csv', sep=';')\n",
    "except:\n",
    "    df_products= pd.read_csv('https://practicum-content.s3.us-west-1.amazonaws.com/datasets/products.csv', sep=';')\n",
    "df_products.info()\n",
    "\n",
    "\n",
    "try:\n",
    "    df_aisles= pd.read_csv('/datasets/aisles.csv', sep=';')\n",
    "except:\n",
    "    df_aisles= pd.read_csv('https://practicum-content.s3.us-west-1.amazonaws.com/datasets/aisles.csv', sep=';')\n",
    "df_aisles.info()\n",
    "df_aisles\n",
    "\n",
    "try:\n",
    "    df_departments= pd.read_csv('/datasets/departments.csv', sep=';')\n",
    "except:\n",
    "    df_departments= pd.read_csv('https://practicum-content.s3.us-west-1.amazonaws.com/datasets/departments.csv', sep=';')\n",
    "df_departments.info()\n",
    "\n",
    "try:\n",
    "    df_order_products= pd.read_csv('/datasets/order_products.csv', sep=';')\n",
    "except:\n",
    "    df_order_products= pd.read_csv('https://practicum-content.s3.us-west-1.amazonaws.com/datasets/order_products.csv', sep=';')\n",
    "df_order_products.info(show_counts=True)\n"
   ]
  },
  {
   "cell_type": "markdown",
   "id": "795e89f1",
   "metadata": {},
   "source": [
    "<div class=\"alert alert-block alert-warning\">📝\n",
    "    \n",
    "\n",
    "__Reviewer's comment №1__\n",
    "\n",
    "All necessary libraries should be unloaded at the beginning of the project in one code cell"
   ]
  },
  {
   "cell_type": "markdown",
   "id": "685a617a",
   "metadata": {},
   "source": [
    "<div class=\"alert alert-info\"> <b>Student сomments:</b> All librabries have been uploaded in one cell.</div>"
   ]
  },
  {
   "cell_type": "markdown",
   "id": "2e00d690",
   "metadata": {},
   "source": [
    "<div class=\"alert alert-block alert-warning\">📝\n",
    "    \n",
    "\n",
    "__Reviewer's comment №1__\n",
    "\n",
    "It would be good to comment on the data somehow"
   ]
  },
  {
   "cell_type": "markdown",
   "id": "80793393",
   "metadata": {},
   "source": [
    "<div class=\"alert alert-info\"> <b>Student сomments:</b> Data has been correctly formatted and now is ready.</div>"
   ]
  },
  {
   "cell_type": "markdown",
   "id": "2fe70f23",
   "metadata": {},
   "source": [
    "<div class=\"alert alert-block alert-success\">✔️\n",
    "    \n",
    "\n",
    "__Reviewer's comment №2__\n",
    "\n",
    "\n",
    "Great. First look at the data is done"
   ]
  },
  {
   "cell_type": "markdown",
   "id": "07357848-dc64-4156-9cc3-01ff4365226d",
   "metadata": {},
   "source": [
    "## Find and remove duplicate values (and describe why you make your choices)"
   ]
  },
  {
   "cell_type": "markdown",
   "id": "f179f0a9",
   "metadata": {},
   "source": [
    "### `orders` data frame"
   ]
  },
  {
   "cell_type": "code",
   "execution_count": 5,
   "id": "b99297a5-405a-463d-8535-9adc3da4ad74",
   "metadata": {
    "trusted": false
   },
   "outputs": [
    {
     "data": {
      "text/plain": [
       "15"
      ]
     },
     "execution_count": 5,
     "metadata": {},
     "output_type": "execute_result"
    }
   ],
   "source": [
    "# Check for duplicated orders\n",
    "df_orders.duplicated().sum()\n"
   ]
  },
  {
   "cell_type": "code",
   "execution_count": 6,
   "id": "0d44de5d",
   "metadata": {
    "trusted": false
   },
   "outputs": [
    {
     "data": {
      "text/html": [
       "<div>\n",
       "<style scoped>\n",
       "    .dataframe tbody tr th:only-of-type {\n",
       "        vertical-align: middle;\n",
       "    }\n",
       "\n",
       "    .dataframe tbody tr th {\n",
       "        vertical-align: top;\n",
       "    }\n",
       "\n",
       "    .dataframe thead th {\n",
       "        text-align: right;\n",
       "    }\n",
       "</style>\n",
       "<table border=\"1\" class=\"dataframe\">\n",
       "  <thead>\n",
       "    <tr style=\"text-align: right;\">\n",
       "      <th></th>\n",
       "      <th>order_id</th>\n",
       "      <th>user_id</th>\n",
       "      <th>order_number</th>\n",
       "      <th>order_dow</th>\n",
       "      <th>order_hour_of_day</th>\n",
       "      <th>days_since_prior_order</th>\n",
       "    </tr>\n",
       "  </thead>\n",
       "  <tbody>\n",
       "    <tr>\n",
       "      <th>4838</th>\n",
       "      <td>2766110</td>\n",
       "      <td>162084</td>\n",
       "      <td>41</td>\n",
       "      <td>3</td>\n",
       "      <td>2</td>\n",
       "      <td>16.0</td>\n",
       "    </tr>\n",
       "    <tr>\n",
       "      <th>5156</th>\n",
       "      <td>2190225</td>\n",
       "      <td>138285</td>\n",
       "      <td>18</td>\n",
       "      <td>3</td>\n",
       "      <td>2</td>\n",
       "      <td>11.0</td>\n",
       "    </tr>\n",
       "    <tr>\n",
       "      <th>15506</th>\n",
       "      <td>553049</td>\n",
       "      <td>58599</td>\n",
       "      <td>13</td>\n",
       "      <td>3</td>\n",
       "      <td>2</td>\n",
       "      <td>7.0</td>\n",
       "    </tr>\n",
       "    <tr>\n",
       "      <th>18420</th>\n",
       "      <td>382357</td>\n",
       "      <td>120200</td>\n",
       "      <td>19</td>\n",
       "      <td>3</td>\n",
       "      <td>2</td>\n",
       "      <td>11.0</td>\n",
       "    </tr>\n",
       "    <tr>\n",
       "      <th>24691</th>\n",
       "      <td>690242</td>\n",
       "      <td>77357</td>\n",
       "      <td>2</td>\n",
       "      <td>3</td>\n",
       "      <td>2</td>\n",
       "      <td>9.0</td>\n",
       "    </tr>\n",
       "    <tr>\n",
       "      <th>...</th>\n",
       "      <td>...</td>\n",
       "      <td>...</td>\n",
       "      <td>...</td>\n",
       "      <td>...</td>\n",
       "      <td>...</td>\n",
       "      <td>...</td>\n",
       "    </tr>\n",
       "    <tr>\n",
       "      <th>457013</th>\n",
       "      <td>3384021</td>\n",
       "      <td>14881</td>\n",
       "      <td>6</td>\n",
       "      <td>3</td>\n",
       "      <td>2</td>\n",
       "      <td>30.0</td>\n",
       "    </tr>\n",
       "    <tr>\n",
       "      <th>458816</th>\n",
       "      <td>910166</td>\n",
       "      <td>164782</td>\n",
       "      <td>18</td>\n",
       "      <td>3</td>\n",
       "      <td>2</td>\n",
       "      <td>4.0</td>\n",
       "    </tr>\n",
       "    <tr>\n",
       "      <th>459635</th>\n",
       "      <td>1680532</td>\n",
       "      <td>106435</td>\n",
       "      <td>6</td>\n",
       "      <td>3</td>\n",
       "      <td>2</td>\n",
       "      <td>21.0</td>\n",
       "    </tr>\n",
       "    <tr>\n",
       "      <th>468324</th>\n",
       "      <td>222962</td>\n",
       "      <td>54979</td>\n",
       "      <td>59</td>\n",
       "      <td>3</td>\n",
       "      <td>2</td>\n",
       "      <td>3.0</td>\n",
       "    </tr>\n",
       "    <tr>\n",
       "      <th>477526</th>\n",
       "      <td>2592344</td>\n",
       "      <td>46860</td>\n",
       "      <td>38</td>\n",
       "      <td>3</td>\n",
       "      <td>2</td>\n",
       "      <td>3.0</td>\n",
       "    </tr>\n",
       "  </tbody>\n",
       "</table>\n",
       "<p>121 rows × 6 columns</p>\n",
       "</div>"
      ],
      "text/plain": [
       "        order_id  user_id  order_number  order_dow  order_hour_of_day  \\\n",
       "4838     2766110   162084            41          3                  2   \n",
       "5156     2190225   138285            18          3                  2   \n",
       "15506     553049    58599            13          3                  2   \n",
       "18420     382357   120200            19          3                  2   \n",
       "24691     690242    77357             2          3                  2   \n",
       "...          ...      ...           ...        ...                ...   \n",
       "457013   3384021    14881             6          3                  2   \n",
       "458816    910166   164782            18          3                  2   \n",
       "459635   1680532   106435             6          3                  2   \n",
       "468324    222962    54979            59          3                  2   \n",
       "477526   2592344    46860            38          3                  2   \n",
       "\n",
       "        days_since_prior_order  \n",
       "4838                      16.0  \n",
       "5156                      11.0  \n",
       "15506                      7.0  \n",
       "18420                     11.0  \n",
       "24691                      9.0  \n",
       "...                        ...  \n",
       "457013                    30.0  \n",
       "458816                     4.0  \n",
       "459635                    21.0  \n",
       "468324                     3.0  \n",
       "477526                     3.0  \n",
       "\n",
       "[121 rows x 6 columns]"
      ]
     },
     "execution_count": 6,
     "metadata": {},
     "output_type": "execute_result"
    }
   ],
   "source": [
    "# Check for all orders placed Wednesday at 2:00 AM\n",
    "wed_2am_orders= df_orders[(df_orders['order_dow'] == 3) & (df_orders['order_hour_of_day'] == 2)]\n",
    "wed_2am_orders\n"
   ]
  },
  {
   "cell_type": "code",
   "execution_count": 7,
   "id": "480563c7",
   "metadata": {
    "trusted": false
   },
   "outputs": [
    {
     "data": {
      "text/html": [
       "<div>\n",
       "<style scoped>\n",
       "    .dataframe tbody tr th:only-of-type {\n",
       "        vertical-align: middle;\n",
       "    }\n",
       "\n",
       "    .dataframe tbody tr th {\n",
       "        vertical-align: top;\n",
       "    }\n",
       "\n",
       "    .dataframe thead th {\n",
       "        text-align: right;\n",
       "    }\n",
       "</style>\n",
       "<table border=\"1\" class=\"dataframe\">\n",
       "  <thead>\n",
       "    <tr style=\"text-align: right;\">\n",
       "      <th></th>\n",
       "      <th>order_id</th>\n",
       "      <th>user_id</th>\n",
       "      <th>order_number</th>\n",
       "      <th>order_dow</th>\n",
       "      <th>order_hour_of_day</th>\n",
       "      <th>days_since_prior_order</th>\n",
       "    </tr>\n",
       "  </thead>\n",
       "  <tbody>\n",
       "    <tr>\n",
       "      <th>0</th>\n",
       "      <td>1515936</td>\n",
       "      <td>183418</td>\n",
       "      <td>11</td>\n",
       "      <td>6</td>\n",
       "      <td>13</td>\n",
       "      <td>30.0</td>\n",
       "    </tr>\n",
       "    <tr>\n",
       "      <th>1</th>\n",
       "      <td>1690866</td>\n",
       "      <td>163593</td>\n",
       "      <td>5</td>\n",
       "      <td>5</td>\n",
       "      <td>12</td>\n",
       "      <td>9.0</td>\n",
       "    </tr>\n",
       "    <tr>\n",
       "      <th>2</th>\n",
       "      <td>1454967</td>\n",
       "      <td>39980</td>\n",
       "      <td>4</td>\n",
       "      <td>5</td>\n",
       "      <td>19</td>\n",
       "      <td>2.0</td>\n",
       "    </tr>\n",
       "    <tr>\n",
       "      <th>3</th>\n",
       "      <td>1768857</td>\n",
       "      <td>82516</td>\n",
       "      <td>56</td>\n",
       "      <td>0</td>\n",
       "      <td>20</td>\n",
       "      <td>10.0</td>\n",
       "    </tr>\n",
       "    <tr>\n",
       "      <th>4</th>\n",
       "      <td>3007858</td>\n",
       "      <td>196724</td>\n",
       "      <td>2</td>\n",
       "      <td>4</td>\n",
       "      <td>12</td>\n",
       "      <td>17.0</td>\n",
       "    </tr>\n",
       "    <tr>\n",
       "      <th>...</th>\n",
       "      <td>...</td>\n",
       "      <td>...</td>\n",
       "      <td>...</td>\n",
       "      <td>...</td>\n",
       "      <td>...</td>\n",
       "      <td>...</td>\n",
       "    </tr>\n",
       "    <tr>\n",
       "      <th>478962</th>\n",
       "      <td>3210681</td>\n",
       "      <td>5617</td>\n",
       "      <td>5</td>\n",
       "      <td>1</td>\n",
       "      <td>14</td>\n",
       "      <td>7.0</td>\n",
       "    </tr>\n",
       "    <tr>\n",
       "      <th>478963</th>\n",
       "      <td>3270802</td>\n",
       "      <td>112087</td>\n",
       "      <td>2</td>\n",
       "      <td>3</td>\n",
       "      <td>13</td>\n",
       "      <td>6.0</td>\n",
       "    </tr>\n",
       "    <tr>\n",
       "      <th>478964</th>\n",
       "      <td>885349</td>\n",
       "      <td>82944</td>\n",
       "      <td>16</td>\n",
       "      <td>2</td>\n",
       "      <td>11</td>\n",
       "      <td>6.0</td>\n",
       "    </tr>\n",
       "    <tr>\n",
       "      <th>478965</th>\n",
       "      <td>216274</td>\n",
       "      <td>4391</td>\n",
       "      <td>3</td>\n",
       "      <td>3</td>\n",
       "      <td>8</td>\n",
       "      <td>8.0</td>\n",
       "    </tr>\n",
       "    <tr>\n",
       "      <th>478966</th>\n",
       "      <td>2071924</td>\n",
       "      <td>1730</td>\n",
       "      <td>18</td>\n",
       "      <td>1</td>\n",
       "      <td>14</td>\n",
       "      <td>15.0</td>\n",
       "    </tr>\n",
       "  </tbody>\n",
       "</table>\n",
       "<p>478952 rows × 6 columns</p>\n",
       "</div>"
      ],
      "text/plain": [
       "        order_id  user_id  order_number  order_dow  order_hour_of_day  \\\n",
       "0        1515936   183418            11          6                 13   \n",
       "1        1690866   163593             5          5                 12   \n",
       "2        1454967    39980             4          5                 19   \n",
       "3        1768857    82516            56          0                 20   \n",
       "4        3007858   196724             2          4                 12   \n",
       "...          ...      ...           ...        ...                ...   \n",
       "478962   3210681     5617             5          1                 14   \n",
       "478963   3270802   112087             2          3                 13   \n",
       "478964    885349    82944            16          2                 11   \n",
       "478965    216274     4391             3          3                  8   \n",
       "478966   2071924     1730            18          1                 14   \n",
       "\n",
       "        days_since_prior_order  \n",
       "0                         30.0  \n",
       "1                          9.0  \n",
       "2                          2.0  \n",
       "3                         10.0  \n",
       "4                         17.0  \n",
       "...                        ...  \n",
       "478962                     7.0  \n",
       "478963                     6.0  \n",
       "478964                     6.0  \n",
       "478965                     8.0  \n",
       "478966                    15.0  \n",
       "\n",
       "[478952 rows x 6 columns]"
      ]
     },
     "execution_count": 7,
     "metadata": {},
     "output_type": "execute_result"
    }
   ],
   "source": [
    "# Remove duplicate orders\n",
    "df_orders.drop_duplicates()"
   ]
  },
  {
   "cell_type": "code",
   "execution_count": 8,
   "id": "0b2396a2",
   "metadata": {
    "trusted": false
   },
   "outputs": [
    {
     "data": {
      "text/plain": [
       "0         False\n",
       "1         False\n",
       "2         False\n",
       "3         False\n",
       "4         False\n",
       "          ...  \n",
       "478962    False\n",
       "478963    False\n",
       "478964    False\n",
       "478965    False\n",
       "478966    False\n",
       "Length: 478967, dtype: bool"
      ]
     },
     "execution_count": 8,
     "metadata": {},
     "output_type": "execute_result"
    }
   ],
   "source": [
    "# Double check for duplicate rows\n",
    "df_orders.duplicated()\n"
   ]
  },
  {
   "cell_type": "code",
   "execution_count": 9,
   "id": "f6113ef1",
   "metadata": {
    "trusted": false
   },
   "outputs": [
    {
     "data": {
      "text/plain": [
       "15"
      ]
     },
     "execution_count": 9,
     "metadata": {},
     "output_type": "execute_result"
    }
   ],
   "source": [
    "# Double check for duplicate order IDs only\n",
    "df_orders['order_id'].duplicated().sum()\n"
   ]
  },
  {
   "cell_type": "code",
   "execution_count": 10,
   "id": "3cbf6b44",
   "metadata": {
    "trusted": false
   },
   "outputs": [
    {
     "data": {
      "text/plain": [
       "0"
      ]
     },
     "execution_count": 10,
     "metadata": {},
     "output_type": "execute_result"
    }
   ],
   "source": [
    "df_orders = df_orders.drop_duplicates(subset='order_id')\n",
    "df_orders.duplicated().sum()"
   ]
  },
  {
   "cell_type": "markdown",
   "id": "b858d9cb",
   "metadata": {},
   "source": [
    "<div class=\"alert alert-block alert-danger\">✍\n",
    "    \n",
    "\n",
    "__Reviewer's comment №1__\n",
    "\n",
    "duplicates are not deleted. Fix it, please."
   ]
  },
  {
   "cell_type": "markdown",
   "id": "5e8905ae",
   "metadata": {},
   "source": [
    "<div class=\"alert alert-info\"> <b>Student сomments:</b> duplicates are now removed.</div>"
   ]
  },
  {
   "cell_type": "markdown",
   "id": "5b58e43a",
   "metadata": {},
   "source": [
    "<div class=\"alert alert-block alert-success\">✔️\n",
    "    \n",
    "\n",
    "__Reviewer's comment №2__\n",
    "\n",
    "Duplicate checking is the basis of data preprocessing"
   ]
  },
  {
   "cell_type": "markdown",
   "id": "45e6bc46",
   "metadata": {},
   "source": [
    "### `products` data frame"
   ]
  },
  {
   "cell_type": "code",
   "execution_count": 11,
   "id": "5f526b5b-8175-46fa-a0fd-441767d50e64",
   "metadata": {
    "trusted": false
   },
   "outputs": [
    {
     "data": {
      "text/plain": [
       "0        False\n",
       "1        False\n",
       "2        False\n",
       "3        False\n",
       "4        False\n",
       "         ...  \n",
       "49689    False\n",
       "49690    False\n",
       "49691    False\n",
       "49692    False\n",
       "49693    False\n",
       "Length: 49694, dtype: bool"
      ]
     },
     "execution_count": 11,
     "metadata": {},
     "output_type": "execute_result"
    }
   ],
   "source": [
    "# Check for fully duplicate rows\n",
    "df_products.duplicated()\n",
    "# data shows no duplicate rows"
   ]
  },
  {
   "cell_type": "code",
   "execution_count": 12,
   "id": "88daa4f4",
   "metadata": {
    "trusted": false
   },
   "outputs": [
    {
     "data": {
      "text/plain": [
       "0        False\n",
       "1        False\n",
       "2        False\n",
       "3        False\n",
       "4        False\n",
       "         ...  \n",
       "49689    False\n",
       "49690    False\n",
       "49691    False\n",
       "49692    False\n",
       "49693    False\n",
       "Name: product_id, Length: 49694, dtype: bool"
      ]
     },
     "execution_count": 12,
     "metadata": {},
     "output_type": "execute_result"
    }
   ],
   "source": [
    "# Check for just duplicate product IDs\n",
    "df_products['product_id'].duplicated()\n",
    "\n",
    "# data shows no duplicates in the product id column"
   ]
  },
  {
   "cell_type": "code",
   "execution_count": 13,
   "id": "c773f0bf",
   "metadata": {
    "trusted": false
   },
   "outputs": [
    {
     "data": {
      "text/html": [
       "<div>\n",
       "<style scoped>\n",
       "    .dataframe tbody tr th:only-of-type {\n",
       "        vertical-align: middle;\n",
       "    }\n",
       "\n",
       "    .dataframe tbody tr th {\n",
       "        vertical-align: top;\n",
       "    }\n",
       "\n",
       "    .dataframe thead th {\n",
       "        text-align: right;\n",
       "    }\n",
       "</style>\n",
       "<table border=\"1\" class=\"dataframe\">\n",
       "  <thead>\n",
       "    <tr style=\"text-align: right;\">\n",
       "      <th></th>\n",
       "      <th>product_id</th>\n",
       "      <th>product_name</th>\n",
       "      <th>aisle_id</th>\n",
       "      <th>department_id</th>\n",
       "    </tr>\n",
       "  </thead>\n",
       "  <tbody>\n",
       "    <tr>\n",
       "      <th>37</th>\n",
       "      <td>38</td>\n",
       "      <td>NaN</td>\n",
       "      <td>100</td>\n",
       "      <td>21</td>\n",
       "    </tr>\n",
       "    <tr>\n",
       "      <th>41</th>\n",
       "      <td>42</td>\n",
       "      <td>biotin 1000 mcg</td>\n",
       "      <td>47</td>\n",
       "      <td>11</td>\n",
       "    </tr>\n",
       "    <tr>\n",
       "      <th>71</th>\n",
       "      <td>72</td>\n",
       "      <td>NaN</td>\n",
       "      <td>100</td>\n",
       "      <td>21</td>\n",
       "    </tr>\n",
       "    <tr>\n",
       "      <th>109</th>\n",
       "      <td>110</td>\n",
       "      <td>NaN</td>\n",
       "      <td>100</td>\n",
       "      <td>21</td>\n",
       "    </tr>\n",
       "    <tr>\n",
       "      <th>185</th>\n",
       "      <td>186</td>\n",
       "      <td>fresh scent dishwasher detergent with dawn</td>\n",
       "      <td>74</td>\n",
       "      <td>17</td>\n",
       "    </tr>\n",
       "    <tr>\n",
       "      <th>...</th>\n",
       "      <td>...</td>\n",
       "      <td>...</td>\n",
       "      <td>...</td>\n",
       "      <td>...</td>\n",
       "    </tr>\n",
       "    <tr>\n",
       "      <th>49689</th>\n",
       "      <td>49690</td>\n",
       "      <td>high performance energy drink</td>\n",
       "      <td>64</td>\n",
       "      <td>7</td>\n",
       "    </tr>\n",
       "    <tr>\n",
       "      <th>49690</th>\n",
       "      <td>49691</td>\n",
       "      <td>original pancake &amp; waffle mix</td>\n",
       "      <td>130</td>\n",
       "      <td>14</td>\n",
       "    </tr>\n",
       "    <tr>\n",
       "      <th>49691</th>\n",
       "      <td>49692</td>\n",
       "      <td>organic instant oatmeal light maple brown sugar</td>\n",
       "      <td>130</td>\n",
       "      <td>14</td>\n",
       "    </tr>\n",
       "    <tr>\n",
       "      <th>49692</th>\n",
       "      <td>49693</td>\n",
       "      <td>spring water body wash</td>\n",
       "      <td>127</td>\n",
       "      <td>11</td>\n",
       "    </tr>\n",
       "    <tr>\n",
       "      <th>49693</th>\n",
       "      <td>49694</td>\n",
       "      <td>burrito- steak &amp; cheese</td>\n",
       "      <td>38</td>\n",
       "      <td>1</td>\n",
       "    </tr>\n",
       "  </tbody>\n",
       "</table>\n",
       "<p>1465 rows × 4 columns</p>\n",
       "</div>"
      ],
      "text/plain": [
       "       product_id                                     product_name  aisle_id  \\\n",
       "37             38                                              NaN       100   \n",
       "41             42                                  biotin 1000 mcg        47   \n",
       "71             72                                              NaN       100   \n",
       "109           110                                              NaN       100   \n",
       "185           186       fresh scent dishwasher detergent with dawn        74   \n",
       "...           ...                                              ...       ...   \n",
       "49689       49690                    high performance energy drink        64   \n",
       "49690       49691                    original pancake & waffle mix       130   \n",
       "49691       49692  organic instant oatmeal light maple brown sugar       130   \n",
       "49692       49693                           spring water body wash       127   \n",
       "49693       49694                          burrito- steak & cheese        38   \n",
       "\n",
       "       department_id  \n",
       "37                21  \n",
       "41                11  \n",
       "71                21  \n",
       "109               21  \n",
       "185               17  \n",
       "...              ...  \n",
       "49689              7  \n",
       "49690             14  \n",
       "49691             14  \n",
       "49692             11  \n",
       "49693              1  \n",
       "\n",
       "[1465 rows x 4 columns]"
      ]
     },
     "execution_count": 13,
     "metadata": {},
     "output_type": "execute_result"
    }
   ],
   "source": [
    "# Check for just duplicate product names (convert names to lowercase to compare better)\n",
    "df_products['product_name'] = df_products['product_name'].str.lower()\n",
    "# check for duplicate product names\n",
    "duplicates = df_products[df_products.duplicated('product_name', keep=False)]\n",
    "(duplicates)\n",
    "# went with this method to be sure to select all rows and where the product name is duplicated and not just first occurrence. \n",
    "# data observations suggest all itmes in aisle 100 and department 21 are missing product names\n"
   ]
  },
  {
   "cell_type": "code",
   "execution_count": 14,
   "id": "01efd02e",
   "metadata": {
    "trusted": false
   },
   "outputs": [
    {
     "name": "stdout",
     "output_type": "stream",
     "text": [
      "104\n"
     ]
    }
   ],
   "source": [
    "# Check for duplicate product names that aren't missing\n",
    "# Drop rows where the product names are missing \n",
    "df_products_one = df_products.dropna(subset=['product_name'])\n",
    "print(df_products_one['product_name'].str.lower().duplicated().sum())"
   ]
  },
  {
   "cell_type": "markdown",
   "id": "2612b5db",
   "metadata": {},
   "source": [
    "<div class=\"alert alert-block alert-danger\">✍\n",
    "    \n",
    "\n",
    "__Reviewer's comment №1__\n",
    "\n",
    "No variable overwrite "
   ]
  },
  {
   "cell_type": "markdown",
   "id": "32da31f2",
   "metadata": {},
   "source": [
    "<div class=\"alert alert-info\"> <b>Student сomments:</b> fixed.</div>"
   ]
  },
  {
   "cell_type": "markdown",
   "id": "60f30db1",
   "metadata": {},
   "source": [
    "### `departments` data frame"
   ]
  },
  {
   "cell_type": "code",
   "execution_count": 15,
   "id": "fb410ad4-0fbf-4b80-bb09-23fdea79afe3",
   "metadata": {
    "trusted": false
   },
   "outputs": [
    {
     "data": {
      "text/plain": [
       "0"
      ]
     },
     "execution_count": 15,
     "metadata": {},
     "output_type": "execute_result"
    }
   ],
   "source": [
    "# assuming we are to repeat steps from the previous dataframes here \n",
    "# Check for duplicates\n",
    "df_departments.duplicated().sum()\n",
    "# data suggest there are no duplicates "
   ]
  },
  {
   "cell_type": "code",
   "execution_count": 16,
   "id": "332b12bb",
   "metadata": {
    "trusted": false
   },
   "outputs": [
    {
     "data": {
      "text/plain": [
       "0"
      ]
     },
     "execution_count": 16,
     "metadata": {},
     "output_type": "execute_result"
    }
   ],
   "source": [
    "df_departments['department_id'].duplicated().sum()\n",
    "\n",
    "# data suggest there are no duplicates \n"
   ]
  },
  {
   "cell_type": "markdown",
   "id": "bd30d78e",
   "metadata": {},
   "source": []
  },
  {
   "cell_type": "markdown",
   "id": "889349c1",
   "metadata": {},
   "source": [
    "### `aisles` data frame"
   ]
  },
  {
   "cell_type": "code",
   "execution_count": 17,
   "id": "9da89fb9-4679-40f5-ad0d-c34df753a3f8",
   "metadata": {
    "trusted": false
   },
   "outputs": [
    {
     "data": {
      "text/plain": [
       "0"
      ]
     },
     "execution_count": 17,
     "metadata": {},
     "output_type": "execute_result"
    }
   ],
   "source": [
    "# check for duplicates \n",
    "df_aisles.duplicated().sum()\n",
    "#data suggest there are no duplicates"
   ]
  },
  {
   "cell_type": "code",
   "execution_count": 18,
   "id": "da7c2822",
   "metadata": {
    "trusted": false
   },
   "outputs": [
    {
     "data": {
      "text/plain": [
       "0"
      ]
     },
     "execution_count": 18,
     "metadata": {},
     "output_type": "execute_result"
    }
   ],
   "source": [
    "df_aisles['aisle_id'].duplicated().sum()"
   ]
  },
  {
   "cell_type": "markdown",
   "id": "ac63826f",
   "metadata": {},
   "source": []
  },
  {
   "cell_type": "markdown",
   "id": "274cd06a",
   "metadata": {},
   "source": [
    "### `order_products` data frame"
   ]
  },
  {
   "cell_type": "code",
   "execution_count": 19,
   "id": "52326689-84a8-4b8f-a881-7c68780f62c9",
   "metadata": {
    "trusted": false
   },
   "outputs": [
    {
     "data": {
      "text/plain": [
       "0"
      ]
     },
     "execution_count": 19,
     "metadata": {},
     "output_type": "execute_result"
    }
   ],
   "source": [
    "# Check for fullly duplicate rows\n",
    "df_order_products.duplicated().sum()"
   ]
  },
  {
   "cell_type": "code",
   "execution_count": 20,
   "id": "7b861391",
   "metadata": {
    "trusted": false
   },
   "outputs": [
    {
     "data": {
      "text/plain": [
       "0"
      ]
     },
     "execution_count": 20,
     "metadata": {},
     "output_type": "execute_result"
    }
   ],
   "source": [
    "# Double check for any other tricky duplicates\n",
    "df_order_products[['order_id', 'product_id']].duplicated().sum()\n"
   ]
  },
  {
   "cell_type": "markdown",
   "id": "0b890492",
   "metadata": {},
   "source": [
    "<div class=\"alert alert-block alert-danger\">✍\n",
    "    \n",
    "\n",
    "__Reviewer's comment №1__\n",
    "\n",
    "We need to check for duplicate columns: 'order_id` and 'product_id'\n",
    "    "
   ]
  },
  {
   "cell_type": "markdown",
   "id": "aca6abb3",
   "metadata": {},
   "source": [
    "<div class=\"alert alert-info\"> <b>Student сomments:</b> fixed.</div>  "
   ]
  },
  {
   "cell_type": "markdown",
   "id": "2f97515f",
   "metadata": {},
   "source": [
    "<div class=\"alert alert-block alert-success\">✔️\n",
    "    \n",
    "\n",
    "__Reviewer's comment №2__\n",
    "\n",
    "That's right, well done!)"
   ]
  },
  {
   "cell_type": "markdown",
   "id": "1e46de76",
   "metadata": {},
   "source": [
    "## Find and remove missing values\n"
   ]
  },
  {
   "cell_type": "markdown",
   "id": "c0aebd78",
   "metadata": {},
   "source": [
    "### `products` data frame"
   ]
  },
  {
   "cell_type": "code",
   "execution_count": 21,
   "id": "fe4a8b0f",
   "metadata": {
    "trusted": false
   },
   "outputs": [
    {
     "data": {
      "text/plain": [
       "product_id          0\n",
       "product_name     1258\n",
       "aisle_id            0\n",
       "department_id       0\n",
       "dtype: int64"
      ]
     },
     "execution_count": 21,
     "metadata": {},
     "output_type": "execute_result"
    }
   ],
   "source": [
    "df_products.isna().sum()"
   ]
  },
  {
   "cell_type": "code",
   "execution_count": 22,
   "id": "e96167bc",
   "metadata": {
    "trusted": false
   },
   "outputs": [
    {
     "data": {
      "text/plain": [
       "True"
      ]
     },
     "execution_count": 22,
     "metadata": {},
     "output_type": "execute_result"
    }
   ],
   "source": [
    "# Are all of the missing product names associated with aisle ID 100?\n",
    "#filtering on multiple conditions\n",
    "#if first conditon is null, second if aisleid is 100\n",
    "\n",
    "missing_values = len(df_products[(df_products['product_name'].isna()) & (df_products['aisle_id'] == 100)]) == (df_products['product_name'].isna().sum())\n",
    "                                                                                                               \n",
    "                                                                                \n",
    "(missing_values)\n"
   ]
  },
  {
   "cell_type": "code",
   "execution_count": 23,
   "id": "8fd0a541",
   "metadata": {
    "trusted": false
   },
   "outputs": [
    {
     "data": {
      "text/plain": [
       "True"
      ]
     },
     "execution_count": 23,
     "metadata": {},
     "output_type": "execute_result"
    }
   ],
   "source": [
    "# Are all of the missing product names associated with department ID 21?\n",
    "#filterring on multiple conditions if first condition is null and second is dept id 21\n",
    "missing_value = len(df_products[(df_products['product_name'].isna()) & (df_products['department_id'] == 21)]) == (df_products['product_name'].isna().sum())\n",
    "(missing_value)\n"
   ]
  },
  {
   "cell_type": "code",
   "execution_count": 24,
   "id": "325c3464",
   "metadata": {
    "trusted": false
   },
   "outputs": [],
   "source": [
    "# What is this ailse and department?\n",
    "\n"
   ]
  },
  {
   "cell_type": "code",
   "execution_count": 25,
   "id": "6b295120",
   "metadata": {
    "trusted": false
   },
   "outputs": [
    {
     "data": {
      "text/plain": [
       "product_id       0\n",
       "product_name     0\n",
       "aisle_id         0\n",
       "department_id    0\n",
       "dtype: int64"
      ]
     },
     "execution_count": 25,
     "metadata": {},
     "output_type": "execute_result"
    }
   ],
   "source": [
    "# Fill missing product names with 'Unknown'\n",
    "df_products['product_name']= df_products['product_name'].fillna(value= 'Unknown')\n",
    "#check to see if there are still missing product names\n",
    "df_products.isna().sum()\n"
   ]
  },
  {
   "cell_type": "markdown",
   "id": "da8914b4",
   "metadata": {},
   "source": [
    "<div class=\"alert alert-block alert-success\">✔️\n",
    "    \n",
    "\n",
    "__Reviewer's comment №1__\n",
    "\n",
    "You chose the most correct way to replace the omissions in the categorical column. Well done!)"
   ]
  },
  {
   "cell_type": "markdown",
   "id": "fc70e5ad",
   "metadata": {},
   "source": []
  },
  {
   "cell_type": "markdown",
   "id": "7eb45c86",
   "metadata": {},
   "source": [
    "### `orders` data frame"
   ]
  },
  {
   "cell_type": "code",
   "execution_count": 26,
   "id": "93e41d96",
   "metadata": {
    "trusted": false
   },
   "outputs": [
    {
     "data": {
      "text/plain": [
       "order_id                      0\n",
       "user_id                       0\n",
       "order_number                  0\n",
       "order_dow                     0\n",
       "order_hour_of_day             0\n",
       "days_since_prior_order    28817\n",
       "dtype: int64"
      ]
     },
     "execution_count": 26,
     "metadata": {},
     "output_type": "execute_result"
    }
   ],
   "source": [
    "df_orders.isna().sum()"
   ]
  },
  {
   "cell_type": "code",
   "execution_count": 27,
   "id": "166e5a86",
   "metadata": {
    "trusted": false
   },
   "outputs": [
    {
     "name": "stdout",
     "output_type": "stream",
     "text": [
      "There are 0 missing values where it's not the customer's first order.\n"
     ]
    }
   ],
   "source": [
    "# Are there any missing values where it's not a customer's first order?\n",
    "# would need to filter for rows where its not the customer's first order\n",
    "non_first_order = df_orders[df_orders['order_number'] > 1]\n",
    "\n",
    "#check the days_since_prior_order column for missing values\n",
    "missing_values = non_first_order['days_since_prior_order'].isna().sum()\n",
    "\n",
    "print(f\"There are {missing_values} missing values where it's not the customer's first order.\")"
   ]
  },
  {
   "cell_type": "markdown",
   "id": "4e23d089",
   "metadata": {},
   "source": []
  },
  {
   "cell_type": "markdown",
   "id": "69dc9ca4",
   "metadata": {},
   "source": [
    "### `order_products` data frame"
   ]
  },
  {
   "cell_type": "code",
   "execution_count": 28,
   "id": "b8240253",
   "metadata": {
    "trusted": false
   },
   "outputs": [
    {
     "data": {
      "text/html": [
       "<div>\n",
       "<style scoped>\n",
       "    .dataframe tbody tr th:only-of-type {\n",
       "        vertical-align: middle;\n",
       "    }\n",
       "\n",
       "    .dataframe tbody tr th {\n",
       "        vertical-align: top;\n",
       "    }\n",
       "\n",
       "    .dataframe thead th {\n",
       "        text-align: right;\n",
       "    }\n",
       "</style>\n",
       "<table border=\"1\" class=\"dataframe\">\n",
       "  <thead>\n",
       "    <tr style=\"text-align: right;\">\n",
       "      <th></th>\n",
       "      <th>order_id</th>\n",
       "      <th>product_id</th>\n",
       "      <th>add_to_cart_order</th>\n",
       "      <th>reordered</th>\n",
       "    </tr>\n",
       "  </thead>\n",
       "  <tbody>\n",
       "    <tr>\n",
       "      <th>0</th>\n",
       "      <td>2141543</td>\n",
       "      <td>11440</td>\n",
       "      <td>17.0</td>\n",
       "      <td>0</td>\n",
       "    </tr>\n",
       "    <tr>\n",
       "      <th>1</th>\n",
       "      <td>567889</td>\n",
       "      <td>1560</td>\n",
       "      <td>1.0</td>\n",
       "      <td>1</td>\n",
       "    </tr>\n",
       "    <tr>\n",
       "      <th>2</th>\n",
       "      <td>2261212</td>\n",
       "      <td>26683</td>\n",
       "      <td>1.0</td>\n",
       "      <td>1</td>\n",
       "    </tr>\n",
       "    <tr>\n",
       "      <th>3</th>\n",
       "      <td>491251</td>\n",
       "      <td>8670</td>\n",
       "      <td>35.0</td>\n",
       "      <td>1</td>\n",
       "    </tr>\n",
       "    <tr>\n",
       "      <th>4</th>\n",
       "      <td>2571142</td>\n",
       "      <td>1940</td>\n",
       "      <td>5.0</td>\n",
       "      <td>1</td>\n",
       "    </tr>\n",
       "    <tr>\n",
       "      <th>...</th>\n",
       "      <td>...</td>\n",
       "      <td>...</td>\n",
       "      <td>...</td>\n",
       "      <td>...</td>\n",
       "    </tr>\n",
       "    <tr>\n",
       "      <th>4545002</th>\n",
       "      <td>577211</td>\n",
       "      <td>15290</td>\n",
       "      <td>12.0</td>\n",
       "      <td>1</td>\n",
       "    </tr>\n",
       "    <tr>\n",
       "      <th>4545003</th>\n",
       "      <td>1219554</td>\n",
       "      <td>21914</td>\n",
       "      <td>9.0</td>\n",
       "      <td>0</td>\n",
       "    </tr>\n",
       "    <tr>\n",
       "      <th>4545004</th>\n",
       "      <td>692640</td>\n",
       "      <td>47766</td>\n",
       "      <td>4.0</td>\n",
       "      <td>1</td>\n",
       "    </tr>\n",
       "    <tr>\n",
       "      <th>4545005</th>\n",
       "      <td>319435</td>\n",
       "      <td>691</td>\n",
       "      <td>8.0</td>\n",
       "      <td>1</td>\n",
       "    </tr>\n",
       "    <tr>\n",
       "      <th>4545006</th>\n",
       "      <td>1398151</td>\n",
       "      <td>28733</td>\n",
       "      <td>9.0</td>\n",
       "      <td>0</td>\n",
       "    </tr>\n",
       "  </tbody>\n",
       "</table>\n",
       "<p>4545007 rows × 4 columns</p>\n",
       "</div>"
      ],
      "text/plain": [
       "         order_id  product_id  add_to_cart_order  reordered\n",
       "0         2141543       11440               17.0          0\n",
       "1          567889        1560                1.0          1\n",
       "2         2261212       26683                1.0          1\n",
       "3          491251        8670               35.0          1\n",
       "4         2571142        1940                5.0          1\n",
       "...           ...         ...                ...        ...\n",
       "4545002    577211       15290               12.0          1\n",
       "4545003   1219554       21914                9.0          0\n",
       "4545004    692640       47766                4.0          1\n",
       "4545005    319435         691                8.0          1\n",
       "4545006   1398151       28733                9.0          0\n",
       "\n",
       "[4545007 rows x 4 columns]"
      ]
     },
     "execution_count": 28,
     "metadata": {},
     "output_type": "execute_result"
    }
   ],
   "source": [
    "df_order_products.isna().sum()\n",
    "df_order_products"
   ]
  },
  {
   "cell_type": "code",
   "execution_count": 29,
   "id": "9a78e5ee",
   "metadata": {
    "trusted": false
   },
   "outputs": [
    {
     "name": "stdout",
     "output_type": "stream",
     "text": [
      "1.0\n",
      "64.0\n"
     ]
    }
   ],
   "source": [
    "# What are the min and max values in this column?\n",
    "print(df_order_products['add_to_cart_order'].min())\n",
    "\n",
    "print(df_order_products['add_to_cart_order'].max())\n"
   ]
  },
  {
   "cell_type": "code",
   "execution_count": 30,
   "id": "ab9d0c2b",
   "metadata": {
    "trusted": false
   },
   "outputs": [
    {
     "data": {
      "text/plain": [
       "array([2449164, 1968313, 2926893, 1717990, 1959075,  844733,   61355,\n",
       "        936852,  264710, 1564093,  129627,  293169, 2849370, 1386261,\n",
       "       3308010,  903110, 2136777, 3347453, 1888628,  165801, 2094761,\n",
       "       1038146, 2997021,  813364, 2256933,  171934, 2409109, 1730767,\n",
       "       1169835,  733526,  404157, 3125735,  747668, 1800005, 1961723,\n",
       "        871281,  388234, 1648217, 1477139,  102236, 1021563, 1832957,\n",
       "       2721963,  678116, 1220886, 1673227, 2999801, 1633337, 2470674,\n",
       "       2625444, 1677118, 2479011, 3383594, 1183255, 1713430, 2652650,\n",
       "       1598369, 1916118,  854647, 1302315,  888470,  180546, 2621907,\n",
       "       1308785, 2729254,    9310, 2170451, 2979697, 1625713, 1529171],\n",
       "      dtype=int64)"
      ]
     },
     "execution_count": 30,
     "metadata": {},
     "output_type": "execute_result"
    }
   ],
   "source": [
    "# Save all order IDs with at least one missing value in 'add_to_cart_order'\n",
    "missing_add_to_cart_order = df_order_products[df_order_products['add_to_cart_order'].isna()]\n",
    "\n",
    "order_ids_with_missing_values_list = missing_add_to_cart_order['order_id'].unique()\n",
    "(order_ids_with_missing_values_list)"
   ]
  },
  {
   "cell_type": "code",
   "execution_count": 31,
   "id": "54c31695",
   "metadata": {
    "trusted": false
   },
   "outputs": [
    {
     "name": "stdout",
     "output_type": "stream",
     "text": [
      "Do all orders with missing values have more than 64 products? False\n"
     ]
    }
   ],
   "source": [
    "# Do all orders with missing values have more than 64 products?\n",
    "# filter for orders with missing values\n",
    "missing_add_to_cart_order = df_order_products[df_order_products['add_to_cart_order'].isna()]\n",
    "#group by order id to count products per order\n",
    "product_counts = missing_add_to_cart_order.groupby('order_id').size()\n",
    "product_counts\n",
    "#check if all products have more than 64 products by comparing the count for each order and returning if condition is met on all orders\n",
    "products_65 = (product_counts > 64).all()\n",
    "print(f\"Do all orders with missing values have more than 64 products? {products_65}\")"
   ]
  },
  {
   "cell_type": "code",
   "execution_count": 32,
   "id": "7a987d08",
   "metadata": {
    "trusted": false
   },
   "outputs": [
    {
     "name": "stderr",
     "output_type": "stream",
     "text": [
      "C:\\Users\\19016\\AppData\\Local\\Temp\\ipykernel_24680\\301739944.py:2: FutureWarning: A value is trying to be set on a copy of a DataFrame or Series through chained assignment using an inplace method.\n",
      "The behavior will change in pandas 3.0. This inplace method will never work because the intermediate object on which we are setting values always behaves as a copy.\n",
      "\n",
      "For example, when doing 'df[col].method(value, inplace=True)', try using 'df.method({col: value}, inplace=True)' or df[col] = df[col].method(value) instead, to perform the operation inplace on the original object.\n",
      "\n",
      "\n",
      "  df_order_products['add_to_cart_order'].fillna(999, inplace=True)\n"
     ]
    },
    {
     "data": {
      "text/plain": [
       "0          17\n",
       "1           1\n",
       "2           1\n",
       "3          35\n",
       "4           5\n",
       "           ..\n",
       "4545002    12\n",
       "4545003     9\n",
       "4545004     4\n",
       "4545005     8\n",
       "4545006     9\n",
       "Name: add_to_cart_order, Length: 4545007, dtype: int32"
      ]
     },
     "execution_count": 32,
     "metadata": {},
     "output_type": "execute_result"
    }
   ],
   "source": [
    "# Replace missing values with 999 and convert column to integer type\n",
    "df_order_products['add_to_cart_order'].fillna(999, inplace=True)\n",
    "\n",
    "df_order_products['add_to_cart_order'].astype(int)\n"
   ]
  },
  {
   "cell_type": "markdown",
   "id": "0b111d19",
   "metadata": {},
   "source": [
    "<div class=\"alert alert-block alert-warning\">📝\n",
    "    \n",
    "\n",
    "__Reviewer's comment №1__\n",
    "\n",
    "\n",
    "Replacing it with 999/-1 etc is not really good. Tip for the future, look, it's not good to try to fill in the blanks left and right. In real work - replace with zero now, then forget and average count a month later. Plus there may be times when a bonus purchase or gift, will cost zero. In general, if it is possible to leave skips as skips - and here it can be done, it is better to do so, the results, even if we want to calculate something - it will not affect the results\n",
    "\n",
    "It is better to use this code construction:\n",
    "    \n",
    "    data[''] = data[''].astype('Int64', errors='ignore')\n",
    "</div>"
   ]
  },
  {
   "cell_type": "markdown",
   "id": "f40f647e",
   "metadata": {},
   "source": [
    "<div class=\"alert alert-info\"> <b>Student сomments:</b> ok thank you .</div>  "
   ]
  },
  {
   "cell_type": "markdown",
   "id": "fea4bcc7",
   "metadata": {},
   "source": []
  },
  {
   "cell_type": "markdown",
   "id": "turkish-kidney",
   "metadata": {},
   "source": [
    "# [A] Easy (must complete all to pass)"
   ]
  },
  {
   "cell_type": "markdown",
   "id": "short-capability",
   "metadata": {},
   "source": [
    "### [A1] Verify that the `'order_hour_of_day'` and `'order_dow'` values in the `orders` tables are sensible (i.e. `'order_hour_of_day'` ranges from 0 to 23 and `'order_dow'` ranges from 0 to 6)"
   ]
  },
  {
   "cell_type": "code",
   "execution_count": 33,
   "id": "growing-fruit",
   "metadata": {
    "trusted": false
   },
   "outputs": [
    {
     "name": "stdout",
     "output_type": "stream",
     "text": [
      "Min order_hour_of_day:0\n",
      "Max order_hour_of_day:23\n",
      "Min order_dow: 0\n",
      "Max order_dow: 6\n"
     ]
    }
   ],
   "source": [
    "min_hour = df_orders['order_hour_of_day'].min()\n",
    "max_hour = df_orders['order_hour_of_day'].max()\n",
    "\n",
    "print(f\"Min order_hour_of_day:{min_hour}\")\n",
    "print(f\"Max order_hour_of_day:{max_hour}\")\n",
    "\n",
    "min_dow = df_orders['order_dow'].min()\n",
    "max_dow = df_orders['order_dow'].max()\n",
    "\n",
    "print(f\"Min order_dow: {min_dow}\")\n",
    "print(f\"Max order_dow: {max_dow}\")"
   ]
  },
  {
   "cell_type": "markdown",
   "id": "ee402805",
   "metadata": {},
   "source": [
    "<div class=\"alert alert-block alert-success\">✔️\n",
    "    \n",
    "\n",
    "__Reviewer's comment №1__\n",
    "\n",
    "All right"
   ]
  },
  {
   "cell_type": "code",
   "execution_count": 34,
   "id": "accessory-malaysia",
   "metadata": {
    "trusted": false
   },
   "outputs": [
    {
     "data": {
      "image/png": "[encoded data removed]",
      "text/plain": [
       "<Figure size 1000x600 with 1 Axes>"
      ]
     },
     "metadata": {},
     "output_type": "display_data"
    }
   ],
   "source": [
    "import pandas as pd\n",
    "from matplotlib import pyplot as plt\n",
    "\n",
    "hourly_order_counts = df_orders.groupby('order_hour_of_day')['user_id'].nunique()\n",
    "\n",
    "plt.figure(figsize= (10,6))\n",
    "hourly_order_counts.plot(kind='bar',\n",
    "                        color='skyblue',\n",
    "                        edgecolor= 'black',)\n",
    "\n",
    "plt.title('orders placed by Hour of the Day')\n",
    "plt.xlabel('Hour of the Day')\n",
    "plt.ylabel('Number of Unique Users')\n",
    "plt.xticks(range(24), range(24), rotation=45)\n",
    "plt.grid(axis='y', linestyle='--', alpha=0.7)\n",
    "plt.show()"
   ]
  },
  {
   "attachments": {
    "image.png": {
     "image/png": "[encoded data removed]"
    }
   },
   "cell_type": "markdown",
   "id": "fd005adb",
   "metadata": {},
   "source": [
    "<div class=\"alert alert-block alert-danger\">✍\n",
    "    \n",
    "\n",
    "__Reviewer's comment №1__\n",
    "\n",
    "It is better after each section, graph (or series of tests) to write a conclusion on the obtained data taking into account the set business task - so it is easier to read the project, because future colleagues or customers will not have to interpret the results of each section, test or graph themselves.\n",
    "    \n",
    "In markdown ![image.png](attachment:image.png)    "
   ]
  },
  {
   "cell_type": "markdown",
   "id": "4e891afb",
   "metadata": {},
   "source": [
    "<div class=\"alert alert-info\"> <b>Student сomments:</b> data shows that the most orders are placed between the hours of 10am and 5pm, this would obviously vary per timezone </div>  "
   ]
  },
  {
   "cell_type": "markdown",
   "id": "64a9630a",
   "metadata": {},
   "source": [
    "<div class=\"alert alert-block alert-success\">✔️\n",
    "    \n",
    "\n",
    "__Reviewer's comment №2__\n",
    "\n",
    "Great"
   ]
  },
  {
   "cell_type": "markdown",
   "id": "297fceaf",
   "metadata": {},
   "source": [
    "### [A2] What time of day do people shop for groceries?"
   ]
  },
  {
   "cell_type": "markdown",
   "id": "775e08ea",
   "metadata": {},
   "source": []
  },
  {
   "cell_type": "markdown",
   "id": "11270eed",
   "metadata": {},
   "source": []
  },
  {
   "cell_type": "markdown",
   "id": "documented-command",
   "metadata": {},
   "source": [
    "### [A3] What day of the week do people shop for groceries?"
   ]
  },
  {
   "cell_type": "code",
   "execution_count": 35,
   "id": "chief-digit",
   "metadata": {
    "trusted": false
   },
   "outputs": [
    {
     "data": {
      "image/png": "[encoded data removed]",
      "text/plain": [
       "<Figure size 1000x600 with 1 Axes>"
      ]
     },
     "metadata": {},
     "output_type": "display_data"
    }
   ],
   "source": [
    "daily_order_counts = df_orders['order_dow'].value_counts().sort_index()\n",
    "\n",
    "\n",
    "plt.figure(figsize=(10,6))\n",
    "daily_order_counts.plot(kind='bar', color='coral', edgecolor='black')\n",
    "plt.title('Number of Orders by Day of the Week')\n",
    "plt.xlabel('Day of the Week')\n",
    "plt.ylabel('Number of Orders')\n",
    "plt.xticks(ticks=range(7), labels=['Sunday', 'Monday', 'Tuesday', 'Wednesday', 'Thursday', 'Friday', 'Saturday'], rotation=45)\n",
    "plt.grid(axis='y', linestyle='--', alpha=0.7)\n",
    "plt.show()"
   ]
  },
  {
   "cell_type": "markdown",
   "id": "dominant-lightning",
   "metadata": {},
   "source": [
    "<div class=\"alert alert-info\"> <b>Student сomments:</b> this data displays more orders take place to begin the week on either Sunday or Monday </div>  "
   ]
  },
  {
   "cell_type": "markdown",
   "id": "cutting-concert",
   "metadata": {},
   "source": [
    "### [A4] How long do people wait until placing another order?"
   ]
  },
  {
   "cell_type": "code",
   "execution_count": 36,
   "id": "c231f523",
   "metadata": {
    "trusted": false
   },
   "outputs": [
    {
     "data": {
      "image/png": "[encoded data removed]",
      "text/plain": [
       "<Figure size 1000x600 with 1 Axes>"
      ]
     },
     "metadata": {},
     "output_type": "display_data"
    }
   ],
   "source": [
    "plt.figure(figsize=(10,6))\n",
    "df_orders['days_since_prior_order'].plot(kind='hist', bins=50, color='lightblue', edgecolor='black')\n",
    "plt.title('Distributuion of Days Since Prior Order')\n",
    "plt.xlabel('Days Since Prior Order')\n",
    "plt.ylabel('Frequency')\n",
    "plt.grid(axis='y', linestyle='--', alpha=0.7)\n",
    "plt.show()"
   ]
  },
  {
   "cell_type": "markdown",
   "id": "discrete-vertex",
   "metadata": {},
   "source": [
    "<div class=\"alert alert-block alert-success\">✔️\n",
    "    \n",
    "\n",
    "__Reviewer's comment №1__\n",
    "\n",
    "The 0 values probably correspond to customers who placed more than one order on the same day."
   ]
  },
  {
   "cell_type": "code",
   "execution_count": 37,
   "id": "exciting-fantasy",
   "metadata": {
    "trusted": false
   },
   "outputs": [
    {
     "name": "stdout",
     "output_type": "stream",
     "text": [
      "Minimum days since prior order: 0.0\n",
      "Maximum days since prior order: 30.0\n"
     ]
    }
   ],
   "source": [
    "min_days = df_orders['days_since_prior_order'].min()\n",
    "max_days = df_orders['days_since_prior_order'].max()\n",
    "\n",
    "print(f\"Minimum days since prior order: {min_days}\")\n",
    "print(f\"Maximum days since prior order: {max_days}\")"
   ]
  },
  {
   "cell_type": "markdown",
   "id": "8d926614",
   "metadata": {},
   "source": []
  },
  {
   "cell_type": "markdown",
   "id": "tight-staff",
   "metadata": {},
   "source": [
    "# [B] Medium (must complete all to pass)"
   ]
  },
  {
   "cell_type": "markdown",
   "id": "packed-classic",
   "metadata": {},
   "source": [
    "### [B1] Is there a difference in `'order_hour_of_day'` distributions on Wednesdays and Saturdays? Plot the histograms for both days and describe the differences that you see."
   ]
  },
  {
   "cell_type": "code",
   "execution_count": 38,
   "id": "d89b8403",
   "metadata": {
    "trusted": false
   },
   "outputs": [
    {
     "data": {
      "text/plain": [
       "19        10\n",
       "32        17\n",
       "41        15\n",
       "46        17\n",
       "51        10\n",
       "          ..\n",
       "478951    17\n",
       "478953    18\n",
       "478957    14\n",
       "478960    15\n",
       "478964    11\n",
       "Name: order_hour_of_day, Length: 65833, dtype: int64"
      ]
     },
     "metadata": {},
     "output_type": "display_data"
    },
    {
     "data": {
      "text/plain": [
       "0         13\n",
       "11        16\n",
       "14        11\n",
       "20         9\n",
       "26        18\n",
       "          ..\n",
       "478924    10\n",
       "478930    19\n",
       "478943    10\n",
       "478954    21\n",
       "478961    10\n",
       "Name: order_hour_of_day, Length: 62649, dtype: int64"
      ]
     },
     "metadata": {},
     "output_type": "display_data"
    }
   ],
   "source": [
    "#filter data for Wednesday and Saturdays \n",
    "wed_orders = df_orders[df_orders['order_dow'] == 2]['order_hour_of_day']\n",
    "sat_orders = df_orders[df_orders['order_dow'] == 6]['order_hour_of_day']\n",
    "display(wed_orders) \n",
    "display(sat_orders)"
   ]
  },
  {
   "cell_type": "code",
   "execution_count": 39,
   "id": "94e54e8a",
   "metadata": {
    "trusted": false
   },
   "outputs": [
    {
     "data": {
      "image/png": "[encoded data removed]",
      "text/plain": [
       "<Figure size 1200x600 with 1 Axes>"
      ]
     },
     "metadata": {},
     "output_type": "display_data"
    }
   ],
   "source": [
    "plt.figure(figsize=(12,6))\n",
    "plt.hist(wed_orders, bins=24, alpha=0.5, label='Wednesday', color='blue', edgecolor='black')\n",
    "plt.hist(sat_orders, bins=24, alpha=0.5, label='Saturday', color='orange', edgecolor='black')\n",
    "\n",
    "plt.title('Distribution of Order Hour of Day on Wednesdays vs. Saturdays')\n",
    "plt.xlabel('Hour of the Day')\n",
    "plt.ylabel('Frequency')\n",
    "plt.legend()\n",
    "plt.grid(axis='y', linestyle='--', alpha=0.7)\n",
    "plt.xticks(range(24))\n",
    "plt.show()"
   ]
  },
  {
   "cell_type": "code",
   "execution_count": null,
   "id": "797c90a8",
   "metadata": {
    "trusted": false
   },
   "outputs": [],
   "source": []
  },
  {
   "cell_type": "code",
   "execution_count": null,
   "id": "35bcea30",
   "metadata": {
    "trusted": false
   },
   "outputs": [],
   "source": []
  },
  {
   "cell_type": "markdown",
   "id": "charitable-congo",
   "metadata": {},
   "source": []
  },
  {
   "cell_type": "markdown",
   "id": "e3891143",
   "metadata": {},
   "source": [
    "### [B2] What's the distribution for the number of orders per customer?"
   ]
  },
  {
   "cell_type": "code",
   "execution_count": 40,
   "id": "d8c26c23",
   "metadata": {
    "trusted": false
   },
   "outputs": [
    {
     "data": {
      "image/png": "[encoded data removed]",
      "text/plain": [
       "<Figure size 1000x600 with 1 Axes>"
      ]
     },
     "metadata": {},
     "output_type": "display_data"
    }
   ],
   "source": [
    "orders_per_customer = df_orders['user_id'].value_counts()\n",
    "\n",
    "plt.figure(figsize=(10, 6))\n",
    "plt.hist(orders_per_customer, bins=range(1, orders_per_customer.max() +1), alpha=0.7, color='violet', edgecolor='black')\n",
    "plt.title('Distribution of Number of Orders per Customer')\n",
    "plt.xlabel('Number of Orders')\n",
    "plt.ylabel('Number of Customers')\n",
    "plt.grid(axis='y', linestyle='--', alpha=0.7)\n",
    "plt.show()"
   ]
  },
  {
   "cell_type": "code",
   "execution_count": null,
   "id": "00e69a66",
   "metadata": {
    "trusted": false
   },
   "outputs": [],
   "source": []
  },
  {
   "cell_type": "markdown",
   "id": "d2eff7d5",
   "metadata": {},
   "source": []
  },
  {
   "cell_type": "markdown",
   "id": "54a0319c",
   "metadata": {},
   "source": [
    "### [B3] What are the top 20 popular products (display their id and name)?"
   ]
  },
  {
   "cell_type": "code",
   "execution_count": 41,
   "id": "exterior-arizona",
   "metadata": {
    "scrolled": true,
    "trusted": false
   },
   "outputs": [
    {
     "data": {
      "text/plain": [
       "Index([    1, 33146, 33124, 33125, 33126, 33127, 33128, 33129, 33130, 33131,\n",
       "       33132, 33133, 33134, 33135, 33136, 33137, 33138, 33139, 33140, 33141],\n",
       "      dtype='int64', name='product_id')"
      ]
     },
     "execution_count": 41,
     "metadata": {},
     "output_type": "execute_result"
    }
   ],
   "source": [
    "#count the number of times each product is ordered \n",
    "product_counts = df_products['product_id'].value_counts()\n",
    "top_20_products = product_counts.head(20).index\n",
    "top_20_products"
   ]
  },
  {
   "cell_type": "code",
   "execution_count": 42,
   "id": "universal-facial",
   "metadata": {
    "trusted": false
   },
   "outputs": [],
   "source": [
    "#merge with products data\n",
    "df_top_products = df_products[df_products['product_id'].isin(top_20_products)]"
   ]
  },
  {
   "cell_type": "code",
   "execution_count": 43,
   "id": "bbcdd20b",
   "metadata": {
    "trusted": false
   },
   "outputs": [
    {
     "data": {
      "text/html": [
       "<div>\n",
       "<style scoped>\n",
       "    .dataframe tbody tr th:only-of-type {\n",
       "        vertical-align: middle;\n",
       "    }\n",
       "\n",
       "    .dataframe tbody tr th {\n",
       "        vertical-align: top;\n",
       "    }\n",
       "\n",
       "    .dataframe thead th {\n",
       "        text-align: right;\n",
       "    }\n",
       "</style>\n",
       "<table border=\"1\" class=\"dataframe\">\n",
       "  <thead>\n",
       "    <tr style=\"text-align: right;\">\n",
       "      <th></th>\n",
       "      <th>product_id</th>\n",
       "      <th>product_name</th>\n",
       "    </tr>\n",
       "  </thead>\n",
       "  <tbody>\n",
       "    <tr>\n",
       "      <th>0</th>\n",
       "      <td>1</td>\n",
       "      <td>chocolate sandwich cookies</td>\n",
       "    </tr>\n",
       "    <tr>\n",
       "      <th>33123</th>\n",
       "      <td>33124</td>\n",
       "      <td>healthy kids organic chocolate nutritional shake</td>\n",
       "    </tr>\n",
       "    <tr>\n",
       "      <th>33124</th>\n",
       "      <td>33125</td>\n",
       "      <td>organic mini cheddar cheese crackers</td>\n",
       "    </tr>\n",
       "    <tr>\n",
       "      <th>33125</th>\n",
       "      <td>33126</td>\n",
       "      <td>sesame flatbread</td>\n",
       "    </tr>\n",
       "    <tr>\n",
       "      <th>33126</th>\n",
       "      <td>33127</td>\n",
       "      <td>no salt roasted pistachios</td>\n",
       "    </tr>\n",
       "    <tr>\n",
       "      <th>33127</th>\n",
       "      <td>33128</td>\n",
       "      <td>riccardo balsamic vinegar</td>\n",
       "    </tr>\n",
       "    <tr>\n",
       "      <th>33128</th>\n",
       "      <td>33129</td>\n",
       "      <td>classic hummus</td>\n",
       "    </tr>\n",
       "    <tr>\n",
       "      <th>33129</th>\n",
       "      <td>33130</td>\n",
       "      <td>organic salt free cabbage dill raw sauerkrat</td>\n",
       "    </tr>\n",
       "    <tr>\n",
       "      <th>33130</th>\n",
       "      <td>33131</td>\n",
       "      <td>hair remover wax strip kit</td>\n",
       "    </tr>\n",
       "    <tr>\n",
       "      <th>33131</th>\n",
       "      <td>33132</td>\n",
       "      <td>mild red taco sauce</td>\n",
       "    </tr>\n",
       "    <tr>\n",
       "      <th>33132</th>\n",
       "      <td>33133</td>\n",
       "      <td>rising crust spicy italian sausage pizza</td>\n",
       "    </tr>\n",
       "    <tr>\n",
       "      <th>33133</th>\n",
       "      <td>33134</td>\n",
       "      <td>orange recovery energy drink</td>\n",
       "    </tr>\n",
       "    <tr>\n",
       "      <th>33134</th>\n",
       "      <td>33135</td>\n",
       "      <td>organic blueberry kefir</td>\n",
       "    </tr>\n",
       "    <tr>\n",
       "      <th>33135</th>\n",
       "      <td>33136</td>\n",
       "      <td>tissue with lotion aloe &amp; e</td>\n",
       "    </tr>\n",
       "    <tr>\n",
       "      <th>33136</th>\n",
       "      <td>33137</td>\n",
       "      <td>mexican style chili beans</td>\n",
       "    </tr>\n",
       "    <tr>\n",
       "      <th>33137</th>\n",
       "      <td>33138</td>\n",
       "      <td>classic chopped grill feast cat food</td>\n",
       "    </tr>\n",
       "    <tr>\n",
       "      <th>33138</th>\n",
       "      <td>33139</td>\n",
       "      <td>vegetarian worcestershire sauce</td>\n",
       "    </tr>\n",
       "    <tr>\n",
       "      <th>33139</th>\n",
       "      <td>33140</td>\n",
       "      <td>cruisers diapers jumbo pack - size 6</td>\n",
       "    </tr>\n",
       "    <tr>\n",
       "      <th>33140</th>\n",
       "      <td>33141</td>\n",
       "      <td>stir fry sauce</td>\n",
       "    </tr>\n",
       "    <tr>\n",
       "      <th>33145</th>\n",
       "      <td>33146</td>\n",
       "      <td>revolt killer citrus</td>\n",
       "    </tr>\n",
       "  </tbody>\n",
       "</table>\n",
       "</div>"
      ],
      "text/plain": [
       "       product_id                                      product_name\n",
       "0               1                        chocolate sandwich cookies\n",
       "33123       33124  healthy kids organic chocolate nutritional shake\n",
       "33124       33125              organic mini cheddar cheese crackers\n",
       "33125       33126                                  sesame flatbread\n",
       "33126       33127                        no salt roasted pistachios\n",
       "33127       33128                         riccardo balsamic vinegar\n",
       "33128       33129                                    classic hummus\n",
       "33129       33130      organic salt free cabbage dill raw sauerkrat\n",
       "33130       33131                        hair remover wax strip kit\n",
       "33131       33132                               mild red taco sauce\n",
       "33132       33133          rising crust spicy italian sausage pizza\n",
       "33133       33134                      orange recovery energy drink\n",
       "33134       33135                           organic blueberry kefir\n",
       "33135       33136                       tissue with lotion aloe & e\n",
       "33136       33137                         mexican style chili beans\n",
       "33137       33138              classic chopped grill feast cat food\n",
       "33138       33139                   vegetarian worcestershire sauce\n",
       "33139       33140              cruisers diapers jumbo pack - size 6\n",
       "33140       33141                                    stir fry sauce\n",
       "33145       33146                              revolt killer citrus"
      ]
     },
     "execution_count": 43,
     "metadata": {},
     "output_type": "execute_result"
    }
   ],
   "source": [
    "#display the top 20 products relevant columns\n",
    "df_top_products = df_top_products[['product_id', 'product_name']]\n",
    "(df_top_products)"
   ]
  },
  {
   "cell_type": "markdown",
   "id": "7df00f47",
   "metadata": {},
   "source": []
  },
  {
   "cell_type": "markdown",
   "id": "gross-theme",
   "metadata": {},
   "source": [
    "# [C] Hard (must complete at least two to pass)"
   ]
  },
  {
   "cell_type": "markdown",
   "id": "romantic-deposit",
   "metadata": {},
   "source": [
    "### [C1] How many items do people typically buy in one order? What does the distribution look like?"
   ]
  },
  {
   "cell_type": "code",
   "execution_count": 44,
   "id": "virtual-punch",
   "metadata": {
    "trusted": false
   },
   "outputs": [],
   "source": [
    "#calculate the number of items per order\n",
    "items_per_order = df_order_products.groupby('order_id')['product_id'].count().reset_index(name='items_per_order')\n"
   ]
  },
  {
   "cell_type": "code",
   "execution_count": 45,
   "id": "sensitive-breathing",
   "metadata": {
    "trusted": false
   },
   "outputs": [
    {
     "data": {
      "image/png": "[encoded data removed]",
      "text/plain": [
       "<Figure size 1000x600 with 1 Axes>"
      ]
     },
     "metadata": {},
     "output_type": "display_data"
    }
   ],
   "source": [
    "plt.figure(figsize=(10,6))\n",
    "plt.hist(items_per_order['items_per_order'], bins=50, color='skyblue', edgecolor='black')\n",
    "plt.title('Distribution of Number of Items per Order')\n",
    "plt.xlabel('Number of Items')\n",
    "plt.ylabel('Frequency')\n",
    "plt.grid(axis='y', linestyle='--', alpha=0.7)\n",
    "plt.show()"
   ]
  },
  {
   "cell_type": "code",
   "execution_count": null,
   "id": "completed-frank",
   "metadata": {
    "trusted": false
   },
   "outputs": [],
   "source": []
  },
  {
   "cell_type": "markdown",
   "id": "designed-mortality",
   "metadata": {},
   "source": []
  },
  {
   "cell_type": "markdown",
   "id": "5e6b5537",
   "metadata": {},
   "source": [
    "### [C2] What are the top 20 items that are reordered most frequently (display their names and product IDs)?"
   ]
  },
  {
   "cell_type": "code",
   "execution_count": 46,
   "id": "9374e55a",
   "metadata": {
    "trusted": false
   },
   "outputs": [
    {
     "data": {
      "text/html": [
       "<div>\n",
       "<style scoped>\n",
       "    .dataframe tbody tr th:only-of-type {\n",
       "        vertical-align: middle;\n",
       "    }\n",
       "\n",
       "    .dataframe tbody tr th {\n",
       "        vertical-align: top;\n",
       "    }\n",
       "\n",
       "    .dataframe thead th {\n",
       "        text-align: right;\n",
       "    }\n",
       "</style>\n",
       "<table border=\"1\" class=\"dataframe\">\n",
       "  <thead>\n",
       "    <tr style=\"text-align: right;\">\n",
       "      <th></th>\n",
       "      <th>product_id</th>\n",
       "      <th>reorder-count</th>\n",
       "    </tr>\n",
       "  </thead>\n",
       "  <tbody>\n",
       "    <tr>\n",
       "      <th>0</th>\n",
       "      <td>1</td>\n",
       "      <td>158</td>\n",
       "    </tr>\n",
       "    <tr>\n",
       "      <th>1</th>\n",
       "      <td>3</td>\n",
       "      <td>31</td>\n",
       "    </tr>\n",
       "    <tr>\n",
       "      <th>2</th>\n",
       "      <td>4</td>\n",
       "      <td>25</td>\n",
       "    </tr>\n",
       "    <tr>\n",
       "      <th>3</th>\n",
       "      <td>7</td>\n",
       "      <td>1</td>\n",
       "    </tr>\n",
       "    <tr>\n",
       "      <th>4</th>\n",
       "      <td>8</td>\n",
       "      <td>6</td>\n",
       "    </tr>\n",
       "    <tr>\n",
       "      <th>...</th>\n",
       "      <td>...</td>\n",
       "      <td>...</td>\n",
       "    </tr>\n",
       "    <tr>\n",
       "      <th>36223</th>\n",
       "      <td>49690</td>\n",
       "      <td>4</td>\n",
       "    </tr>\n",
       "    <tr>\n",
       "      <th>36224</th>\n",
       "      <td>49691</td>\n",
       "      <td>31</td>\n",
       "    </tr>\n",
       "    <tr>\n",
       "      <th>36225</th>\n",
       "      <td>49692</td>\n",
       "      <td>5</td>\n",
       "    </tr>\n",
       "    <tr>\n",
       "      <th>36226</th>\n",
       "      <td>49693</td>\n",
       "      <td>11</td>\n",
       "    </tr>\n",
       "    <tr>\n",
       "      <th>36227</th>\n",
       "      <td>49694</td>\n",
       "      <td>3</td>\n",
       "    </tr>\n",
       "  </tbody>\n",
       "</table>\n",
       "<p>36228 rows × 2 columns</p>\n",
       "</div>"
      ],
      "text/plain": [
       "       product_id  reorder-count\n",
       "0               1            158\n",
       "1               3             31\n",
       "2               4             25\n",
       "3               7              1\n",
       "4               8              6\n",
       "...           ...            ...\n",
       "36223       49690              4\n",
       "36224       49691             31\n",
       "36225       49692              5\n",
       "36226       49693             11\n",
       "36227       49694              3\n",
       "\n",
       "[36228 rows x 2 columns]"
      ]
     },
     "execution_count": 46,
     "metadata": {},
     "output_type": "execute_result"
    }
   ],
   "source": [
    "#calculate the number of reorders for each product\n",
    "product_reorder_counts = df_order_products[df_order_products['reordered'] == 1].groupby('product_id')['reordered'].count().reset_index(name='reorder-count')\n",
    "\n",
    "(product_reorder_counts)"
   ]
  },
  {
   "cell_type": "code",
   "execution_count": 47,
   "id": "possible-change",
   "metadata": {
    "scrolled": true,
    "trusted": false
   },
   "outputs": [
    {
     "data": {
      "text/html": [
       "<div>\n",
       "<style scoped>\n",
       "    .dataframe tbody tr th:only-of-type {\n",
       "        vertical-align: middle;\n",
       "    }\n",
       "\n",
       "    .dataframe tbody tr th {\n",
       "        vertical-align: top;\n",
       "    }\n",
       "\n",
       "    .dataframe thead th {\n",
       "        text-align: right;\n",
       "    }\n",
       "</style>\n",
       "<table border=\"1\" class=\"dataframe\">\n",
       "  <thead>\n",
       "    <tr style=\"text-align: right;\">\n",
       "      <th></th>\n",
       "      <th>product_id</th>\n",
       "      <th>reorder-count</th>\n",
       "    </tr>\n",
       "  </thead>\n",
       "  <tbody>\n",
       "    <tr>\n",
       "      <th>18104</th>\n",
       "      <td>24852</td>\n",
       "      <td>55763</td>\n",
       "    </tr>\n",
       "    <tr>\n",
       "      <th>9528</th>\n",
       "      <td>13176</td>\n",
       "      <td>44450</td>\n",
       "    </tr>\n",
       "    <tr>\n",
       "      <th>15368</th>\n",
       "      <td>21137</td>\n",
       "      <td>28639</td>\n",
       "    </tr>\n",
       "    <tr>\n",
       "      <th>15936</th>\n",
       "      <td>21903</td>\n",
       "      <td>26233</td>\n",
       "    </tr>\n",
       "    <tr>\n",
       "      <th>34407</th>\n",
       "      <td>47209</td>\n",
       "      <td>23629</td>\n",
       "    </tr>\n",
       "    <tr>\n",
       "      <th>34828</th>\n",
       "      <td>47766</td>\n",
       "      <td>18743</td>\n",
       "    </tr>\n",
       "    <tr>\n",
       "      <th>20285</th>\n",
       "      <td>27845</td>\n",
       "      <td>16251</td>\n",
       "    </tr>\n",
       "    <tr>\n",
       "      <th>34725</th>\n",
       "      <td>47626</td>\n",
       "      <td>15044</td>\n",
       "    </tr>\n",
       "    <tr>\n",
       "      <th>20375</th>\n",
       "      <td>27966</td>\n",
       "      <td>14748</td>\n",
       "    </tr>\n",
       "    <tr>\n",
       "      <th>12193</th>\n",
       "      <td>16797</td>\n",
       "      <td>13945</td>\n",
       "    </tr>\n",
       "    <tr>\n",
       "      <th>19088</th>\n",
       "      <td>26209</td>\n",
       "      <td>13327</td>\n",
       "    </tr>\n",
       "    <tr>\n",
       "      <th>16700</th>\n",
       "      <td>22935</td>\n",
       "      <td>11145</td>\n",
       "    </tr>\n",
       "    <tr>\n",
       "      <th>18186</th>\n",
       "      <td>24964</td>\n",
       "      <td>10411</td>\n",
       "    </tr>\n",
       "    <tr>\n",
       "      <th>32792</th>\n",
       "      <td>45007</td>\n",
       "      <td>10076</td>\n",
       "    </tr>\n",
       "    <tr>\n",
       "      <th>36219</th>\n",
       "      <td>49683</td>\n",
       "      <td>9538</td>\n",
       "    </tr>\n",
       "    <tr>\n",
       "      <th>20543</th>\n",
       "      <td>28204</td>\n",
       "      <td>8989</td>\n",
       "    </tr>\n",
       "    <tr>\n",
       "      <th>5978</th>\n",
       "      <td>8277</td>\n",
       "      <td>8836</td>\n",
       "    </tr>\n",
       "    <tr>\n",
       "      <th>28607</th>\n",
       "      <td>39275</td>\n",
       "      <td>8799</td>\n",
       "    </tr>\n",
       "    <tr>\n",
       "      <th>4267</th>\n",
       "      <td>5876</td>\n",
       "      <td>8412</td>\n",
       "    </tr>\n",
       "    <tr>\n",
       "      <th>35905</th>\n",
       "      <td>49235</td>\n",
       "      <td>8389</td>\n",
       "    </tr>\n",
       "  </tbody>\n",
       "</table>\n",
       "</div>"
      ],
      "text/plain": [
       "       product_id  reorder-count\n",
       "18104       24852          55763\n",
       "9528        13176          44450\n",
       "15368       21137          28639\n",
       "15936       21903          26233\n",
       "34407       47209          23629\n",
       "34828       47766          18743\n",
       "20285       27845          16251\n",
       "34725       47626          15044\n",
       "20375       27966          14748\n",
       "12193       16797          13945\n",
       "19088       26209          13327\n",
       "16700       22935          11145\n",
       "18186       24964          10411\n",
       "32792       45007          10076\n",
       "36219       49683           9538\n",
       "20543       28204           8989\n",
       "5978         8277           8836\n",
       "28607       39275           8799\n",
       "4267         5876           8412\n",
       "35905       49235           8389"
      ]
     },
     "execution_count": 47,
     "metadata": {},
     "output_type": "execute_result"
    }
   ],
   "source": [
    "#sort by reorder count and get top 20 products\n",
    "top_20_reordered_products = product_reorder_counts.sort_values(by='reorder-count', ascending=False).head(20)\n",
    "(top_20_reordered_products)"
   ]
  },
  {
   "cell_type": "code",
   "execution_count": 48,
   "id": "professional-surfing",
   "metadata": {
    "scrolled": true,
    "trusted": false
   },
   "outputs": [
    {
     "data": {
      "text/html": [
       "<div>\n",
       "<style scoped>\n",
       "    .dataframe tbody tr th:only-of-type {\n",
       "        vertical-align: middle;\n",
       "    }\n",
       "\n",
       "    .dataframe tbody tr th {\n",
       "        vertical-align: top;\n",
       "    }\n",
       "\n",
       "    .dataframe thead th {\n",
       "        text-align: right;\n",
       "    }\n",
       "</style>\n",
       "<table border=\"1\" class=\"dataframe\">\n",
       "  <thead>\n",
       "    <tr style=\"text-align: right;\">\n",
       "      <th></th>\n",
       "      <th>product_id</th>\n",
       "      <th>reorder-count</th>\n",
       "    </tr>\n",
       "  </thead>\n",
       "  <tbody>\n",
       "    <tr>\n",
       "      <th>0</th>\n",
       "      <td>24852</td>\n",
       "      <td>55763</td>\n",
       "    </tr>\n",
       "    <tr>\n",
       "      <th>1</th>\n",
       "      <td>24852</td>\n",
       "      <td>55763</td>\n",
       "    </tr>\n",
       "    <tr>\n",
       "      <th>2</th>\n",
       "      <td>24852</td>\n",
       "      <td>55763</td>\n",
       "    </tr>\n",
       "    <tr>\n",
       "      <th>3</th>\n",
       "      <td>24852</td>\n",
       "      <td>55763</td>\n",
       "    </tr>\n",
       "    <tr>\n",
       "      <th>4</th>\n",
       "      <td>24852</td>\n",
       "      <td>55763</td>\n",
       "    </tr>\n",
       "    <tr>\n",
       "      <th>...</th>\n",
       "      <td>...</td>\n",
       "      <td>...</td>\n",
       "    </tr>\n",
       "    <tr>\n",
       "      <th>465663</th>\n",
       "      <td>49235</td>\n",
       "      <td>8389</td>\n",
       "    </tr>\n",
       "    <tr>\n",
       "      <th>465664</th>\n",
       "      <td>49235</td>\n",
       "      <td>8389</td>\n",
       "    </tr>\n",
       "    <tr>\n",
       "      <th>465665</th>\n",
       "      <td>49235</td>\n",
       "      <td>8389</td>\n",
       "    </tr>\n",
       "    <tr>\n",
       "      <th>465666</th>\n",
       "      <td>49235</td>\n",
       "      <td>8389</td>\n",
       "    </tr>\n",
       "    <tr>\n",
       "      <th>465667</th>\n",
       "      <td>49235</td>\n",
       "      <td>8389</td>\n",
       "    </tr>\n",
       "  </tbody>\n",
       "</table>\n",
       "<p>465668 rows × 2 columns</p>\n",
       "</div>"
      ],
      "text/plain": [
       "        product_id  reorder-count\n",
       "0            24852          55763\n",
       "1            24852          55763\n",
       "2            24852          55763\n",
       "3            24852          55763\n",
       "4            24852          55763\n",
       "...            ...            ...\n",
       "465663       49235           8389\n",
       "465664       49235           8389\n",
       "465665       49235           8389\n",
       "465666       49235           8389\n",
       "465667       49235           8389\n",
       "\n",
       "[465668 rows x 2 columns]"
      ]
     },
     "execution_count": 48,
     "metadata": {},
     "output_type": "execute_result"
    }
   ],
   "source": [
    "#merge with the order products dataframe\n",
    "top_20_reordered_products = pd.merge(top_20_reordered_products, df_order_products[['product_id']], on='product_id')\n",
    "\n",
    "top_20_reordered_products = top_20_reordered_products[['product_id', 'reorder-count']]\n",
    "\n",
    "(top_20_reordered_products)"
   ]
  },
  {
   "cell_type": "code",
   "execution_count": null,
   "id": "48dd3658",
   "metadata": {
    "trusted": false
   },
   "outputs": [],
   "source": []
  },
  {
   "cell_type": "markdown",
   "id": "80e70c74",
   "metadata": {},
   "source": []
  },
  {
   "cell_type": "markdown",
   "id": "9d312b14",
   "metadata": {},
   "source": [
    "### [C3] For each product, what proportion of its orders are reorders?"
   ]
  },
  {
   "cell_type": "code",
   "execution_count": 49,
   "id": "8ae9f4b1",
   "metadata": {
    "trusted": false
   },
   "outputs": [
    {
     "name": "stdout",
     "output_type": "stream",
     "text": [
      "       product_id  total_orders\n",
      "0               1           280\n",
      "1               2            11\n",
      "2               3            42\n",
      "3               4            49\n",
      "4               7             2\n",
      "...           ...           ...\n",
      "45568       49690             5\n",
      "45569       49691            72\n",
      "45570       49692            12\n",
      "45571       49693            25\n",
      "45572       49694             9\n",
      "\n",
      "[45573 rows x 2 columns]\n",
      "       product_id  reorders\n",
      "0               1       158\n",
      "1               2         0\n",
      "2               3        31\n",
      "3               4        25\n",
      "4               7         1\n",
      "...           ...       ...\n",
      "45568       49690         4\n",
      "45569       49691        31\n",
      "45570       49692         5\n",
      "45571       49693        11\n",
      "45572       49694         3\n",
      "\n",
      "[45573 rows x 2 columns]\n"
     ]
    }
   ],
   "source": [
    "#calculate total orders and reorders for each product\n",
    "product_order_counts = df_order_products.groupby('product_id')['order_id'].count().reset_index(name='total_orders')\n",
    "product_reorder_counts = df_order_products.groupby('product_id')['reordered'].sum().reset_index(name='reorders')\n",
    "\n",
    "print(product_order_counts)\n",
    "print(product_reorder_counts)"
   ]
  },
  {
   "cell_type": "code",
   "execution_count": 50,
   "id": "103e7fe1",
   "metadata": {
    "trusted": false
   },
   "outputs": [],
   "source": [
    "#merge the total orders and reorder counts, then calculate the proportion\n",
    "product_reorder_proportion = pd.merge(product_order_counts, product_reorder_counts, on='product_id')\n",
    "#calculate reorder proportion\n",
    "product_reorder_proportion['reorder_proportion'] = product_reorder_proportion['reorders'] / product_reorder_proportion['total_orders']"
   ]
  },
  {
   "cell_type": "code",
   "execution_count": 51,
   "id": "social-individual",
   "metadata": {
    "trusted": false
   },
   "outputs": [
    {
     "name": "stdout",
     "output_type": "stream",
     "text": [
      "    product_id  reorder_proportion\n",
      "0            1            0.564286\n",
      "1            1            0.564286\n",
      "2            1            0.564286\n",
      "3            1            0.564286\n",
      "4            1            0.564286\n",
      "5            1            0.564286\n",
      "6            1            0.564286\n",
      "7            1            0.564286\n",
      "8            1            0.564286\n",
      "9            1            0.564286\n",
      "10           1            0.564286\n",
      "11           1            0.564286\n",
      "12           1            0.564286\n",
      "13           1            0.564286\n",
      "14           1            0.564286\n",
      "15           1            0.564286\n",
      "16           1            0.564286\n",
      "17           1            0.564286\n",
      "18           1            0.564286\n",
      "19           1            0.564286\n"
     ]
    }
   ],
   "source": [
    "final_table = pd.merge(product_reorder_proportion, df_order_products[['product_id',]], on='product_id')\n",
    "final_table = final_table[['product_id', 'reorder_proportion']]\n",
    "print(final_table.head(20))\n",
    "    "
   ]
  },
  {
   "cell_type": "markdown",
   "id": "subject-boxing",
   "metadata": {},
   "source": [
    "### [C4] For each customer, what proportion of their products ordered are reorders?"
   ]
  },
  {
   "cell_type": "code",
   "execution_count": null,
   "id": "medical-couple",
   "metadata": {
    "scrolled": true,
    "trusted": false
   },
   "outputs": [],
   "source": []
  },
  {
   "cell_type": "code",
   "execution_count": null,
   "id": "8892e4b4",
   "metadata": {
    "trusted": false
   },
   "outputs": [],
   "source": []
  },
  {
   "cell_type": "markdown",
   "id": "92d35137",
   "metadata": {},
   "source": [
    "### [C5] What are the top 20 items that people put in their carts first? "
   ]
  },
  {
   "cell_type": "code",
   "execution_count": null,
   "id": "0ae57274",
   "metadata": {
    "scrolled": true,
    "trusted": false
   },
   "outputs": [],
   "source": []
  },
  {
   "cell_type": "code",
   "execution_count": null,
   "id": "forty-netherlands",
   "metadata": {
    "scrolled": true,
    "trusted": false
   },
   "outputs": [],
   "source": []
  },
  {
   "cell_type": "code",
   "execution_count": null,
   "id": "08e41ec2",
   "metadata": {
    "trusted": false
   },
   "outputs": [],
   "source": []
  },
  {
   "cell_type": "markdown",
   "id": "28ce9872",
   "metadata": {},
   "source": []
  },
  {
   "cell_type": "markdown",
   "id": "8f1dc6bb",
   "metadata": {},
   "source": [
    "<div class=\"alert alert-block alert-danger\">✍\n",
    "    \n",
    "\n",
    "__Reviewer's comment №1__\n",
    "\n",
    "\n",
    "It would be nice to add an overall output for the projec\n",
    "</div>"
   ]
  },
  {
   "cell_type": "markdown",
   "id": "510f8fad",
   "metadata": {},
   "source": [
    "<div class=\"alert alert-info\"> <b>Student сomments:</b> Overall I found the project to be a bit challenging, i do wish there was a bit more direction as sometimes with the empty cell blocks im not positive on what is being asked of me to do which kind of disrupts momentum when i get going. Something im learning to work through. </div>  "
   ]
  },
  {
   "cell_type": "markdown",
   "id": "bace3ba7",
   "metadata": {},
   "source": [
    "<div class=\"alert alert-block alert-success\">✔️\n",
    "    \n",
    "\n",
    "__Reviewer's comment №2__\n",
    "\n",
    "\n",
    "Otherwise it's great😊. Your project is begging for github =)   \n",
    "    \n",
    "Congratulations on the successful completion of the project 😊👍\n",
    "And I wish you success in new works 😊"
   ]
  }
 ],
 "metadata": {
  "ExecuteTimeLog": [
   {
    "duration": 327,
    "start_time": "2024-08-22T19:52:51.608Z"
   },
   {
    "duration": 22,
    "start_time": "2024-08-22T19:54:00.213Z"
   },
   {
    "duration": 1006,
    "start_time": "2024-08-22T19:54:53.043Z"
   },
   {
    "duration": 4,
    "start_time": "2024-08-22T19:54:54.053Z"
   },
   {
    "duration": 4,
    "start_time": "2024-08-22T19:54:54.061Z"
   },
   {
    "duration": 4,
    "start_time": "2024-08-22T19:54:54.071Z"
   },
   {
    "duration": 4,
    "start_time": "2024-08-22T19:54:54.107Z"
   },
   {
    "duration": 4,
    "start_time": "2024-08-22T19:54:54.115Z"
   },
   {
    "duration": 3,
    "start_time": "2024-08-22T19:54:54.124Z"
   },
   {
    "duration": 5,
    "start_time": "2024-08-22T19:54:54.130Z"
   },
   {
    "duration": 4,
    "start_time": "2024-08-22T19:54:54.139Z"
   },
   {
    "duration": 57,
    "start_time": "2024-08-22T19:54:54.151Z"
   },
   {
    "duration": 7,
    "start_time": "2024-08-22T19:54:54.213Z"
   },
   {
    "duration": 4,
    "start_time": "2024-08-22T19:54:54.225Z"
   },
   {
    "duration": 4,
    "start_time": "2024-08-22T19:54:54.233Z"
   },
   {
    "duration": 4,
    "start_time": "2024-08-22T19:54:54.242Z"
   },
   {
    "duration": 58,
    "start_time": "2024-08-22T19:54:54.249Z"
   },
   {
    "duration": 4,
    "start_time": "2024-08-22T19:54:54.311Z"
   },
   {
    "duration": 4,
    "start_time": "2024-08-22T19:54:54.319Z"
   },
   {
    "duration": 4,
    "start_time": "2024-08-22T19:54:54.327Z"
   },
   {
    "duration": 5,
    "start_time": "2024-08-22T19:54:54.335Z"
   },
   {
    "duration": 4,
    "start_time": "2024-08-22T19:54:54.344Z"
   },
   {
    "duration": 4,
    "start_time": "2024-08-22T19:54:54.406Z"
   },
   {
    "duration": 515,
    "start_time": "2024-08-22T19:55:06.625Z"
   },
   {
    "duration": 94,
    "start_time": "2024-08-22T19:58:36.691Z"
   },
   {
    "duration": 935,
    "start_time": "2024-08-22T20:01:09.369Z"
   },
   {
    "duration": 55,
    "start_time": "2024-08-22T20:01:10.308Z"
   },
   {
    "duration": 11,
    "start_time": "2024-08-22T20:01:10.366Z"
   },
   {
    "duration": 11,
    "start_time": "2024-08-22T20:01:10.406Z"
   },
   {
    "duration": 5,
    "start_time": "2024-08-22T20:01:10.420Z"
   },
   {
    "duration": 4,
    "start_time": "2024-08-22T20:01:10.428Z"
   },
   {
    "duration": 4,
    "start_time": "2024-08-22T20:01:10.436Z"
   },
   {
    "duration": 6,
    "start_time": "2024-08-22T20:01:10.444Z"
   },
   {
    "duration": 51,
    "start_time": "2024-08-22T20:01:10.455Z"
   },
   {
    "duration": 4,
    "start_time": "2024-08-22T20:01:10.516Z"
   },
   {
    "duration": 4,
    "start_time": "2024-08-22T20:01:10.524Z"
   },
   {
    "duration": 4,
    "start_time": "2024-08-22T20:01:10.534Z"
   },
   {
    "duration": 7,
    "start_time": "2024-08-22T20:01:10.543Z"
   },
   {
    "duration": 53,
    "start_time": "2024-08-22T20:01:10.553Z"
   },
   {
    "duration": 5,
    "start_time": "2024-08-22T20:01:10.610Z"
   },
   {
    "duration": 5,
    "start_time": "2024-08-22T20:01:10.619Z"
   },
   {
    "duration": 5,
    "start_time": "2024-08-22T20:01:10.628Z"
   },
   {
    "duration": 4,
    "start_time": "2024-08-22T20:01:10.636Z"
   },
   {
    "duration": 5,
    "start_time": "2024-08-22T20:01:10.643Z"
   },
   {
    "duration": 56,
    "start_time": "2024-08-22T20:01:10.652Z"
   },
   {
    "duration": 5,
    "start_time": "2024-08-22T20:01:10.712Z"
   },
   {
    "duration": 5,
    "start_time": "2024-08-22T20:01:10.720Z"
   },
   {
    "duration": 5,
    "start_time": "2024-08-22T20:01:10.728Z"
   },
   {
    "duration": 5,
    "start_time": "2024-08-22T20:01:10.737Z"
   },
   {
    "duration": 989,
    "start_time": "2024-08-22T20:04:16.834Z"
   },
   {
    "duration": 65,
    "start_time": "2024-08-22T20:04:17.827Z"
   },
   {
    "duration": 21,
    "start_time": "2024-08-22T20:04:17.909Z"
   },
   {
    "duration": 23,
    "start_time": "2024-08-22T20:04:17.935Z"
   },
   {
    "duration": 4059,
    "start_time": "2024-08-22T20:04:17.962Z"
   },
   {
    "duration": 4,
    "start_time": "2024-08-22T20:04:22.025Z"
   },
   {
    "duration": 4,
    "start_time": "2024-08-22T20:04:22.032Z"
   },
   {
    "duration": 5,
    "start_time": "2024-08-22T20:04:22.040Z"
   },
   {
    "duration": 5,
    "start_time": "2024-08-22T20:04:22.049Z"
   },
   {
    "duration": 3,
    "start_time": "2024-08-22T20:04:22.106Z"
   },
   {
    "duration": 4,
    "start_time": "2024-08-22T20:04:22.112Z"
   },
   {
    "duration": 3,
    "start_time": "2024-08-22T20:04:22.120Z"
   },
   {
    "duration": 4,
    "start_time": "2024-08-22T20:04:22.127Z"
   },
   {
    "duration": 4,
    "start_time": "2024-08-22T20:04:22.136Z"
   },
   {
    "duration": 4,
    "start_time": "2024-08-22T20:04:22.144Z"
   },
   {
    "duration": 4,
    "start_time": "2024-08-22T20:04:22.205Z"
   },
   {
    "duration": 4,
    "start_time": "2024-08-22T20:04:22.212Z"
   },
   {
    "duration": 3,
    "start_time": "2024-08-22T20:04:22.220Z"
   },
   {
    "duration": 5,
    "start_time": "2024-08-22T20:04:22.227Z"
   },
   {
    "duration": 5,
    "start_time": "2024-08-22T20:04:22.235Z"
   },
   {
    "duration": 5,
    "start_time": "2024-08-22T20:04:22.243Z"
   },
   {
    "duration": 4,
    "start_time": "2024-08-22T20:04:22.308Z"
   },
   {
    "duration": 4,
    "start_time": "2024-08-22T20:04:22.317Z"
   },
   {
    "duration": 5,
    "start_time": "2024-08-22T20:04:22.325Z"
   },
   {
    "duration": 4,
    "start_time": "2024-08-22T20:04:22.334Z"
   },
   {
    "duration": 4219,
    "start_time": "2024-08-22T20:05:37.090Z"
   },
   {
    "duration": 1067,
    "start_time": "2024-08-22T21:59:31.470Z"
   },
   {
    "duration": 444,
    "start_time": "2024-08-22T21:59:41.914Z"
   },
   {
    "duration": 17,
    "start_time": "2024-08-22T22:18:17.775Z"
   },
   {
    "duration": 207,
    "start_time": "2024-08-22T22:29:47.334Z"
   },
   {
    "duration": 89,
    "start_time": "2024-08-22T22:30:15.852Z"
   },
   {
    "duration": 19,
    "start_time": "2024-08-22T22:30:32.610Z"
   },
   {
    "duration": 18,
    "start_time": "2024-08-22T22:31:05.300Z"
   },
   {
    "duration": 1396,
    "start_time": "2024-08-22T22:31:33.682Z"
   },
   {
    "duration": 194,
    "start_time": "2024-08-22T22:37:54.107Z"
   },
   {
    "duration": 62,
    "start_time": "2024-08-22T22:38:16.323Z"
   },
   {
    "duration": 21,
    "start_time": "2024-08-22T22:38:44.599Z"
   },
   {
    "duration": 17,
    "start_time": "2024-08-22T22:39:16.501Z"
   },
   {
    "duration": 1286,
    "start_time": "2024-08-22T22:40:07.053Z"
   },
   {
    "duration": 18,
    "start_time": "2024-08-22T22:44:32.910Z"
   },
   {
    "duration": 678,
    "start_time": "2024-08-22T22:46:36.231Z"
   },
   {
    "duration": 74,
    "start_time": "2024-08-22T22:46:36.913Z"
   },
   {
    "duration": 16,
    "start_time": "2024-08-22T22:46:36.991Z"
   },
   {
    "duration": 16,
    "start_time": "2024-08-22T22:46:37.035Z"
   },
   {
    "duration": 1302,
    "start_time": "2024-08-22T22:46:37.055Z"
   },
   {
    "duration": 156,
    "start_time": "2024-08-22T22:46:38.359Z"
   },
   {
    "duration": 0,
    "start_time": "2024-08-22T22:46:38.519Z"
   },
   {
    "duration": 0,
    "start_time": "2024-08-22T22:46:38.521Z"
   },
   {
    "duration": 0,
    "start_time": "2024-08-22T22:46:38.532Z"
   },
   {
    "duration": 0,
    "start_time": "2024-08-22T22:46:38.534Z"
   },
   {
    "duration": 0,
    "start_time": "2024-08-22T22:46:38.537Z"
   },
   {
    "duration": 0,
    "start_time": "2024-08-22T22:46:38.541Z"
   },
   {
    "duration": 0,
    "start_time": "2024-08-22T22:46:38.542Z"
   },
   {
    "duration": 0,
    "start_time": "2024-08-22T22:46:38.544Z"
   },
   {
    "duration": 0,
    "start_time": "2024-08-22T22:46:38.546Z"
   },
   {
    "duration": 0,
    "start_time": "2024-08-22T22:46:38.548Z"
   },
   {
    "duration": 0,
    "start_time": "2024-08-22T22:46:38.551Z"
   },
   {
    "duration": 0,
    "start_time": "2024-08-22T22:46:38.553Z"
   },
   {
    "duration": 0,
    "start_time": "2024-08-22T22:46:38.554Z"
   },
   {
    "duration": 0,
    "start_time": "2024-08-22T22:46:38.557Z"
   },
   {
    "duration": 0,
    "start_time": "2024-08-22T22:46:38.559Z"
   },
   {
    "duration": 0,
    "start_time": "2024-08-22T22:46:38.560Z"
   },
   {
    "duration": 0,
    "start_time": "2024-08-22T22:46:38.563Z"
   },
   {
    "duration": 0,
    "start_time": "2024-08-22T22:46:38.564Z"
   },
   {
    "duration": 0,
    "start_time": "2024-08-22T22:46:38.566Z"
   },
   {
    "duration": 152,
    "start_time": "2024-08-22T22:49:45.746Z"
   },
   {
    "duration": 1028,
    "start_time": "2024-08-22T23:08:50.579Z"
   },
   {
    "duration": 19,
    "start_time": "2024-08-22T23:13:15.893Z"
   },
   {
    "duration": 22,
    "start_time": "2024-08-22T23:14:20.244Z"
   },
   {
    "duration": 192,
    "start_time": "2024-08-22T23:16:09.680Z"
   },
   {
    "duration": 169,
    "start_time": "2024-08-22T23:17:11.711Z"
   },
   {
    "duration": 19,
    "start_time": "2024-08-22T23:18:10.084Z"
   },
   {
    "duration": 49,
    "start_time": "2024-08-22T23:19:10.027Z"
   },
   {
    "duration": 647,
    "start_time": "2024-08-22T23:19:25.279Z"
   },
   {
    "duration": 66,
    "start_time": "2024-08-22T23:19:25.932Z"
   },
   {
    "duration": 36,
    "start_time": "2024-08-22T23:19:26.001Z"
   },
   {
    "duration": 16,
    "start_time": "2024-08-22T23:19:26.042Z"
   },
   {
    "duration": 1308,
    "start_time": "2024-08-22T23:19:26.061Z"
   },
   {
    "duration": 180,
    "start_time": "2024-08-22T23:19:27.372Z"
   },
   {
    "duration": 25,
    "start_time": "2024-08-22T23:19:27.555Z"
   },
   {
    "duration": 224,
    "start_time": "2024-08-22T23:19:27.584Z"
   },
   {
    "duration": 183,
    "start_time": "2024-08-22T23:19:27.810Z"
   },
   {
    "duration": 70,
    "start_time": "2024-08-22T23:19:28.002Z"
   },
   {
    "duration": 3,
    "start_time": "2024-08-22T23:19:28.075Z"
   },
   {
    "duration": 3,
    "start_time": "2024-08-22T23:19:28.082Z"
   },
   {
    "duration": 3,
    "start_time": "2024-08-22T23:19:28.089Z"
   },
   {
    "duration": 4,
    "start_time": "2024-08-22T23:19:28.095Z"
   },
   {
    "duration": 3,
    "start_time": "2024-08-22T23:19:28.134Z"
   },
   {
    "duration": 4,
    "start_time": "2024-08-22T23:19:28.140Z"
   },
   {
    "duration": 4,
    "start_time": "2024-08-22T23:19:28.147Z"
   },
   {
    "duration": 4,
    "start_time": "2024-08-22T23:19:28.155Z"
   },
   {
    "duration": 4,
    "start_time": "2024-08-22T23:19:28.162Z"
   },
   {
    "duration": 4,
    "start_time": "2024-08-22T23:19:28.170Z"
   },
   {
    "duration": 4,
    "start_time": "2024-08-22T23:19:28.234Z"
   },
   {
    "duration": 3,
    "start_time": "2024-08-22T23:19:28.242Z"
   },
   {
    "duration": 4,
    "start_time": "2024-08-22T23:19:28.249Z"
   },
   {
    "duration": 5,
    "start_time": "2024-08-22T23:19:28.256Z"
   },
   {
    "duration": 4,
    "start_time": "2024-08-22T23:19:28.264Z"
   },
   {
    "duration": 678,
    "start_time": "2024-08-22T23:20:19.518Z"
   },
   {
    "duration": 78,
    "start_time": "2024-08-22T23:20:20.200Z"
   },
   {
    "duration": 17,
    "start_time": "2024-08-22T23:20:20.280Z"
   },
   {
    "duration": 36,
    "start_time": "2024-08-22T23:20:20.301Z"
   },
   {
    "duration": 1298,
    "start_time": "2024-08-22T23:20:20.340Z"
   },
   {
    "duration": 176,
    "start_time": "2024-08-22T23:20:21.641Z"
   },
   {
    "duration": 39,
    "start_time": "2024-08-22T23:20:21.821Z"
   },
   {
    "duration": 201,
    "start_time": "2024-08-22T23:20:21.864Z"
   },
   {
    "duration": 174,
    "start_time": "2024-08-22T23:20:22.068Z"
   },
   {
    "duration": 42,
    "start_time": "2024-08-22T23:20:22.247Z"
   },
   {
    "duration": 5,
    "start_time": "2024-08-22T23:20:22.291Z"
   },
   {
    "duration": 3,
    "start_time": "2024-08-22T23:20:22.299Z"
   },
   {
    "duration": 4,
    "start_time": "2024-08-22T23:20:22.334Z"
   },
   {
    "duration": 5,
    "start_time": "2024-08-22T23:20:22.342Z"
   },
   {
    "duration": 3,
    "start_time": "2024-08-22T23:20:22.350Z"
   },
   {
    "duration": 3,
    "start_time": "2024-08-22T23:20:22.357Z"
   },
   {
    "duration": 3,
    "start_time": "2024-08-22T23:20:22.364Z"
   },
   {
    "duration": 3,
    "start_time": "2024-08-22T23:20:22.370Z"
   },
   {
    "duration": 3,
    "start_time": "2024-08-22T23:20:22.377Z"
   },
   {
    "duration": 4,
    "start_time": "2024-08-22T23:20:22.435Z"
   },
   {
    "duration": 3,
    "start_time": "2024-08-22T23:20:22.443Z"
   },
   {
    "duration": 4,
    "start_time": "2024-08-22T23:20:22.449Z"
   },
   {
    "duration": 4,
    "start_time": "2024-08-22T23:20:22.456Z"
   },
   {
    "duration": 4,
    "start_time": "2024-08-22T23:20:22.463Z"
   },
   {
    "duration": 3,
    "start_time": "2024-08-22T23:20:22.470Z"
   },
   {
    "duration": 157,
    "start_time": "2024-08-22T23:20:55.963Z"
   },
   {
    "duration": 24,
    "start_time": "2024-08-22T23:21:48.335Z"
   },
   {
    "duration": 9,
    "start_time": "2024-08-22T23:24:23.544Z"
   },
   {
    "duration": 137,
    "start_time": "2024-08-22T23:25:48.334Z"
   },
   {
    "duration": 18,
    "start_time": "2024-08-22T23:28:16.250Z"
   },
   {
    "duration": 19,
    "start_time": "2024-08-22T23:29:03.569Z"
   },
   {
    "duration": 1027,
    "start_time": "2024-08-22T23:30:24.572Z"
   },
   {
    "duration": 695,
    "start_time": "2024-08-22T23:30:41.324Z"
   },
   {
    "duration": 70,
    "start_time": "2024-08-22T23:30:42.022Z"
   },
   {
    "duration": 17,
    "start_time": "2024-08-22T23:30:42.094Z"
   },
   {
    "duration": 19,
    "start_time": "2024-08-22T23:30:42.132Z"
   },
   {
    "duration": 1302,
    "start_time": "2024-08-22T23:30:42.154Z"
   },
   {
    "duration": 191,
    "start_time": "2024-08-22T23:30:43.459Z"
   },
   {
    "duration": 26,
    "start_time": "2024-08-22T23:30:43.657Z"
   },
   {
    "duration": 209,
    "start_time": "2024-08-22T23:30:43.686Z"
   },
   {
    "duration": 173,
    "start_time": "2024-08-22T23:30:43.897Z"
   },
   {
    "duration": 80,
    "start_time": "2024-08-22T23:30:44.075Z"
   },
   {
    "duration": 25,
    "start_time": "2024-08-22T23:30:44.158Z"
   },
   {
    "duration": 9,
    "start_time": "2024-08-22T23:30:44.186Z"
   },
   {
    "duration": 3,
    "start_time": "2024-08-22T23:30:44.199Z"
   },
   {
    "duration": 4,
    "start_time": "2024-08-22T23:30:44.232Z"
   },
   {
    "duration": 3,
    "start_time": "2024-08-22T23:30:44.239Z"
   },
   {
    "duration": 4,
    "start_time": "2024-08-22T23:30:44.245Z"
   },
   {
    "duration": 4,
    "start_time": "2024-08-22T23:30:44.252Z"
   },
   {
    "duration": 3,
    "start_time": "2024-08-22T23:30:44.259Z"
   },
   {
    "duration": 3,
    "start_time": "2024-08-22T23:30:44.266Z"
   },
   {
    "duration": 4,
    "start_time": "2024-08-22T23:30:44.273Z"
   },
   {
    "duration": 4,
    "start_time": "2024-08-22T23:30:44.333Z"
   },
   {
    "duration": 3,
    "start_time": "2024-08-22T23:30:44.340Z"
   },
   {
    "duration": 4,
    "start_time": "2024-08-22T23:30:44.346Z"
   },
   {
    "duration": 3,
    "start_time": "2024-08-22T23:30:44.353Z"
   },
   {
    "duration": 3,
    "start_time": "2024-08-22T23:30:44.359Z"
   },
   {
    "duration": 309,
    "start_time": "2024-08-23T19:48:36.002Z"
   },
   {
    "duration": 23,
    "start_time": "2024-08-23T19:49:02.305Z"
   },
   {
    "duration": 699,
    "start_time": "2024-08-23T19:49:18.819Z"
   },
   {
    "duration": 91,
    "start_time": "2024-08-23T19:49:19.521Z"
   },
   {
    "duration": 16,
    "start_time": "2024-08-23T19:49:19.615Z"
   },
   {
    "duration": 34,
    "start_time": "2024-08-23T19:49:19.634Z"
   },
   {
    "duration": 1342,
    "start_time": "2024-08-23T19:49:19.673Z"
   },
   {
    "duration": 184,
    "start_time": "2024-08-23T19:49:21.018Z"
   },
   {
    "duration": 22,
    "start_time": "2024-08-23T19:49:21.205Z"
   },
   {
    "duration": 206,
    "start_time": "2024-08-23T19:49:21.230Z"
   },
   {
    "duration": 174,
    "start_time": "2024-08-23T19:49:21.438Z"
   },
   {
    "duration": 62,
    "start_time": "2024-08-23T19:49:21.615Z"
   },
   {
    "duration": 25,
    "start_time": "2024-08-23T19:49:21.680Z"
   },
   {
    "duration": 8,
    "start_time": "2024-08-23T19:49:21.708Z"
   },
   {
    "duration": 702,
    "start_time": "2024-08-23T19:49:21.719Z"
   },
   {
    "duration": 0,
    "start_time": "2024-08-23T19:49:22.425Z"
   },
   {
    "duration": 0,
    "start_time": "2024-08-23T19:49:22.427Z"
   },
   {
    "duration": 0,
    "start_time": "2024-08-23T19:49:22.430Z"
   },
   {
    "duration": 0,
    "start_time": "2024-08-23T19:49:22.432Z"
   },
   {
    "duration": 0,
    "start_time": "2024-08-23T19:49:22.434Z"
   },
   {
    "duration": 0,
    "start_time": "2024-08-23T19:49:22.436Z"
   },
   {
    "duration": 0,
    "start_time": "2024-08-23T19:49:22.438Z"
   },
   {
    "duration": 0,
    "start_time": "2024-08-23T19:49:22.468Z"
   },
   {
    "duration": 0,
    "start_time": "2024-08-23T19:49:22.469Z"
   },
   {
    "duration": 0,
    "start_time": "2024-08-23T19:49:22.471Z"
   },
   {
    "duration": 0,
    "start_time": "2024-08-23T19:49:22.474Z"
   },
   {
    "duration": 0,
    "start_time": "2024-08-23T19:49:22.476Z"
   },
   {
    "duration": 104,
    "start_time": "2024-08-23T19:50:10.647Z"
   },
   {
    "duration": 52,
    "start_time": "2024-08-23T19:58:50.146Z"
   },
   {
    "duration": 56,
    "start_time": "2024-08-23T19:59:16.688Z"
   },
   {
    "duration": 645,
    "start_time": "2024-08-23T20:00:31.702Z"
   },
   {
    "duration": 69,
    "start_time": "2024-08-23T20:00:32.351Z"
   },
   {
    "duration": 17,
    "start_time": "2024-08-23T20:00:32.422Z"
   },
   {
    "duration": 42,
    "start_time": "2024-08-23T20:00:32.442Z"
   },
   {
    "duration": 1348,
    "start_time": "2024-08-23T20:00:32.490Z"
   },
   {
    "duration": 208,
    "start_time": "2024-08-23T20:00:33.841Z"
   },
   {
    "duration": 37,
    "start_time": "2024-08-23T20:00:34.052Z"
   },
   {
    "duration": 202,
    "start_time": "2024-08-23T20:00:34.092Z"
   },
   {
    "duration": 178,
    "start_time": "2024-08-23T20:00:34.297Z"
   },
   {
    "duration": 48,
    "start_time": "2024-08-23T20:00:34.479Z"
   },
   {
    "duration": 51,
    "start_time": "2024-08-23T20:00:34.529Z"
   },
   {
    "duration": 8,
    "start_time": "2024-08-23T20:00:34.583Z"
   },
   {
    "duration": 393,
    "start_time": "2024-08-23T20:00:34.594Z"
   },
   {
    "duration": 0,
    "start_time": "2024-08-23T20:00:34.992Z"
   },
   {
    "duration": 0,
    "start_time": "2024-08-23T20:00:34.994Z"
   },
   {
    "duration": 0,
    "start_time": "2024-08-23T20:00:34.997Z"
   },
   {
    "duration": 0,
    "start_time": "2024-08-23T20:00:35.001Z"
   },
   {
    "duration": 0,
    "start_time": "2024-08-23T20:00:35.003Z"
   },
   {
    "duration": 0,
    "start_time": "2024-08-23T20:00:35.010Z"
   },
   {
    "duration": 0,
    "start_time": "2024-08-23T20:00:35.012Z"
   },
   {
    "duration": 0,
    "start_time": "2024-08-23T20:00:35.015Z"
   },
   {
    "duration": 0,
    "start_time": "2024-08-23T20:00:35.017Z"
   },
   {
    "duration": 0,
    "start_time": "2024-08-23T20:00:35.019Z"
   },
   {
    "duration": 0,
    "start_time": "2024-08-23T20:00:35.021Z"
   },
   {
    "duration": 0,
    "start_time": "2024-08-23T20:00:35.024Z"
   },
   {
    "duration": 62,
    "start_time": "2024-08-23T20:01:24.954Z"
   },
   {
    "duration": 40,
    "start_time": "2024-08-23T20:01:39.122Z"
   },
   {
    "duration": 49,
    "start_time": "2024-08-23T20:01:46.466Z"
   },
   {
    "duration": 55,
    "start_time": "2024-08-23T20:19:20.057Z"
   },
   {
    "duration": 37,
    "start_time": "2024-08-23T20:24:22.941Z"
   },
   {
    "duration": 416,
    "start_time": "2024-08-23T20:24:41.129Z"
   },
   {
    "duration": 24,
    "start_time": "2024-08-23T20:25:40.928Z"
   },
   {
    "duration": 718,
    "start_time": "2024-08-23T20:29:04.654Z"
   },
   {
    "duration": 66,
    "start_time": "2024-08-23T20:29:05.377Z"
   },
   {
    "duration": 36,
    "start_time": "2024-08-23T20:29:05.446Z"
   },
   {
    "duration": 17,
    "start_time": "2024-08-23T20:29:05.486Z"
   },
   {
    "duration": 1316,
    "start_time": "2024-08-23T20:29:05.506Z"
   },
   {
    "duration": 195,
    "start_time": "2024-08-23T20:29:06.825Z"
   },
   {
    "duration": 21,
    "start_time": "2024-08-23T20:29:07.024Z"
   },
   {
    "duration": 202,
    "start_time": "2024-08-23T20:29:07.068Z"
   },
   {
    "duration": 203,
    "start_time": "2024-08-23T20:29:07.274Z"
   },
   {
    "duration": 46,
    "start_time": "2024-08-23T20:29:07.484Z"
   },
   {
    "duration": 55,
    "start_time": "2024-08-23T20:29:07.534Z"
   },
   {
    "duration": 9,
    "start_time": "2024-08-23T20:29:07.591Z"
   },
   {
    "duration": 76,
    "start_time": "2024-08-23T20:29:07.603Z"
   },
   {
    "duration": 24,
    "start_time": "2024-08-23T20:29:07.683Z"
   },
   {
    "duration": 4,
    "start_time": "2024-08-23T20:29:07.710Z"
   },
   {
    "duration": 4,
    "start_time": "2024-08-23T20:29:07.717Z"
   },
   {
    "duration": 44,
    "start_time": "2024-08-23T20:29:07.724Z"
   },
   {
    "duration": 4,
    "start_time": "2024-08-23T20:29:07.770Z"
   },
   {
    "duration": 4,
    "start_time": "2024-08-23T20:29:07.777Z"
   },
   {
    "duration": 4,
    "start_time": "2024-08-23T20:29:07.785Z"
   },
   {
    "duration": 5,
    "start_time": "2024-08-23T20:29:07.792Z"
   },
   {
    "duration": 4,
    "start_time": "2024-08-23T20:29:07.800Z"
   },
   {
    "duration": 4,
    "start_time": "2024-08-23T20:29:07.807Z"
   },
   {
    "duration": 9,
    "start_time": "2024-08-23T20:29:07.868Z"
   },
   {
    "duration": 5,
    "start_time": "2024-08-23T20:29:07.880Z"
   },
   {
    "duration": 694,
    "start_time": "2024-08-23T20:45:13.469Z"
   },
   {
    "duration": 68,
    "start_time": "2024-08-23T20:45:14.168Z"
   },
   {
    "duration": 34,
    "start_time": "2024-08-23T20:45:14.239Z"
   },
   {
    "duration": 18,
    "start_time": "2024-08-23T20:45:14.278Z"
   },
   {
    "duration": 1291,
    "start_time": "2024-08-23T20:45:14.298Z"
   },
   {
    "duration": 189,
    "start_time": "2024-08-23T20:45:15.592Z"
   },
   {
    "duration": 26,
    "start_time": "2024-08-23T20:45:15.784Z"
   },
   {
    "duration": 224,
    "start_time": "2024-08-23T20:45:15.813Z"
   },
   {
    "duration": 211,
    "start_time": "2024-08-23T20:45:16.040Z"
   },
   {
    "duration": 63,
    "start_time": "2024-08-23T20:45:16.257Z"
   },
   {
    "duration": 46,
    "start_time": "2024-08-23T20:45:16.323Z"
   },
   {
    "duration": 10,
    "start_time": "2024-08-23T20:45:16.373Z"
   },
   {
    "duration": 82,
    "start_time": "2024-08-23T20:45:16.386Z"
   },
   {
    "duration": 27,
    "start_time": "2024-08-23T20:45:16.471Z"
   },
   {
    "duration": 4,
    "start_time": "2024-08-23T20:45:16.501Z"
   },
   {
    "duration": 3,
    "start_time": "2024-08-23T20:45:16.509Z"
   },
   {
    "duration": 4,
    "start_time": "2024-08-23T20:45:16.515Z"
   },
   {
    "duration": 4,
    "start_time": "2024-08-23T20:45:16.567Z"
   },
   {
    "duration": 4,
    "start_time": "2024-08-23T20:45:16.574Z"
   },
   {
    "duration": 4,
    "start_time": "2024-08-23T20:45:16.581Z"
   },
   {
    "duration": 4,
    "start_time": "2024-08-23T20:45:16.588Z"
   },
   {
    "duration": 3,
    "start_time": "2024-08-23T20:45:16.596Z"
   },
   {
    "duration": 4,
    "start_time": "2024-08-23T20:45:16.603Z"
   },
   {
    "duration": 58,
    "start_time": "2024-08-23T20:45:16.610Z"
   },
   {
    "duration": 3,
    "start_time": "2024-08-23T20:45:16.672Z"
   },
   {
    "duration": 7,
    "start_time": "2024-08-23T20:50:59.002Z"
   },
   {
    "duration": 7,
    "start_time": "2024-08-23T20:56:48.499Z"
   },
   {
    "duration": 15,
    "start_time": "2024-08-23T20:58:06.615Z"
   },
   {
    "duration": 336,
    "start_time": "2024-08-23T20:58:45.117Z"
   },
   {
    "duration": 15,
    "start_time": "2024-08-23T20:58:53.013Z"
   },
   {
    "duration": 14,
    "start_time": "2024-08-23T20:59:44.791Z"
   },
   {
    "duration": 11,
    "start_time": "2024-08-23T20:59:57.207Z"
   },
   {
    "duration": 50,
    "start_time": "2024-08-23T20:59:59.016Z"
   },
   {
    "duration": 14,
    "start_time": "2024-08-23T21:00:09.779Z"
   },
   {
    "duration": 8,
    "start_time": "2024-08-23T21:04:36.805Z"
   },
   {
    "duration": 7,
    "start_time": "2024-08-23T21:08:14.993Z"
   },
   {
    "duration": 8,
    "start_time": "2024-08-23T21:11:05.624Z"
   },
   {
    "duration": 9,
    "start_time": "2024-08-23T21:11:56.067Z"
   },
   {
    "duration": 1388,
    "start_time": "2024-08-23T21:12:46.341Z"
   },
   {
    "duration": 165,
    "start_time": "2024-08-23T21:13:43.694Z"
   },
   {
    "duration": 166,
    "start_time": "2024-08-23T21:13:56.107Z"
   },
   {
    "duration": 1345,
    "start_time": "2024-08-23T21:14:39.262Z"
   },
   {
    "duration": 25,
    "start_time": "2024-08-23T21:16:33.664Z"
   },
   {
    "duration": 3,
    "start_time": "2024-08-23T21:16:51.262Z"
   },
   {
    "duration": 668,
    "start_time": "2024-08-23T21:18:01.676Z"
   },
   {
    "duration": 73,
    "start_time": "2024-08-23T21:18:02.348Z"
   },
   {
    "duration": 17,
    "start_time": "2024-08-23T21:18:02.424Z"
   },
   {
    "duration": 34,
    "start_time": "2024-08-23T21:18:02.444Z"
   },
   {
    "duration": 1279,
    "start_time": "2024-08-23T21:18:02.482Z"
   },
   {
    "duration": 190,
    "start_time": "2024-08-23T21:18:03.767Z"
   },
   {
    "duration": 30,
    "start_time": "2024-08-23T21:18:03.959Z"
   },
   {
    "duration": 206,
    "start_time": "2024-08-23T21:18:03.992Z"
   },
   {
    "duration": 193,
    "start_time": "2024-08-23T21:18:04.201Z"
   },
   {
    "duration": 65,
    "start_time": "2024-08-23T21:18:04.401Z"
   },
   {
    "duration": 26,
    "start_time": "2024-08-23T21:18:04.469Z"
   },
   {
    "duration": 353,
    "start_time": "2024-08-23T21:18:04.498Z"
   },
   {
    "duration": 0,
    "start_time": "2024-08-23T21:18:04.854Z"
   },
   {
    "duration": 0,
    "start_time": "2024-08-23T21:18:04.856Z"
   },
   {
    "duration": 0,
    "start_time": "2024-08-23T21:18:04.858Z"
   },
   {
    "duration": 0,
    "start_time": "2024-08-23T21:18:04.870Z"
   },
   {
    "duration": 0,
    "start_time": "2024-08-23T21:18:04.873Z"
   },
   {
    "duration": 0,
    "start_time": "2024-08-23T21:18:04.875Z"
   },
   {
    "duration": 0,
    "start_time": "2024-08-23T21:18:04.879Z"
   },
   {
    "duration": 0,
    "start_time": "2024-08-23T21:18:04.881Z"
   },
   {
    "duration": 0,
    "start_time": "2024-08-23T21:18:04.883Z"
   },
   {
    "duration": 0,
    "start_time": "2024-08-23T21:18:04.885Z"
   },
   {
    "duration": 0,
    "start_time": "2024-08-23T21:18:04.888Z"
   },
   {
    "duration": 0,
    "start_time": "2024-08-23T21:18:04.892Z"
   },
   {
    "duration": 0,
    "start_time": "2024-08-23T21:18:04.895Z"
   },
   {
    "duration": 0,
    "start_time": "2024-08-23T21:18:04.897Z"
   },
   {
    "duration": 0,
    "start_time": "2024-08-23T21:18:04.900Z"
   },
   {
    "duration": 0,
    "start_time": "2024-08-23T21:18:04.902Z"
   },
   {
    "duration": 0,
    "start_time": "2024-08-23T21:18:04.906Z"
   },
   {
    "duration": 23,
    "start_time": "2024-08-23T21:18:51.637Z"
   },
   {
    "duration": 8,
    "start_time": "2024-08-23T21:19:01.021Z"
   },
   {
    "duration": 58,
    "start_time": "2024-08-23T21:19:05.818Z"
   },
   {
    "duration": 23,
    "start_time": "2024-08-23T21:19:09.361Z"
   },
   {
    "duration": 8,
    "start_time": "2024-08-23T21:19:15.154Z"
   },
   {
    "duration": 7,
    "start_time": "2024-08-23T21:19:18.456Z"
   },
   {
    "duration": 8,
    "start_time": "2024-08-23T21:19:23.157Z"
   },
   {
    "duration": 7,
    "start_time": "2024-08-23T21:19:25.925Z"
   },
   {
    "duration": 1408,
    "start_time": "2024-08-23T21:19:32.986Z"
   },
   {
    "duration": 1347,
    "start_time": "2024-08-23T21:19:39.847Z"
   },
   {
    "duration": 8,
    "start_time": "2024-08-23T21:19:47.368Z"
   },
   {
    "duration": 3,
    "start_time": "2024-08-23T21:19:47.876Z"
   },
   {
    "duration": 3,
    "start_time": "2024-08-23T21:19:48.486Z"
   },
   {
    "duration": 718,
    "start_time": "2024-08-24T01:11:08.434Z"
   },
   {
    "duration": 93,
    "start_time": "2024-08-24T01:11:09.155Z"
   },
   {
    "duration": 17,
    "start_time": "2024-08-24T01:11:09.251Z"
   },
   {
    "duration": 18,
    "start_time": "2024-08-24T01:11:09.272Z"
   },
   {
    "duration": 1397,
    "start_time": "2024-08-24T01:11:09.293Z"
   },
   {
    "duration": 176,
    "start_time": "2024-08-24T01:11:10.693Z"
   },
   {
    "duration": 22,
    "start_time": "2024-08-24T01:11:10.872Z"
   },
   {
    "duration": 201,
    "start_time": "2024-08-24T01:11:10.898Z"
   },
   {
    "duration": 169,
    "start_time": "2024-08-24T01:11:11.102Z"
   },
   {
    "duration": 65,
    "start_time": "2024-08-24T01:11:11.277Z"
   },
   {
    "duration": 31,
    "start_time": "2024-08-24T01:11:11.346Z"
   },
   {
    "duration": 11,
    "start_time": "2024-08-24T01:11:11.380Z"
   },
   {
    "duration": 79,
    "start_time": "2024-08-24T01:11:11.395Z"
   },
   {
    "duration": 23,
    "start_time": "2024-08-24T01:11:11.477Z"
   },
   {
    "duration": 31,
    "start_time": "2024-08-24T01:11:11.503Z"
   },
   {
    "duration": 9,
    "start_time": "2024-08-24T01:11:11.537Z"
   },
   {
    "duration": 9,
    "start_time": "2024-08-24T01:11:11.549Z"
   },
   {
    "duration": 8,
    "start_time": "2024-08-24T01:11:11.561Z"
   },
   {
    "duration": 1440,
    "start_time": "2024-08-24T01:11:11.572Z"
   },
   {
    "duration": 1347,
    "start_time": "2024-08-24T01:11:13.014Z"
   },
   {
    "duration": 3,
    "start_time": "2024-08-24T01:11:14.364Z"
   },
   {
    "duration": 4,
    "start_time": "2024-08-24T01:11:14.370Z"
   },
   {
    "duration": 3,
    "start_time": "2024-08-24T01:11:14.377Z"
   },
   {
    "duration": 5,
    "start_time": "2024-08-24T01:11:14.383Z"
   },
   {
    "duration": 43,
    "start_time": "2024-08-24T01:11:14.391Z"
   },
   {
    "duration": 7,
    "start_time": "2024-08-24T01:11:14.437Z"
   },
   {
    "duration": 4,
    "start_time": "2024-08-24T01:11:14.446Z"
   },
   {
    "duration": 3,
    "start_time": "2024-08-24T01:11:14.457Z"
   },
   {
    "duration": 4,
    "start_time": "2024-08-24T01:11:14.463Z"
   },
   {
    "duration": 7,
    "start_time": "2024-08-24T01:30:47.398Z"
   },
   {
    "duration": 6,
    "start_time": "2024-08-24T01:31:04.059Z"
   },
   {
    "duration": 7,
    "start_time": "2024-08-24T01:31:14.219Z"
   },
   {
    "duration": 8,
    "start_time": "2024-08-24T01:31:23.299Z"
   },
   {
    "duration": 11,
    "start_time": "2024-08-24T01:36:50.835Z"
   },
   {
    "duration": 47,
    "start_time": "2024-08-24T01:42:00.539Z"
   },
   {
    "duration": 9,
    "start_time": "2024-08-24T01:50:03.808Z"
   },
   {
    "duration": 5,
    "start_time": "2024-08-24T01:50:28.934Z"
   },
   {
    "duration": 687,
    "start_time": "2024-08-24T01:51:19.678Z"
   },
   {
    "duration": 94,
    "start_time": "2024-08-24T01:51:20.369Z"
   },
   {
    "duration": 21,
    "start_time": "2024-08-24T01:51:20.465Z"
   },
   {
    "duration": 22,
    "start_time": "2024-08-24T01:51:20.491Z"
   },
   {
    "duration": 1353,
    "start_time": "2024-08-24T01:51:20.534Z"
   },
   {
    "duration": 182,
    "start_time": "2024-08-24T01:51:21.890Z"
   },
   {
    "duration": 23,
    "start_time": "2024-08-24T01:51:22.075Z"
   },
   {
    "duration": 211,
    "start_time": "2024-08-24T01:51:22.100Z"
   },
   {
    "duration": 175,
    "start_time": "2024-08-24T01:51:22.314Z"
   },
   {
    "duration": 62,
    "start_time": "2024-08-24T01:51:22.492Z"
   },
   {
    "duration": 25,
    "start_time": "2024-08-24T01:51:22.558Z"
   },
   {
    "duration": 10,
    "start_time": "2024-08-24T01:51:22.586Z"
   },
   {
    "duration": 82,
    "start_time": "2024-08-24T01:51:22.599Z"
   },
   {
    "duration": 22,
    "start_time": "2024-08-24T01:51:22.687Z"
   },
   {
    "duration": 7,
    "start_time": "2024-08-24T01:51:22.732Z"
   },
   {
    "duration": 7,
    "start_time": "2024-08-24T01:51:22.742Z"
   },
   {
    "duration": 12,
    "start_time": "2024-08-24T01:51:22.753Z"
   },
   {
    "duration": 7,
    "start_time": "2024-08-24T01:51:22.768Z"
   },
   {
    "duration": 1378,
    "start_time": "2024-08-24T01:51:22.777Z"
   },
   {
    "duration": 1338,
    "start_time": "2024-08-24T01:51:24.158Z"
   },
   {
    "duration": 12,
    "start_time": "2024-08-24T01:51:25.499Z"
   },
   {
    "duration": 313,
    "start_time": "2024-08-24T01:51:51.544Z"
   },
   {
    "duration": 22,
    "start_time": "2024-08-24T01:52:20.189Z"
   },
   {
    "duration": 26,
    "start_time": "2024-08-24T01:52:26.663Z"
   },
   {
    "duration": 21,
    "start_time": "2024-08-24T01:53:17.488Z"
   },
   {
    "duration": 23,
    "start_time": "2024-08-24T01:54:34.200Z"
   },
   {
    "duration": 728,
    "start_time": "2024-08-24T01:55:43.026Z"
   },
   {
    "duration": 89,
    "start_time": "2024-08-24T01:55:43.757Z"
   },
   {
    "duration": 19,
    "start_time": "2024-08-24T01:55:43.855Z"
   },
   {
    "duration": 20,
    "start_time": "2024-08-24T01:55:43.877Z"
   },
   {
    "duration": 1413,
    "start_time": "2024-08-24T01:55:43.900Z"
   },
   {
    "duration": 177,
    "start_time": "2024-08-24T01:55:45.317Z"
   },
   {
    "duration": 22,
    "start_time": "2024-08-24T01:55:45.497Z"
   },
   {
    "duration": 192,
    "start_time": "2024-08-24T01:55:45.534Z"
   },
   {
    "duration": 172,
    "start_time": "2024-08-24T01:55:45.731Z"
   },
   {
    "duration": 66,
    "start_time": "2024-08-24T01:55:45.906Z"
   },
   {
    "duration": 35,
    "start_time": "2024-08-24T01:55:45.975Z"
   },
   {
    "duration": 26,
    "start_time": "2024-08-24T01:55:46.013Z"
   },
   {
    "duration": 51,
    "start_time": "2024-08-24T01:55:46.043Z"
   },
   {
    "duration": 51,
    "start_time": "2024-08-24T01:55:46.097Z"
   },
   {
    "duration": 7,
    "start_time": "2024-08-24T01:55:46.151Z"
   },
   {
    "duration": 7,
    "start_time": "2024-08-24T01:55:46.161Z"
   },
   {
    "duration": 8,
    "start_time": "2024-08-24T01:55:46.172Z"
   },
   {
    "duration": 51,
    "start_time": "2024-08-24T01:55:46.184Z"
   },
   {
    "duration": 1342,
    "start_time": "2024-08-24T01:55:46.239Z"
   },
   {
    "duration": 1367,
    "start_time": "2024-08-24T01:55:47.584Z"
   },
   {
    "duration": 11,
    "start_time": "2024-08-24T01:55:48.954Z"
   },
   {
    "duration": 312,
    "start_time": "2024-08-24T01:55:58.024Z"
   },
   {
    "duration": 23,
    "start_time": "2024-08-24T01:57:31.797Z"
   },
   {
    "duration": 692,
    "start_time": "2024-08-24T01:57:47.904Z"
   },
   {
    "duration": 90,
    "start_time": "2024-08-24T01:57:48.599Z"
   },
   {
    "duration": 15,
    "start_time": "2024-08-24T01:57:48.692Z"
   },
   {
    "duration": 25,
    "start_time": "2024-08-24T01:57:48.710Z"
   },
   {
    "duration": 1362,
    "start_time": "2024-08-24T01:57:48.740Z"
   },
   {
    "duration": 187,
    "start_time": "2024-08-24T01:57:50.105Z"
   },
   {
    "duration": 38,
    "start_time": "2024-08-24T01:57:50.295Z"
   },
   {
    "duration": 186,
    "start_time": "2024-08-24T01:57:50.337Z"
   },
   {
    "duration": 170,
    "start_time": "2024-08-24T01:57:50.534Z"
   },
   {
    "duration": 61,
    "start_time": "2024-08-24T01:57:50.707Z"
   },
   {
    "duration": 26,
    "start_time": "2024-08-24T01:57:50.771Z"
   },
   {
    "duration": 8,
    "start_time": "2024-08-24T01:57:50.800Z"
   },
   {
    "duration": 72,
    "start_time": "2024-08-24T01:57:50.810Z"
   },
   {
    "duration": 50,
    "start_time": "2024-08-24T01:57:50.889Z"
   },
   {
    "duration": 8,
    "start_time": "2024-08-24T01:57:50.942Z"
   },
   {
    "duration": 6,
    "start_time": "2024-08-24T01:57:50.953Z"
   },
   {
    "duration": 7,
    "start_time": "2024-08-24T01:57:50.963Z"
   },
   {
    "duration": 7,
    "start_time": "2024-08-24T01:57:50.973Z"
   },
   {
    "duration": 1531,
    "start_time": "2024-08-24T01:57:50.983Z"
   },
   {
    "duration": 1507,
    "start_time": "2024-08-24T01:57:52.517Z"
   },
   {
    "duration": 14,
    "start_time": "2024-08-24T01:57:54.029Z"
   },
   {
    "duration": 21,
    "start_time": "2024-08-24T01:57:54.045Z"
   },
   {
    "duration": 4,
    "start_time": "2024-08-24T01:57:54.069Z"
   },
   {
    "duration": 5,
    "start_time": "2024-08-24T01:57:54.075Z"
   },
   {
    "duration": 4,
    "start_time": "2024-08-24T01:57:54.084Z"
   },
   {
    "duration": 5,
    "start_time": "2024-08-24T01:57:54.134Z"
   },
   {
    "duration": 4,
    "start_time": "2024-08-24T01:57:54.142Z"
   },
   {
    "duration": 3,
    "start_time": "2024-08-24T01:57:54.149Z"
   },
   {
    "duration": 4,
    "start_time": "2024-08-24T01:57:54.155Z"
   },
   {
    "duration": 7,
    "start_time": "2024-08-24T01:57:54.162Z"
   },
   {
    "duration": 10,
    "start_time": "2024-08-24T01:59:41.879Z"
   },
   {
    "duration": 15,
    "start_time": "2024-08-24T02:02:17.492Z"
   },
   {
    "duration": 17,
    "start_time": "2024-08-24T02:02:42.122Z"
   },
   {
    "duration": 26,
    "start_time": "2024-08-24T02:07:53.294Z"
   },
   {
    "duration": 6,
    "start_time": "2024-08-24T02:11:07.453Z"
   },
   {
    "duration": 10,
    "start_time": "2024-08-24T02:11:17.453Z"
   },
   {
    "duration": 5,
    "start_time": "2024-08-24T02:11:45.750Z"
   },
   {
    "duration": 15,
    "start_time": "2024-08-24T02:12:14.883Z"
   },
   {
    "duration": 663,
    "start_time": "2024-08-24T23:05:57.909Z"
   },
   {
    "duration": 74,
    "start_time": "2024-08-24T23:05:58.576Z"
   },
   {
    "duration": 28,
    "start_time": "2024-08-24T23:05:58.654Z"
   },
   {
    "duration": 16,
    "start_time": "2024-08-24T23:05:58.686Z"
   },
   {
    "duration": 1313,
    "start_time": "2024-08-24T23:05:58.705Z"
   },
   {
    "duration": 175,
    "start_time": "2024-08-24T23:06:00.021Z"
   },
   {
    "duration": 35,
    "start_time": "2024-08-24T23:06:00.199Z"
   },
   {
    "duration": 191,
    "start_time": "2024-08-24T23:06:00.236Z"
   },
   {
    "duration": 184,
    "start_time": "2024-08-24T23:06:00.434Z"
   },
   {
    "duration": 49,
    "start_time": "2024-08-24T23:06:00.632Z"
   },
   {
    "duration": 24,
    "start_time": "2024-08-24T23:06:00.684Z"
   },
   {
    "duration": 7,
    "start_time": "2024-08-24T23:06:00.732Z"
   },
   {
    "duration": 51,
    "start_time": "2024-08-24T23:06:00.743Z"
   },
   {
    "duration": 49,
    "start_time": "2024-08-24T23:06:00.797Z"
   },
   {
    "duration": 9,
    "start_time": "2024-08-24T23:06:00.849Z"
   },
   {
    "duration": 7,
    "start_time": "2024-08-24T23:06:00.860Z"
   },
   {
    "duration": 9,
    "start_time": "2024-08-24T23:06:00.870Z"
   },
   {
    "duration": 50,
    "start_time": "2024-08-24T23:06:00.882Z"
   },
   {
    "duration": 1405,
    "start_time": "2024-08-24T23:06:00.935Z"
   },
   {
    "duration": 1364,
    "start_time": "2024-08-24T23:06:02.343Z"
   },
   {
    "duration": 24,
    "start_time": "2024-08-24T23:06:03.711Z"
   },
   {
    "duration": 19,
    "start_time": "2024-08-24T23:06:03.737Z"
   },
   {
    "duration": 10,
    "start_time": "2024-08-24T23:06:03.760Z"
   },
   {
    "duration": 4,
    "start_time": "2024-08-24T23:06:03.774Z"
   },
   {
    "duration": 3,
    "start_time": "2024-08-24T23:06:03.782Z"
   },
   {
    "duration": 4,
    "start_time": "2024-08-24T23:06:03.833Z"
   },
   {
    "duration": 4,
    "start_time": "2024-08-24T23:06:03.840Z"
   },
   {
    "duration": 3,
    "start_time": "2024-08-24T23:06:03.852Z"
   },
   {
    "duration": 3,
    "start_time": "2024-08-24T23:06:03.860Z"
   },
   {
    "duration": 4,
    "start_time": "2024-08-24T23:06:03.866Z"
   },
   {
    "duration": 11,
    "start_time": "2024-08-25T13:48:48.255Z"
   },
   {
    "duration": 137,
    "start_time": "2024-08-25T13:52:07.373Z"
   },
   {
    "duration": 14,
    "start_time": "2024-08-25T13:52:30.206Z"
   },
   {
    "duration": 674,
    "start_time": "2024-08-25T15:30:05.588Z"
   },
   {
    "duration": 90,
    "start_time": "2024-08-25T15:30:06.266Z"
   },
   {
    "duration": 32,
    "start_time": "2024-08-25T15:30:06.360Z"
   },
   {
    "duration": 26,
    "start_time": "2024-08-25T15:30:06.396Z"
   },
   {
    "duration": 1392,
    "start_time": "2024-08-25T15:30:06.425Z"
   },
   {
    "duration": 167,
    "start_time": "2024-08-25T15:30:07.824Z"
   },
   {
    "duration": 33,
    "start_time": "2024-08-25T15:30:07.993Z"
   },
   {
    "duration": 191,
    "start_time": "2024-08-25T15:30:08.029Z"
   },
   {
    "duration": 180,
    "start_time": "2024-08-25T15:30:08.225Z"
   },
   {
    "duration": 55,
    "start_time": "2024-08-25T15:30:08.411Z"
   },
   {
    "duration": 23,
    "start_time": "2024-08-25T15:30:08.469Z"
   },
   {
    "duration": 29,
    "start_time": "2024-08-25T15:30:08.495Z"
   },
   {
    "duration": 51,
    "start_time": "2024-08-25T15:30:08.528Z"
   },
   {
    "duration": 51,
    "start_time": "2024-08-25T15:30:08.582Z"
   },
   {
    "duration": 7,
    "start_time": "2024-08-25T15:30:08.636Z"
   },
   {
    "duration": 7,
    "start_time": "2024-08-25T15:30:08.647Z"
   },
   {
    "duration": 8,
    "start_time": "2024-08-25T15:30:08.656Z"
   },
   {
    "duration": 56,
    "start_time": "2024-08-25T15:30:08.667Z"
   },
   {
    "duration": 1362,
    "start_time": "2024-08-25T15:30:08.727Z"
   },
   {
    "duration": 1373,
    "start_time": "2024-08-25T15:30:10.092Z"
   },
   {
    "duration": 12,
    "start_time": "2024-08-25T15:30:11.467Z"
   },
   {
    "duration": 14,
    "start_time": "2024-08-25T15:30:11.482Z"
   },
   {
    "duration": 14,
    "start_time": "2024-08-25T15:30:11.524Z"
   },
   {
    "duration": 4,
    "start_time": "2024-08-25T15:30:11.540Z"
   },
   {
    "duration": 4,
    "start_time": "2024-08-25T15:30:11.546Z"
   },
   {
    "duration": 4,
    "start_time": "2024-08-25T15:30:11.553Z"
   },
   {
    "duration": 3,
    "start_time": "2024-08-25T15:30:11.561Z"
   },
   {
    "duration": 51,
    "start_time": "2024-08-25T15:30:11.572Z"
   },
   {
    "duration": 3,
    "start_time": "2024-08-25T15:30:11.627Z"
   },
   {
    "duration": 5,
    "start_time": "2024-08-25T15:30:11.633Z"
   },
   {
    "duration": 1349,
    "start_time": "2024-08-25T15:31:58.590Z"
   },
   {
    "duration": 62,
    "start_time": "2024-08-25T15:39:27.243Z"
   },
   {
    "duration": 9,
    "start_time": "2024-08-25T15:42:05.433Z"
   },
   {
    "duration": 19,
    "start_time": "2024-08-25T15:42:28.384Z"
   },
   {
    "duration": 15,
    "start_time": "2024-08-25T15:42:47.235Z"
   },
   {
    "duration": 1173,
    "start_time": "2024-08-25T15:43:20.204Z"
   },
   {
    "duration": 13,
    "start_time": "2024-08-25T15:43:28.720Z"
   },
   {
    "duration": 14,
    "start_time": "2024-08-25T15:44:14.138Z"
   },
   {
    "duration": 4444,
    "start_time": "2024-08-25T15:45:03.499Z"
   },
   {
    "duration": 13,
    "start_time": "2024-08-25T15:45:20.612Z"
   },
   {
    "duration": 8,
    "start_time": "2024-08-25T15:46:30.662Z"
   },
   {
    "duration": 16,
    "start_time": "2024-08-25T15:47:38.435Z"
   },
   {
    "duration": 12,
    "start_time": "2024-08-25T15:48:41.332Z"
   },
   {
    "duration": 30,
    "start_time": "2024-08-25T15:50:54.422Z"
   },
   {
    "duration": 28,
    "start_time": "2024-08-25T15:55:52.099Z"
   },
   {
    "duration": 48,
    "start_time": "2024-08-25T15:57:01.501Z"
   },
   {
    "duration": 35,
    "start_time": "2024-08-25T16:00:22.935Z"
   },
   {
    "duration": 13,
    "start_time": "2024-08-25T17:30:59.627Z"
   },
   {
    "duration": 6,
    "start_time": "2024-08-25T17:31:19.472Z"
   },
   {
    "duration": 6,
    "start_time": "2024-08-25T17:31:44.998Z"
   },
   {
    "duration": 311,
    "start_time": "2024-08-25T17:32:15.166Z"
   },
   {
    "duration": 24,
    "start_time": "2024-08-25T17:32:52.945Z"
   },
   {
    "duration": 695,
    "start_time": "2024-08-25T17:33:17.856Z"
   },
   {
    "duration": 95,
    "start_time": "2024-08-25T17:33:18.555Z"
   },
   {
    "duration": 33,
    "start_time": "2024-08-25T17:33:18.653Z"
   },
   {
    "duration": 17,
    "start_time": "2024-08-25T17:33:18.709Z"
   },
   {
    "duration": 1380,
    "start_time": "2024-08-25T17:33:18.729Z"
   },
   {
    "duration": 170,
    "start_time": "2024-08-25T17:33:20.112Z"
   },
   {
    "duration": 33,
    "start_time": "2024-08-25T17:33:20.285Z"
   },
   {
    "duration": 188,
    "start_time": "2024-08-25T17:33:20.320Z"
   },
   {
    "duration": 162,
    "start_time": "2024-08-25T17:33:20.511Z"
   },
   {
    "duration": 61,
    "start_time": "2024-08-25T17:33:20.679Z"
   },
   {
    "duration": 27,
    "start_time": "2024-08-25T17:33:20.743Z"
   },
   {
    "duration": 8,
    "start_time": "2024-08-25T17:33:20.773Z"
   },
   {
    "duration": 51,
    "start_time": "2024-08-25T17:33:20.809Z"
   },
   {
    "duration": 47,
    "start_time": "2024-08-25T17:33:20.863Z"
   },
   {
    "duration": 7,
    "start_time": "2024-08-25T17:33:20.913Z"
   },
   {
    "duration": 9,
    "start_time": "2024-08-25T17:33:20.923Z"
   },
   {
    "duration": 7,
    "start_time": "2024-08-25T17:33:20.936Z"
   },
   {
    "duration": 7,
    "start_time": "2024-08-25T17:33:20.946Z"
   },
   {
    "duration": 1367,
    "start_time": "2024-08-25T17:33:20.956Z"
   },
   {
    "duration": 1310,
    "start_time": "2024-08-25T17:33:22.326Z"
   },
   {
    "duration": 15,
    "start_time": "2024-08-25T17:33:23.639Z"
   },
   {
    "duration": 15,
    "start_time": "2024-08-25T17:33:23.657Z"
   },
   {
    "duration": 41,
    "start_time": "2024-08-25T17:33:23.675Z"
   },
   {
    "duration": 3,
    "start_time": "2024-08-25T17:33:23.719Z"
   },
   {
    "duration": 16,
    "start_time": "2024-08-25T17:33:23.725Z"
   },
   {
    "duration": 11,
    "start_time": "2024-08-25T17:33:23.743Z"
   },
   {
    "duration": 401,
    "start_time": "2024-08-25T17:33:23.757Z"
   },
   {
    "duration": 0,
    "start_time": "2024-08-25T17:33:24.162Z"
   },
   {
    "duration": 0,
    "start_time": "2024-08-25T17:33:24.163Z"
   },
   {
    "duration": 0,
    "start_time": "2024-08-25T17:33:24.165Z"
   },
   {
    "duration": 0,
    "start_time": "2024-08-25T17:33:24.168Z"
   },
   {
    "duration": 0,
    "start_time": "2024-08-25T17:33:24.171Z"
   },
   {
    "duration": 5,
    "start_time": "2024-08-25T17:34:05.055Z"
   },
   {
    "duration": 25,
    "start_time": "2024-08-25T17:34:12.050Z"
   },
   {
    "duration": 658,
    "start_time": "2024-08-25T17:34:29.024Z"
   },
   {
    "duration": 74,
    "start_time": "2024-08-25T17:34:29.686Z"
   },
   {
    "duration": 30,
    "start_time": "2024-08-25T17:34:29.763Z"
   },
   {
    "duration": 16,
    "start_time": "2024-08-25T17:34:29.809Z"
   },
   {
    "duration": 1342,
    "start_time": "2024-08-25T17:34:29.830Z"
   },
   {
    "duration": 210,
    "start_time": "2024-08-25T17:34:31.176Z"
   },
   {
    "duration": 36,
    "start_time": "2024-08-25T17:34:31.389Z"
   },
   {
    "duration": 274,
    "start_time": "2024-08-25T17:34:31.436Z"
   },
   {
    "duration": 181,
    "start_time": "2024-08-25T17:34:31.713Z"
   },
   {
    "duration": 54,
    "start_time": "2024-08-25T17:34:31.897Z"
   },
   {
    "duration": 24,
    "start_time": "2024-08-25T17:34:31.954Z"
   },
   {
    "duration": 32,
    "start_time": "2024-08-25T17:34:31.980Z"
   },
   {
    "duration": 51,
    "start_time": "2024-08-25T17:34:32.015Z"
   },
   {
    "duration": 47,
    "start_time": "2024-08-25T17:34:32.072Z"
   },
   {
    "duration": 7,
    "start_time": "2024-08-25T17:34:32.122Z"
   },
   {
    "duration": 7,
    "start_time": "2024-08-25T17:34:32.132Z"
   },
   {
    "duration": 7,
    "start_time": "2024-08-25T17:34:32.142Z"
   },
   {
    "duration": 6,
    "start_time": "2024-08-25T17:34:32.152Z"
   },
   {
    "duration": 1336,
    "start_time": "2024-08-25T17:34:32.208Z"
   },
   {
    "duration": 1341,
    "start_time": "2024-08-25T17:34:33.547Z"
   },
   {
    "duration": 20,
    "start_time": "2024-08-25T17:34:34.891Z"
   },
   {
    "duration": 17,
    "start_time": "2024-08-25T17:34:34.914Z"
   },
   {
    "duration": 14,
    "start_time": "2024-08-25T17:34:34.935Z"
   },
   {
    "duration": 3,
    "start_time": "2024-08-25T17:34:34.952Z"
   },
   {
    "duration": 57,
    "start_time": "2024-08-25T17:34:34.959Z"
   },
   {
    "duration": 13,
    "start_time": "2024-08-25T17:34:35.020Z"
   },
   {
    "duration": 26,
    "start_time": "2024-08-25T17:34:35.037Z"
   },
   {
    "duration": 74,
    "start_time": "2024-08-25T17:34:35.066Z"
   },
   {
    "duration": 64,
    "start_time": "2024-08-25T17:34:35.144Z"
   },
   {
    "duration": 8,
    "start_time": "2024-08-25T17:34:35.212Z"
   },
   {
    "duration": 3,
    "start_time": "2024-08-25T17:34:35.223Z"
   },
   {
    "duration": 4,
    "start_time": "2024-08-25T17:34:35.229Z"
   },
   {
    "duration": 18,
    "start_time": "2024-08-25T17:40:32.940Z"
   },
   {
    "duration": 9,
    "start_time": "2024-08-25T17:42:12.261Z"
   },
   {
    "duration": 18,
    "start_time": "2024-08-25T17:42:44.841Z"
   },
   {
    "duration": 11,
    "start_time": "2024-08-25T17:43:43.609Z"
   },
   {
    "duration": 343,
    "start_time": "2024-08-25T17:45:43.110Z"
   },
   {
    "duration": 28,
    "start_time": "2024-08-25T17:45:51.798Z"
   },
   {
    "duration": 28,
    "start_time": "2024-08-25T17:46:09.506Z"
   },
   {
    "duration": 9,
    "start_time": "2024-08-25T17:46:30.454Z"
   },
   {
    "duration": 13,
    "start_time": "2024-08-25T17:46:45.222Z"
   },
   {
    "duration": 12,
    "start_time": "2024-08-25T17:49:04.020Z"
   },
   {
    "duration": 167,
    "start_time": "2024-08-25T18:07:20.325Z"
   },
   {
    "duration": 5,
    "start_time": "2024-08-25T18:07:40.957Z"
   },
   {
    "duration": 9,
    "start_time": "2024-08-25T18:08:02.735Z"
   },
   {
    "duration": 14,
    "start_time": "2024-08-25T18:08:51.830Z"
   },
   {
    "duration": 11,
    "start_time": "2024-08-25T18:10:10.986Z"
   },
   {
    "duration": 13,
    "start_time": "2024-08-25T18:11:40.165Z"
   },
   {
    "duration": 23,
    "start_time": "2024-08-25T18:15:57.517Z"
   },
   {
    "duration": 1178,
    "start_time": "2024-08-25T18:17:19.759Z"
   },
   {
    "duration": 645,
    "start_time": "2024-08-25T18:18:10.978Z"
   },
   {
    "duration": 66,
    "start_time": "2024-08-25T18:18:11.627Z"
   },
   {
    "duration": 33,
    "start_time": "2024-08-25T18:18:11.708Z"
   },
   {
    "duration": 22,
    "start_time": "2024-08-25T18:18:11.744Z"
   },
   {
    "duration": 1328,
    "start_time": "2024-08-25T18:18:11.772Z"
   },
   {
    "duration": 170,
    "start_time": "2024-08-25T18:18:13.102Z"
   },
   {
    "duration": 20,
    "start_time": "2024-08-25T18:18:13.275Z"
   },
   {
    "duration": 188,
    "start_time": "2024-08-25T18:18:13.309Z"
   },
   {
    "duration": 172,
    "start_time": "2024-08-25T18:18:13.500Z"
   },
   {
    "duration": 56,
    "start_time": "2024-08-25T18:18:13.675Z"
   },
   {
    "duration": 25,
    "start_time": "2024-08-25T18:18:13.734Z"
   },
   {
    "duration": 8,
    "start_time": "2024-08-25T18:18:13.762Z"
   },
   {
    "duration": 86,
    "start_time": "2024-08-25T18:18:13.775Z"
   },
   {
    "duration": 21,
    "start_time": "2024-08-25T18:18:13.867Z"
   },
   {
    "duration": 8,
    "start_time": "2024-08-25T18:18:13.911Z"
   },
   {
    "duration": 10,
    "start_time": "2024-08-25T18:18:13.922Z"
   },
   {
    "duration": 9,
    "start_time": "2024-08-25T18:18:13.936Z"
   },
   {
    "duration": 7,
    "start_time": "2024-08-25T18:18:13.948Z"
   },
   {
    "duration": 1396,
    "start_time": "2024-08-25T18:18:13.958Z"
   },
   {
    "duration": 1334,
    "start_time": "2024-08-25T18:18:15.357Z"
   },
   {
    "duration": 19,
    "start_time": "2024-08-25T18:18:16.694Z"
   },
   {
    "duration": 15,
    "start_time": "2024-08-25T18:18:16.717Z"
   },
   {
    "duration": 14,
    "start_time": "2024-08-25T18:18:16.735Z"
   },
   {
    "duration": 4,
    "start_time": "2024-08-25T18:18:16.751Z"
   },
   {
    "duration": 56,
    "start_time": "2024-08-25T18:18:16.758Z"
   },
   {
    "duration": 11,
    "start_time": "2024-08-25T18:18:16.817Z"
   },
   {
    "duration": 27,
    "start_time": "2024-08-25T18:18:16.831Z"
   },
   {
    "duration": 75,
    "start_time": "2024-08-25T18:18:16.861Z"
   },
   {
    "duration": 71,
    "start_time": "2024-08-25T18:18:16.939Z"
   },
   {
    "duration": 21,
    "start_time": "2024-08-25T18:18:17.013Z"
   },
   {
    "duration": 12,
    "start_time": "2024-08-25T18:18:17.037Z"
   },
   {
    "duration": 1472,
    "start_time": "2024-08-25T18:18:17.052Z"
   },
   {
    "duration": 110,
    "start_time": "2024-08-25T18:18:55.672Z"
   },
   {
    "duration": 28,
    "start_time": "2024-08-25T18:19:35.990Z"
   },
   {
    "duration": 30,
    "start_time": "2024-08-25T18:38:15.741Z"
   },
   {
    "duration": 27,
    "start_time": "2024-08-25T18:38:22.026Z"
   },
   {
    "duration": 7,
    "start_time": "2024-08-25T19:00:46.986Z"
   },
   {
    "duration": 9,
    "start_time": "2024-08-25T19:04:09.562Z"
   },
   {
    "duration": 8,
    "start_time": "2024-08-25T19:14:57.294Z"
   },
   {
    "duration": 7,
    "start_time": "2024-08-25T19:15:11.652Z"
   },
   {
    "duration": 7,
    "start_time": "2024-08-25T19:15:25.672Z"
   },
   {
    "duration": 7,
    "start_time": "2024-08-25T19:15:40.482Z"
   },
   {
    "duration": 3892,
    "start_time": "2024-08-25T19:16:09.283Z"
   },
   {
    "duration": 1403,
    "start_time": "2024-08-25T19:16:29.638Z"
   },
   {
    "duration": 484,
    "start_time": "2024-08-25T19:16:48.900Z"
   },
   {
    "duration": 520,
    "start_time": "2024-08-25T19:20:36.875Z"
   },
   {
    "duration": 4,
    "start_time": "2024-08-25T19:27:43.941Z"
   },
   {
    "duration": 372,
    "start_time": "2024-08-25T19:55:43.939Z"
   },
   {
    "duration": 265,
    "start_time": "2024-08-25T19:55:53.774Z"
   },
   {
    "duration": 29,
    "start_time": "2024-08-25T20:05:40.476Z"
   },
   {
    "duration": 366,
    "start_time": "2024-08-25T20:06:41.954Z"
   },
   {
    "duration": 11,
    "start_time": "2024-08-25T20:11:30.242Z"
   },
   {
    "duration": 16,
    "start_time": "2024-08-25T20:16:59.470Z"
   },
   {
    "duration": 19,
    "start_time": "2024-08-25T20:18:09.921Z"
   },
   {
    "duration": 19,
    "start_time": "2024-08-25T20:18:21.553Z"
   },
   {
    "duration": 34,
    "start_time": "2024-08-25T20:18:29.687Z"
   },
   {
    "duration": 18,
    "start_time": "2024-08-25T20:18:43.373Z"
   },
   {
    "duration": 33,
    "start_time": "2024-08-25T20:19:23.944Z"
   },
   {
    "duration": 21,
    "start_time": "2024-08-25T20:19:37.080Z"
   },
   {
    "duration": 463,
    "start_time": "2024-08-25T20:26:25.304Z"
   },
   {
    "duration": 312,
    "start_time": "2024-08-25T22:09:40.951Z"
   },
   {
    "duration": 688,
    "start_time": "2024-08-25T22:11:17.766Z"
   },
   {
    "duration": 89,
    "start_time": "2024-08-25T22:11:18.458Z"
   },
   {
    "duration": 31,
    "start_time": "2024-08-25T22:11:18.550Z"
   },
   {
    "duration": 27,
    "start_time": "2024-08-25T22:11:18.586Z"
   },
   {
    "duration": 1360,
    "start_time": "2024-08-25T22:11:18.616Z"
   },
   {
    "duration": 179,
    "start_time": "2024-08-25T22:11:19.979Z"
   },
   {
    "duration": 40,
    "start_time": "2024-08-25T22:11:20.161Z"
   },
   {
    "duration": 197,
    "start_time": "2024-08-25T22:11:20.204Z"
   },
   {
    "duration": 168,
    "start_time": "2024-08-25T22:11:20.405Z"
   },
   {
    "duration": 59,
    "start_time": "2024-08-25T22:11:20.580Z"
   },
   {
    "duration": 23,
    "start_time": "2024-08-25T22:11:20.642Z"
   },
   {
    "duration": 8,
    "start_time": "2024-08-25T22:11:20.668Z"
   },
   {
    "duration": 52,
    "start_time": "2024-08-25T22:11:20.701Z"
   },
   {
    "duration": 51,
    "start_time": "2024-08-25T22:11:20.756Z"
   },
   {
    "duration": 7,
    "start_time": "2024-08-25T22:11:20.810Z"
   },
   {
    "duration": 6,
    "start_time": "2024-08-25T22:11:20.820Z"
   },
   {
    "duration": 8,
    "start_time": "2024-08-25T22:11:20.830Z"
   },
   {
    "duration": 7,
    "start_time": "2024-08-25T22:11:20.841Z"
   },
   {
    "duration": 1384,
    "start_time": "2024-08-25T22:11:20.851Z"
   },
   {
    "duration": 1347,
    "start_time": "2024-08-25T22:11:22.239Z"
   },
   {
    "duration": 18,
    "start_time": "2024-08-25T22:11:23.589Z"
   },
   {
    "duration": 15,
    "start_time": "2024-08-25T22:11:23.612Z"
   },
   {
    "duration": 15,
    "start_time": "2024-08-25T22:11:23.630Z"
   },
   {
    "duration": 3,
    "start_time": "2024-08-25T22:11:23.648Z"
   },
   {
    "duration": 58,
    "start_time": "2024-08-25T22:11:23.654Z"
   },
   {
    "duration": 12,
    "start_time": "2024-08-25T22:11:23.715Z"
   },
   {
    "duration": 26,
    "start_time": "2024-08-25T22:11:23.730Z"
   },
   {
    "duration": 38,
    "start_time": "2024-08-25T22:11:23.801Z"
   },
   {
    "duration": 69,
    "start_time": "2024-08-25T22:11:23.842Z"
   },
   {
    "duration": 22,
    "start_time": "2024-08-25T22:11:23.914Z"
   },
   {
    "duration": 12,
    "start_time": "2024-08-25T22:11:23.939Z"
   },
   {
    "duration": 63,
    "start_time": "2024-08-25T22:11:23.954Z"
   },
   {
    "duration": 9,
    "start_time": "2024-08-25T22:11:24.021Z"
   },
   {
    "duration": 4542,
    "start_time": "2024-08-25T22:11:24.033Z"
   },
   {
    "duration": 284,
    "start_time": "2024-08-25T22:11:28.578Z"
   },
   {
    "duration": 424,
    "start_time": "2024-08-25T22:11:28.864Z"
   },
   {
    "duration": 16,
    "start_time": "2024-08-25T22:11:29.292Z"
   },
   {
    "duration": 22,
    "start_time": "2024-08-25T22:11:29.311Z"
   },
   {
    "duration": 506,
    "start_time": "2024-08-25T22:11:29.336Z"
   },
   {
    "duration": 310,
    "start_time": "2024-08-25T22:11:29.845Z"
   },
   {
    "duration": 1188,
    "start_time": "2024-08-25T22:17:14.790Z"
   },
   {
    "duration": 690,
    "start_time": "2024-08-25T22:17:36.104Z"
   },
   {
    "duration": 68,
    "start_time": "2024-08-25T22:17:36.805Z"
   },
   {
    "duration": 50,
    "start_time": "2024-08-25T22:17:36.877Z"
   },
   {
    "duration": 16,
    "start_time": "2024-08-25T22:17:36.930Z"
   },
   {
    "duration": 1296,
    "start_time": "2024-08-25T22:17:36.949Z"
   },
   {
    "duration": 167,
    "start_time": "2024-08-25T22:17:38.248Z"
   },
   {
    "duration": 21,
    "start_time": "2024-08-25T22:17:38.418Z"
   },
   {
    "duration": 200,
    "start_time": "2024-08-25T22:17:38.442Z"
   },
   {
    "duration": 168,
    "start_time": "2024-08-25T22:17:38.648Z"
   },
   {
    "duration": 43,
    "start_time": "2024-08-25T22:17:38.819Z"
   },
   {
    "duration": 50,
    "start_time": "2024-08-25T22:17:38.865Z"
   },
   {
    "duration": 8,
    "start_time": "2024-08-25T22:17:38.918Z"
   },
   {
    "duration": 77,
    "start_time": "2024-08-25T22:17:38.929Z"
   },
   {
    "duration": 25,
    "start_time": "2024-08-25T22:17:39.008Z"
   },
   {
    "duration": 9,
    "start_time": "2024-08-25T22:17:39.036Z"
   },
   {
    "duration": 7,
    "start_time": "2024-08-25T22:17:39.048Z"
   },
   {
    "duration": 48,
    "start_time": "2024-08-25T22:17:39.058Z"
   },
   {
    "duration": 8,
    "start_time": "2024-08-25T22:17:39.110Z"
   },
   {
    "duration": 1389,
    "start_time": "2024-08-25T22:17:39.121Z"
   },
   {
    "duration": 1355,
    "start_time": "2024-08-25T22:17:40.513Z"
   },
   {
    "duration": 12,
    "start_time": "2024-08-25T22:17:41.871Z"
   },
   {
    "duration": 14,
    "start_time": "2024-08-25T22:17:41.902Z"
   },
   {
    "duration": 14,
    "start_time": "2024-08-25T22:17:41.919Z"
   },
   {
    "duration": 3,
    "start_time": "2024-08-25T22:17:41.936Z"
   },
   {
    "duration": 58,
    "start_time": "2024-08-25T22:17:41.943Z"
   },
   {
    "duration": 11,
    "start_time": "2024-08-25T22:17:42.004Z"
   },
   {
    "duration": 26,
    "start_time": "2024-08-25T22:17:42.022Z"
   },
   {
    "duration": 74,
    "start_time": "2024-08-25T22:17:42.051Z"
   },
   {
    "duration": 48,
    "start_time": "2024-08-25T22:17:42.128Z"
   },
   {
    "duration": 36,
    "start_time": "2024-08-25T22:17:42.179Z"
   },
   {
    "duration": 16,
    "start_time": "2024-08-25T22:17:42.218Z"
   },
   {
    "duration": 65,
    "start_time": "2024-08-25T22:17:42.238Z"
   },
   {
    "duration": 9,
    "start_time": "2024-08-25T22:17:42.306Z"
   },
   {
    "duration": 790,
    "start_time": "2024-08-25T22:17:42.318Z"
   },
   {
    "duration": 281,
    "start_time": "2024-08-25T22:17:43.111Z"
   },
   {
    "duration": 379,
    "start_time": "2024-08-25T22:17:43.395Z"
   },
   {
    "duration": 24,
    "start_time": "2024-08-25T22:17:43.778Z"
   },
   {
    "duration": 22,
    "start_time": "2024-08-25T22:17:43.805Z"
   },
   {
    "duration": 500,
    "start_time": "2024-08-25T22:17:43.829Z"
   },
   {
    "duration": 303,
    "start_time": "2024-08-25T22:17:44.332Z"
   },
   {
    "duration": 1194,
    "start_time": "2024-08-25T22:17:44.638Z"
   },
   {
    "duration": 80,
    "start_time": "2024-08-25T22:20:23.216Z"
   },
   {
    "duration": 77,
    "start_time": "2024-08-25T22:20:46.279Z"
   },
   {
    "duration": 74,
    "start_time": "2024-08-25T22:21:18.359Z"
   },
   {
    "duration": 10,
    "start_time": "2024-08-25T22:22:48.053Z"
   },
   {
    "duration": 10,
    "start_time": "2024-08-25T22:23:52.015Z"
   },
   {
    "duration": 5,
    "start_time": "2024-08-25T22:27:14.124Z"
   },
   {
    "duration": 12,
    "start_time": "2024-08-25T22:33:08.697Z"
   },
   {
    "duration": 355,
    "start_time": "2024-08-25T22:46:26.482Z"
   },
   {
    "duration": 17,
    "start_time": "2024-08-25T22:51:22.637Z"
   },
   {
    "duration": 334,
    "start_time": "2024-08-25T22:56:00.619Z"
   },
   {
    "duration": 68,
    "start_time": "2024-08-25T22:59:04.555Z"
   },
   {
    "duration": 642,
    "start_time": "2024-08-25T23:00:25.240Z"
   },
   {
    "duration": 82,
    "start_time": "2024-08-25T23:00:25.886Z"
   },
   {
    "duration": 42,
    "start_time": "2024-08-25T23:00:25.974Z"
   },
   {
    "duration": 16,
    "start_time": "2024-08-25T23:00:26.023Z"
   },
   {
    "duration": 1306,
    "start_time": "2024-08-25T23:00:26.042Z"
   },
   {
    "duration": 169,
    "start_time": "2024-08-25T23:00:27.351Z"
   },
   {
    "duration": 20,
    "start_time": "2024-08-25T23:00:27.523Z"
   },
   {
    "duration": 228,
    "start_time": "2024-08-25T23:00:27.546Z"
   },
   {
    "duration": 167,
    "start_time": "2024-08-25T23:00:27.777Z"
   },
   {
    "duration": 52,
    "start_time": "2024-08-25T23:00:27.951Z"
   },
   {
    "duration": 24,
    "start_time": "2024-08-25T23:00:28.007Z"
   },
   {
    "duration": 8,
    "start_time": "2024-08-25T23:00:28.034Z"
   },
   {
    "duration": 82,
    "start_time": "2024-08-25T23:00:28.045Z"
   },
   {
    "duration": 27,
    "start_time": "2024-08-25T23:00:28.130Z"
   },
   {
    "duration": 8,
    "start_time": "2024-08-25T23:00:28.160Z"
   },
   {
    "duration": 39,
    "start_time": "2024-08-25T23:00:28.170Z"
   },
   {
    "duration": 12,
    "start_time": "2024-08-25T23:00:28.212Z"
   },
   {
    "duration": 9,
    "start_time": "2024-08-25T23:00:28.227Z"
   },
   {
    "duration": 1364,
    "start_time": "2024-08-25T23:00:28.240Z"
   },
   {
    "duration": 1339,
    "start_time": "2024-08-25T23:00:29.607Z"
   },
   {
    "duration": 12,
    "start_time": "2024-08-25T23:00:30.949Z"
   },
   {
    "duration": 37,
    "start_time": "2024-08-25T23:00:30.966Z"
   },
   {
    "duration": 14,
    "start_time": "2024-08-25T23:00:31.007Z"
   },
   {
    "duration": 3,
    "start_time": "2024-08-25T23:00:31.023Z"
   },
   {
    "duration": 16,
    "start_time": "2024-08-25T23:00:31.029Z"
   },
   {
    "duration": 12,
    "start_time": "2024-08-25T23:00:31.048Z"
   },
   {
    "duration": 25,
    "start_time": "2024-08-25T23:00:31.103Z"
   },
   {
    "duration": 38,
    "start_time": "2024-08-25T23:00:31.136Z"
   },
   {
    "duration": 73,
    "start_time": "2024-08-25T23:00:31.176Z"
   },
   {
    "duration": 49,
    "start_time": "2024-08-25T23:00:31.252Z"
   },
   {
    "duration": 13,
    "start_time": "2024-08-25T23:00:31.304Z"
   },
   {
    "duration": 30,
    "start_time": "2024-08-25T23:00:31.320Z"
   },
   {
    "duration": 49,
    "start_time": "2024-08-25T23:00:31.353Z"
   },
   {
    "duration": 774,
    "start_time": "2024-08-25T23:00:31.404Z"
   },
   {
    "duration": 283,
    "start_time": "2024-08-25T23:00:32.182Z"
   },
   {
    "duration": 384,
    "start_time": "2024-08-25T23:00:32.468Z"
   },
   {
    "duration": 9,
    "start_time": "2024-08-25T23:00:32.855Z"
   },
   {
    "duration": 42,
    "start_time": "2024-08-25T23:00:32.867Z"
   },
   {
    "duration": 489,
    "start_time": "2024-08-25T23:00:32.913Z"
   },
   {
    "duration": 311,
    "start_time": "2024-08-25T23:00:33.405Z"
   },
   {
    "duration": 10,
    "start_time": "2024-08-25T23:00:33.719Z"
   },
   {
    "duration": 6,
    "start_time": "2024-08-25T23:00:33.731Z"
   },
   {
    "duration": 13,
    "start_time": "2024-08-25T23:00:33.740Z"
   },
   {
    "duration": 406,
    "start_time": "2024-08-25T23:00:33.757Z"
   },
   {
    "duration": 20,
    "start_time": "2024-08-25T23:00:34.168Z"
   },
   {
    "duration": 1020,
    "start_time": "2024-08-25T23:00:34.191Z"
   },
   {
    "duration": 31,
    "start_time": "2024-08-25T23:12:21.666Z"
   },
   {
    "duration": 662,
    "start_time": "2024-08-25T23:12:49.124Z"
   },
   {
    "duration": 70,
    "start_time": "2024-08-25T23:12:49.789Z"
   },
   {
    "duration": 48,
    "start_time": "2024-08-25T23:12:49.862Z"
   },
   {
    "duration": 17,
    "start_time": "2024-08-25T23:12:49.915Z"
   },
   {
    "duration": 1295,
    "start_time": "2024-08-25T23:12:49.936Z"
   },
   {
    "duration": 169,
    "start_time": "2024-08-25T23:12:51.235Z"
   },
   {
    "duration": 20,
    "start_time": "2024-08-25T23:12:51.407Z"
   },
   {
    "duration": 203,
    "start_time": "2024-08-25T23:12:51.429Z"
   },
   {
    "duration": 171,
    "start_time": "2024-08-25T23:12:51.635Z"
   },
   {
    "duration": 48,
    "start_time": "2024-08-25T23:12:51.809Z"
   },
   {
    "duration": 55,
    "start_time": "2024-08-25T23:12:51.860Z"
   },
   {
    "duration": 8,
    "start_time": "2024-08-25T23:12:51.918Z"
   },
   {
    "duration": 72,
    "start_time": "2024-08-25T23:12:51.929Z"
   },
   {
    "duration": 22,
    "start_time": "2024-08-25T23:12:52.008Z"
   },
   {
    "duration": 7,
    "start_time": "2024-08-25T23:12:52.034Z"
   },
   {
    "duration": 10,
    "start_time": "2024-08-25T23:12:52.044Z"
   },
   {
    "duration": 45,
    "start_time": "2024-08-25T23:12:52.057Z"
   },
   {
    "duration": 9,
    "start_time": "2024-08-25T23:12:52.105Z"
   },
   {
    "duration": 1370,
    "start_time": "2024-08-25T23:12:52.117Z"
   },
   {
    "duration": 1369,
    "start_time": "2024-08-25T23:12:53.490Z"
   },
   {
    "duration": 12,
    "start_time": "2024-08-25T23:12:54.862Z"
   },
   {
    "duration": 36,
    "start_time": "2024-08-25T23:12:54.876Z"
   },
   {
    "duration": 15,
    "start_time": "2024-08-25T23:12:54.916Z"
   },
   {
    "duration": 4,
    "start_time": "2024-08-25T23:12:54.934Z"
   },
   {
    "duration": 16,
    "start_time": "2024-08-25T23:12:54.942Z"
   },
   {
    "duration": 50,
    "start_time": "2024-08-25T23:12:54.960Z"
   },
   {
    "duration": 24,
    "start_time": "2024-08-25T23:12:55.014Z"
   },
   {
    "duration": 71,
    "start_time": "2024-08-25T23:12:55.041Z"
   },
   {
    "duration": 49,
    "start_time": "2024-08-25T23:12:55.115Z"
   },
   {
    "duration": 46,
    "start_time": "2024-08-25T23:12:55.167Z"
   },
   {
    "duration": 12,
    "start_time": "2024-08-25T23:12:55.215Z"
   },
   {
    "duration": 28,
    "start_time": "2024-08-25T23:12:55.229Z"
   },
   {
    "duration": 42,
    "start_time": "2024-08-25T23:12:55.260Z"
   },
   {
    "duration": 796,
    "start_time": "2024-08-25T23:12:55.305Z"
   },
   {
    "duration": 310,
    "start_time": "2024-08-25T23:12:56.105Z"
   },
   {
    "duration": 392,
    "start_time": "2024-08-25T23:12:56.420Z"
   },
   {
    "duration": 11,
    "start_time": "2024-08-25T23:12:56.815Z"
   },
   {
    "duration": 23,
    "start_time": "2024-08-25T23:12:56.828Z"
   },
   {
    "duration": 505,
    "start_time": "2024-08-25T23:12:56.856Z"
   },
   {
    "duration": 318,
    "start_time": "2024-08-25T23:12:57.364Z"
   },
   {
    "duration": 10,
    "start_time": "2024-08-25T23:12:57.701Z"
   },
   {
    "duration": 5,
    "start_time": "2024-08-25T23:12:57.714Z"
   },
   {
    "duration": 13,
    "start_time": "2024-08-25T23:12:57.722Z"
   },
   {
    "duration": 694,
    "start_time": "2024-08-25T23:12:57.739Z"
   },
   {
    "duration": 0,
    "start_time": "2024-08-25T23:12:58.436Z"
   },
   {
    "duration": 0,
    "start_time": "2024-08-25T23:12:58.438Z"
   },
   {
    "duration": 0,
    "start_time": "2024-08-25T23:12:58.440Z"
   },
   {
    "duration": 0,
    "start_time": "2024-08-25T23:12:58.442Z"
   },
   {
    "duration": 518,
    "start_time": "2024-08-25T23:15:40.127Z"
   },
   {
    "duration": 305,
    "start_time": "2024-08-25T23:15:47.140Z"
   },
   {
    "duration": 24,
    "start_time": "2024-08-25T23:25:06.982Z"
   },
   {
    "duration": 218,
    "start_time": "2024-08-25T23:25:12.058Z"
   },
   {
    "duration": 681,
    "start_time": "2024-08-25T23:25:38.977Z"
   },
   {
    "duration": 80,
    "start_time": "2024-08-25T23:25:39.662Z"
   },
   {
    "duration": 31,
    "start_time": "2024-08-25T23:25:39.745Z"
   },
   {
    "duration": 38,
    "start_time": "2024-08-25T23:25:39.779Z"
   },
   {
    "duration": 1292,
    "start_time": "2024-08-25T23:25:39.823Z"
   },
   {
    "duration": 186,
    "start_time": "2024-08-25T23:25:41.118Z"
   },
   {
    "duration": 20,
    "start_time": "2024-08-25T23:25:41.307Z"
   },
   {
    "duration": 203,
    "start_time": "2024-08-25T23:25:41.330Z"
   },
   {
    "duration": 180,
    "start_time": "2024-08-25T23:25:41.536Z"
   },
   {
    "duration": 49,
    "start_time": "2024-08-25T23:25:41.721Z"
   },
   {
    "duration": 43,
    "start_time": "2024-08-25T23:25:41.773Z"
   },
   {
    "duration": 10,
    "start_time": "2024-08-25T23:25:41.819Z"
   },
   {
    "duration": 70,
    "start_time": "2024-08-25T23:25:41.833Z"
   },
   {
    "duration": 22,
    "start_time": "2024-08-25T23:25:41.910Z"
   },
   {
    "duration": 7,
    "start_time": "2024-08-25T23:25:41.934Z"
   },
   {
    "duration": 8,
    "start_time": "2024-08-25T23:25:41.944Z"
   },
   {
    "duration": 49,
    "start_time": "2024-08-25T23:25:41.955Z"
   },
   {
    "duration": 6,
    "start_time": "2024-08-25T23:25:42.008Z"
   },
   {
    "duration": 1367,
    "start_time": "2024-08-25T23:25:42.017Z"
   },
   {
    "duration": 1357,
    "start_time": "2024-08-25T23:25:43.387Z"
   },
   {
    "duration": 10,
    "start_time": "2024-08-25T23:25:44.747Z"
   },
   {
    "duration": 13,
    "start_time": "2024-08-25T23:25:44.761Z"
   },
   {
    "duration": 16,
    "start_time": "2024-08-25T23:25:44.802Z"
   },
   {
    "duration": 7,
    "start_time": "2024-08-25T23:25:44.825Z"
   },
   {
    "duration": 18,
    "start_time": "2024-08-25T23:25:44.835Z"
   },
   {
    "duration": 45,
    "start_time": "2024-08-25T23:25:44.858Z"
   },
   {
    "duration": 24,
    "start_time": "2024-08-25T23:25:44.906Z"
   },
   {
    "duration": 37,
    "start_time": "2024-08-25T23:25:44.934Z"
   },
   {
    "duration": 74,
    "start_time": "2024-08-25T23:25:44.974Z"
   },
   {
    "duration": 21,
    "start_time": "2024-08-25T23:25:45.051Z"
   },
   {
    "duration": 13,
    "start_time": "2024-08-25T23:25:45.103Z"
   },
   {
    "duration": 27,
    "start_time": "2024-08-25T23:25:45.118Z"
   },
   {
    "duration": 9,
    "start_time": "2024-08-25T23:25:45.148Z"
   },
   {
    "duration": 770,
    "start_time": "2024-08-25T23:25:45.202Z"
   },
   {
    "duration": 286,
    "start_time": "2024-08-25T23:25:45.975Z"
   },
   {
    "duration": 392,
    "start_time": "2024-08-25T23:25:46.263Z"
   },
   {
    "duration": 11,
    "start_time": "2024-08-25T23:25:46.658Z"
   },
   {
    "duration": 46,
    "start_time": "2024-08-25T23:25:46.672Z"
   },
   {
    "duration": 494,
    "start_time": "2024-08-25T23:25:46.722Z"
   },
   {
    "duration": 295,
    "start_time": "2024-08-25T23:25:47.220Z"
   },
   {
    "duration": 11,
    "start_time": "2024-08-25T23:25:47.523Z"
   },
   {
    "duration": 6,
    "start_time": "2024-08-25T23:25:47.536Z"
   },
   {
    "duration": 13,
    "start_time": "2024-08-25T23:25:47.545Z"
   },
   {
    "duration": 565,
    "start_time": "2024-08-25T23:25:47.561Z"
   },
   {
    "duration": 326,
    "start_time": "2024-08-25T23:25:48.129Z"
   },
   {
    "duration": 230,
    "start_time": "2024-08-25T23:25:48.458Z"
   },
   {
    "duration": 170,
    "start_time": "2024-08-25T23:25:48.691Z"
   },
   {
    "duration": 0,
    "start_time": "2024-08-25T23:25:48.864Z"
   },
   {
    "duration": 0,
    "start_time": "2024-08-25T23:25:48.866Z"
   },
   {
    "duration": 0,
    "start_time": "2024-08-25T23:25:48.868Z"
   },
   {
    "duration": 25,
    "start_time": "2024-08-25T23:26:49.367Z"
   },
   {
    "duration": 295,
    "start_time": "2024-08-25T23:27:29.846Z"
   },
   {
    "duration": 26,
    "start_time": "2024-08-25T23:28:19.391Z"
   },
   {
    "duration": 27,
    "start_time": "2024-08-25T23:29:26.043Z"
   },
   {
    "duration": 22,
    "start_time": "2024-08-25T23:29:35.599Z"
   },
   {
    "duration": 23,
    "start_time": "2024-08-25T23:29:55.351Z"
   },
   {
    "duration": 25,
    "start_time": "2024-08-25T23:30:08.677Z"
   },
   {
    "duration": 3,
    "start_time": "2024-08-25T23:31:30.147Z"
   },
   {
    "duration": 214,
    "start_time": "2024-08-25T23:32:07.069Z"
   },
   {
    "duration": 8,
    "start_time": "2024-08-25T23:36:24.787Z"
   },
   {
    "duration": 14,
    "start_time": "2024-08-25T23:36:48.952Z"
   },
   {
    "duration": 587,
    "start_time": "2024-08-25T23:42:06.619Z"
   },
   {
    "duration": 403,
    "start_time": "2024-08-25T23:43:33.202Z"
   },
   {
    "duration": 689,
    "start_time": "2024-08-25T23:44:10.861Z"
   },
   {
    "duration": 91,
    "start_time": "2024-08-25T23:44:11.553Z"
   },
   {
    "duration": 31,
    "start_time": "2024-08-25T23:44:11.647Z"
   },
   {
    "duration": 34,
    "start_time": "2024-08-25T23:44:11.682Z"
   },
   {
    "duration": 1363,
    "start_time": "2024-08-25T23:44:11.719Z"
   },
   {
    "duration": 171,
    "start_time": "2024-08-25T23:44:13.085Z"
   },
   {
    "duration": 21,
    "start_time": "2024-08-25T23:44:13.261Z"
   },
   {
    "duration": 187,
    "start_time": "2024-08-25T23:44:13.301Z"
   },
   {
    "duration": 167,
    "start_time": "2024-08-25T23:44:13.492Z"
   },
   {
    "duration": 62,
    "start_time": "2024-08-25T23:44:13.665Z"
   },
   {
    "duration": 28,
    "start_time": "2024-08-25T23:44:13.729Z"
   },
   {
    "duration": 10,
    "start_time": "2024-08-25T23:44:13.760Z"
   },
   {
    "duration": 51,
    "start_time": "2024-08-25T23:44:13.801Z"
   },
   {
    "duration": 48,
    "start_time": "2024-08-25T23:44:13.855Z"
   },
   {
    "duration": 7,
    "start_time": "2024-08-25T23:44:13.907Z"
   },
   {
    "duration": 7,
    "start_time": "2024-08-25T23:44:13.917Z"
   },
   {
    "duration": 7,
    "start_time": "2024-08-25T23:44:13.927Z"
   },
   {
    "duration": 7,
    "start_time": "2024-08-25T23:44:13.937Z"
   },
   {
    "duration": 1382,
    "start_time": "2024-08-25T23:44:13.947Z"
   },
   {
    "duration": 1372,
    "start_time": "2024-08-25T23:44:15.332Z"
   },
   {
    "duration": 12,
    "start_time": "2024-08-25T23:44:16.712Z"
   },
   {
    "duration": 15,
    "start_time": "2024-08-25T23:44:16.727Z"
   },
   {
    "duration": 17,
    "start_time": "2024-08-25T23:44:16.745Z"
   },
   {
    "duration": 38,
    "start_time": "2024-08-25T23:44:16.765Z"
   },
   {
    "duration": 18,
    "start_time": "2024-08-25T23:44:16.807Z"
   },
   {
    "duration": 11,
    "start_time": "2024-08-25T23:44:16.827Z"
   },
   {
    "duration": 61,
    "start_time": "2024-08-25T23:44:16.841Z"
   },
   {
    "duration": 38,
    "start_time": "2024-08-25T23:44:16.911Z"
   },
   {
    "duration": 78,
    "start_time": "2024-08-25T23:44:16.952Z"
   },
   {
    "duration": 21,
    "start_time": "2024-08-25T23:44:17.033Z"
   },
   {
    "duration": 11,
    "start_time": "2024-08-25T23:44:17.057Z"
   },
   {
    "duration": 58,
    "start_time": "2024-08-25T23:44:17.071Z"
   },
   {
    "duration": 9,
    "start_time": "2024-08-25T23:44:17.132Z"
   },
   {
    "duration": 801,
    "start_time": "2024-08-25T23:44:17.144Z"
   },
   {
    "duration": 298,
    "start_time": "2024-08-25T23:44:17.949Z"
   },
   {
    "duration": 380,
    "start_time": "2024-08-25T23:44:18.250Z"
   },
   {
    "duration": 11,
    "start_time": "2024-08-25T23:44:18.633Z"
   },
   {
    "duration": 22,
    "start_time": "2024-08-25T23:44:18.646Z"
   },
   {
    "duration": 508,
    "start_time": "2024-08-25T23:44:18.670Z"
   },
   {
    "duration": 310,
    "start_time": "2024-08-25T23:44:19.181Z"
   },
   {
    "duration": 15,
    "start_time": "2024-08-25T23:44:19.494Z"
   },
   {
    "duration": 4,
    "start_time": "2024-08-25T23:44:19.512Z"
   },
   {
    "duration": 12,
    "start_time": "2024-08-25T23:44:19.520Z"
   },
   {
    "duration": 560,
    "start_time": "2024-08-25T23:44:19.535Z"
   },
   {
    "duration": 316,
    "start_time": "2024-08-25T23:44:20.097Z"
   },
   {
    "duration": 244,
    "start_time": "2024-08-25T23:44:20.416Z"
   },
   {
    "duration": 15,
    "start_time": "2024-08-25T23:44:20.663Z"
   },
   {
    "duration": 375,
    "start_time": "2024-08-25T23:44:20.681Z"
   },
   {
    "duration": 358,
    "start_time": "2024-08-25T23:44:21.059Z"
   },
   {
    "duration": 17,
    "start_time": "2024-08-25T23:44:21.420Z"
   },
   {
    "duration": 990,
    "start_time": "2024-08-25T23:44:21.440Z"
   },
   {
    "duration": 729,
    "start_time": "2024-08-25T23:45:24.077Z"
   },
   {
    "duration": 92,
    "start_time": "2024-08-25T23:45:24.809Z"
   },
   {
    "duration": 30,
    "start_time": "2024-08-25T23:45:24.906Z"
   },
   {
    "duration": 16,
    "start_time": "2024-08-25T23:45:24.941Z"
   },
   {
    "duration": 1417,
    "start_time": "2024-08-25T23:45:24.961Z"
   },
   {
    "duration": 180,
    "start_time": "2024-08-25T23:45:26.381Z"
   },
   {
    "duration": 20,
    "start_time": "2024-08-25T23:45:26.564Z"
   },
   {
    "duration": 193,
    "start_time": "2024-08-25T23:45:26.602Z"
   },
   {
    "duration": 174,
    "start_time": "2024-08-25T23:45:26.802Z"
   },
   {
    "duration": 60,
    "start_time": "2024-08-25T23:45:26.982Z"
   },
   {
    "duration": 23,
    "start_time": "2024-08-25T23:45:27.045Z"
   },
   {
    "duration": 32,
    "start_time": "2024-08-25T23:45:27.070Z"
   },
   {
    "duration": 54,
    "start_time": "2024-08-25T23:45:27.106Z"
   },
   {
    "duration": 47,
    "start_time": "2024-08-25T23:45:27.162Z"
   },
   {
    "duration": 7,
    "start_time": "2024-08-25T23:45:27.212Z"
   },
   {
    "duration": 6,
    "start_time": "2024-08-25T23:45:27.223Z"
   },
   {
    "duration": 8,
    "start_time": "2024-08-25T23:45:27.233Z"
   },
   {
    "duration": 6,
    "start_time": "2024-08-25T23:45:27.244Z"
   },
   {
    "duration": 1349,
    "start_time": "2024-08-25T23:45:27.301Z"
   },
   {
    "duration": 1362,
    "start_time": "2024-08-25T23:45:28.652Z"
   },
   {
    "duration": 11,
    "start_time": "2024-08-25T23:45:30.017Z"
   },
   {
    "duration": 16,
    "start_time": "2024-08-25T23:45:30.030Z"
   },
   {
    "duration": 13,
    "start_time": "2024-08-25T23:45:30.049Z"
   },
   {
    "duration": 3,
    "start_time": "2024-08-25T23:45:30.103Z"
   },
   {
    "duration": 16,
    "start_time": "2024-08-25T23:45:30.109Z"
   },
   {
    "duration": 11,
    "start_time": "2024-08-25T23:45:30.128Z"
   },
   {
    "duration": 64,
    "start_time": "2024-08-25T23:45:30.141Z"
   },
   {
    "duration": 37,
    "start_time": "2024-08-25T23:45:30.213Z"
   },
   {
    "duration": 73,
    "start_time": "2024-08-25T23:45:30.254Z"
   },
   {
    "duration": 22,
    "start_time": "2024-08-25T23:45:30.330Z"
   },
   {
    "duration": 13,
    "start_time": "2024-08-25T23:45:30.355Z"
   },
   {
    "duration": 57,
    "start_time": "2024-08-25T23:45:30.371Z"
   },
   {
    "duration": 9,
    "start_time": "2024-08-25T23:45:30.431Z"
   },
   {
    "duration": 805,
    "start_time": "2024-08-25T23:45:30.443Z"
   },
   {
    "duration": 277,
    "start_time": "2024-08-25T23:45:31.251Z"
   },
   {
    "duration": 396,
    "start_time": "2024-08-25T23:45:31.531Z"
   },
   {
    "duration": 11,
    "start_time": "2024-08-25T23:45:31.930Z"
   },
   {
    "duration": 22,
    "start_time": "2024-08-25T23:45:31.944Z"
   },
   {
    "duration": 479,
    "start_time": "2024-08-25T23:45:32.001Z"
   },
   {
    "duration": 301,
    "start_time": "2024-08-25T23:45:32.483Z"
   },
   {
    "duration": 22,
    "start_time": "2024-08-25T23:45:32.787Z"
   },
   {
    "duration": 6,
    "start_time": "2024-08-25T23:45:32.813Z"
   },
   {
    "duration": 14,
    "start_time": "2024-08-25T23:45:32.823Z"
   },
   {
    "duration": 543,
    "start_time": "2024-08-25T23:45:32.841Z"
   },
   {
    "duration": 314,
    "start_time": "2024-08-25T23:45:33.387Z"
   },
   {
    "duration": 232,
    "start_time": "2024-08-25T23:45:33.705Z"
   },
   {
    "duration": 15,
    "start_time": "2024-08-25T23:45:33.940Z"
   },
   {
    "duration": 380,
    "start_time": "2024-08-25T23:45:33.959Z"
   },
   {
    "duration": 362,
    "start_time": "2024-08-25T23:45:34.342Z"
   },
   {
    "duration": 17,
    "start_time": "2024-08-25T23:45:34.707Z"
   },
   {
    "duration": 1008,
    "start_time": "2024-08-25T23:45:34.727Z"
   },
   {
    "duration": 336,
    "start_time": "2024-08-25T23:46:04.355Z"
   },
   {
    "duration": 341,
    "start_time": "2024-08-25T23:47:02.331Z"
   },
   {
    "duration": 16,
    "start_time": "2024-08-25T23:47:14.222Z"
   },
   {
    "duration": 644,
    "start_time": "2024-08-25T23:47:47.392Z"
   },
   {
    "duration": 744,
    "start_time": "2024-08-26T04:29:57.788Z"
   },
   {
    "duration": 97,
    "start_time": "2024-08-26T04:29:58.536Z"
   },
   {
    "duration": 31,
    "start_time": "2024-08-26T04:29:58.636Z"
   },
   {
    "duration": 18,
    "start_time": "2024-08-26T04:29:58.669Z"
   },
   {
    "duration": 1394,
    "start_time": "2024-08-26T04:29:58.712Z"
   },
   {
    "duration": 163,
    "start_time": "2024-08-26T04:30:00.110Z"
   },
   {
    "duration": 34,
    "start_time": "2024-08-26T04:30:00.276Z"
   },
   {
    "duration": 204,
    "start_time": "2024-08-26T04:30:00.313Z"
   },
   {
    "duration": 172,
    "start_time": "2024-08-26T04:30:00.520Z"
   },
   {
    "duration": 49,
    "start_time": "2024-08-26T04:30:00.696Z"
   },
   {
    "duration": 25,
    "start_time": "2024-08-26T04:30:00.748Z"
   },
   {
    "duration": 34,
    "start_time": "2024-08-26T04:30:00.775Z"
   },
   {
    "duration": 58,
    "start_time": "2024-08-26T04:30:00.812Z"
   },
   {
    "duration": 45,
    "start_time": "2024-08-26T04:30:00.877Z"
   },
   {
    "duration": 8,
    "start_time": "2024-08-26T04:30:00.926Z"
   },
   {
    "duration": 6,
    "start_time": "2024-08-26T04:30:00.937Z"
   },
   {
    "duration": 7,
    "start_time": "2024-08-26T04:30:00.947Z"
   },
   {
    "duration": 8,
    "start_time": "2024-08-26T04:30:00.956Z"
   },
   {
    "duration": 1332,
    "start_time": "2024-08-26T04:30:01.010Z"
   },
   {
    "duration": 1339,
    "start_time": "2024-08-26T04:30:02.346Z"
   },
   {
    "duration": 21,
    "start_time": "2024-08-26T04:30:03.688Z"
   },
   {
    "duration": 15,
    "start_time": "2024-08-26T04:30:03.711Z"
   },
   {
    "duration": 13,
    "start_time": "2024-08-26T04:30:03.729Z"
   },
   {
    "duration": 4,
    "start_time": "2024-08-26T04:30:03.746Z"
   },
   {
    "duration": 58,
    "start_time": "2024-08-26T04:30:03.752Z"
   },
   {
    "duration": 12,
    "start_time": "2024-08-26T04:30:03.816Z"
   },
   {
    "duration": 27,
    "start_time": "2024-08-26T04:30:03.830Z"
   },
   {
    "duration": 71,
    "start_time": "2024-08-26T04:30:03.859Z"
   },
   {
    "duration": 48,
    "start_time": "2024-08-26T04:30:03.933Z"
   },
   {
    "duration": 44,
    "start_time": "2024-08-26T04:30:03.985Z"
   },
   {
    "duration": 12,
    "start_time": "2024-08-26T04:30:04.032Z"
   },
   {
    "duration": 27,
    "start_time": "2024-08-26T04:30:04.047Z"
   },
   {
    "duration": 8,
    "start_time": "2024-08-26T04:30:04.110Z"
   },
   {
    "duration": 4555,
    "start_time": "2024-08-26T04:30:04.122Z"
   },
   {
    "duration": 278,
    "start_time": "2024-08-26T04:30:08.680Z"
   },
   {
    "duration": 438,
    "start_time": "2024-08-26T04:30:08.961Z"
   },
   {
    "duration": 10,
    "start_time": "2024-08-26T04:30:09.402Z"
   },
   {
    "duration": 22,
    "start_time": "2024-08-26T04:30:09.415Z"
   },
   {
    "duration": 498,
    "start_time": "2024-08-26T04:30:09.440Z"
   },
   {
    "duration": 293,
    "start_time": "2024-08-26T04:30:09.942Z"
   },
   {
    "duration": 10,
    "start_time": "2024-08-26T04:30:10.243Z"
   },
   {
    "duration": 5,
    "start_time": "2024-08-26T04:30:10.256Z"
   },
   {
    "duration": 46,
    "start_time": "2024-08-26T04:30:10.264Z"
   },
   {
    "duration": 524,
    "start_time": "2024-08-26T04:30:10.312Z"
   },
   {
    "duration": 316,
    "start_time": "2024-08-26T04:30:10.839Z"
   },
   {
    "duration": 238,
    "start_time": "2024-08-26T04:30:11.158Z"
   },
   {
    "duration": 21,
    "start_time": "2024-08-26T04:30:11.399Z"
   },
   {
    "duration": 379,
    "start_time": "2024-08-26T04:30:11.423Z"
   },
   {
    "duration": 365,
    "start_time": "2024-08-26T04:30:11.809Z"
   },
   {
    "duration": 17,
    "start_time": "2024-08-26T04:30:12.177Z"
   },
   {
    "duration": 680,
    "start_time": "2024-08-26T04:30:12.197Z"
   },
   {
    "duration": 162,
    "start_time": "2024-08-26T04:31:36.334Z"
   },
   {
    "duration": 7,
    "start_time": "2024-08-26T17:25:46.123Z"
   },
   {
    "duration": 3,
    "start_time": "2024-08-26T17:26:21.861Z"
   },
   {
    "duration": 4,
    "start_time": "2024-08-26T17:26:39.533Z"
   },
   {
    "duration": 4,
    "start_time": "2024-08-26T17:27:23.047Z"
   },
   {
    "duration": 496,
    "start_time": "2024-08-26T17:27:43.835Z"
   },
   {
    "duration": 72,
    "start_time": "2024-08-26T17:27:44.333Z"
   },
   {
    "duration": 20,
    "start_time": "2024-08-26T17:27:44.407Z"
   },
   {
    "duration": 10,
    "start_time": "2024-08-26T17:27:44.431Z"
   },
   {
    "duration": 801,
    "start_time": "2024-08-26T17:27:44.443Z"
   },
   {
    "duration": 4,
    "start_time": "2024-08-26T17:27:45.245Z"
   },
   {
    "duration": 0,
    "start_time": "2024-08-26T17:27:45.252Z"
   },
   {
    "duration": 0,
    "start_time": "2024-08-26T17:27:45.253Z"
   },
   {
    "duration": 0,
    "start_time": "2024-08-26T17:27:45.254Z"
   },
   {
    "duration": 0,
    "start_time": "2024-08-26T17:27:45.255Z"
   },
   {
    "duration": 0,
    "start_time": "2024-08-26T17:27:45.256Z"
   },
   {
    "duration": 0,
    "start_time": "2024-08-26T17:27:45.257Z"
   },
   {
    "duration": 0,
    "start_time": "2024-08-26T17:27:45.258Z"
   },
   {
    "duration": 0,
    "start_time": "2024-08-26T17:27:45.259Z"
   },
   {
    "duration": 0,
    "start_time": "2024-08-26T17:27:45.260Z"
   },
   {
    "duration": 0,
    "start_time": "2024-08-26T17:27:45.262Z"
   },
   {
    "duration": 0,
    "start_time": "2024-08-26T17:27:45.263Z"
   },
   {
    "duration": 0,
    "start_time": "2024-08-26T17:27:45.265Z"
   },
   {
    "duration": 0,
    "start_time": "2024-08-26T17:27:45.266Z"
   },
   {
    "duration": 0,
    "start_time": "2024-08-26T17:27:45.267Z"
   },
   {
    "duration": 0,
    "start_time": "2024-08-26T17:27:45.269Z"
   },
   {
    "duration": 0,
    "start_time": "2024-08-26T17:27:45.270Z"
   },
   {
    "duration": 0,
    "start_time": "2024-08-26T17:27:45.271Z"
   },
   {
    "duration": 0,
    "start_time": "2024-08-26T17:27:45.272Z"
   },
   {
    "duration": 0,
    "start_time": "2024-08-26T17:27:45.274Z"
   },
   {
    "duration": 0,
    "start_time": "2024-08-26T17:27:45.275Z"
   },
   {
    "duration": 0,
    "start_time": "2024-08-26T17:27:45.276Z"
   },
   {
    "duration": 0,
    "start_time": "2024-08-26T17:27:45.276Z"
   },
   {
    "duration": 0,
    "start_time": "2024-08-26T17:27:45.277Z"
   },
   {
    "duration": 0,
    "start_time": "2024-08-26T17:27:45.277Z"
   },
   {
    "duration": 0,
    "start_time": "2024-08-26T17:27:45.278Z"
   },
   {
    "duration": 0,
    "start_time": "2024-08-26T17:27:45.320Z"
   },
   {
    "duration": 0,
    "start_time": "2024-08-26T17:27:45.321Z"
   },
   {
    "duration": 0,
    "start_time": "2024-08-26T17:27:45.323Z"
   },
   {
    "duration": 0,
    "start_time": "2024-08-26T17:27:45.326Z"
   },
   {
    "duration": 0,
    "start_time": "2024-08-26T17:27:45.327Z"
   },
   {
    "duration": 0,
    "start_time": "2024-08-26T17:27:45.328Z"
   },
   {
    "duration": 0,
    "start_time": "2024-08-26T17:27:45.329Z"
   },
   {
    "duration": 0,
    "start_time": "2024-08-26T17:27:45.330Z"
   },
   {
    "duration": 0,
    "start_time": "2024-08-26T17:27:45.331Z"
   },
   {
    "duration": 0,
    "start_time": "2024-08-26T17:27:45.332Z"
   },
   {
    "duration": 0,
    "start_time": "2024-08-26T17:27:45.333Z"
   },
   {
    "duration": 0,
    "start_time": "2024-08-26T17:27:45.334Z"
   },
   {
    "duration": 0,
    "start_time": "2024-08-26T17:27:45.335Z"
   },
   {
    "duration": 0,
    "start_time": "2024-08-26T17:27:45.336Z"
   },
   {
    "duration": 0,
    "start_time": "2024-08-26T17:27:45.337Z"
   },
   {
    "duration": 0,
    "start_time": "2024-08-26T17:27:45.337Z"
   },
   {
    "duration": 0,
    "start_time": "2024-08-26T17:27:45.339Z"
   },
   {
    "duration": 0,
    "start_time": "2024-08-26T17:27:45.341Z"
   },
   {
    "duration": 0,
    "start_time": "2024-08-26T17:27:45.342Z"
   },
   {
    "duration": 0,
    "start_time": "2024-08-26T17:27:45.343Z"
   },
   {
    "duration": 0,
    "start_time": "2024-08-26T17:27:45.345Z"
   },
   {
    "duration": 0,
    "start_time": "2024-08-26T17:27:45.345Z"
   },
   {
    "duration": 85,
    "start_time": "2024-08-26T17:29:03.858Z"
   },
   {
    "duration": 159,
    "start_time": "2024-08-26T17:30:03.272Z"
   },
   {
    "duration": 893,
    "start_time": "2024-08-26T17:31:16.491Z"
   },
   {
    "duration": 5,
    "start_time": "2024-08-26T17:33:23.082Z"
   },
   {
    "duration": 1204,
    "start_time": "2024-08-26T17:34:09.090Z"
   },
   {
    "duration": 4,
    "start_time": "2024-08-26T17:34:10.296Z"
   },
   {
    "duration": 0,
    "start_time": "2024-08-26T17:34:10.304Z"
   },
   {
    "duration": 0,
    "start_time": "2024-08-26T17:34:10.305Z"
   },
   {
    "duration": 0,
    "start_time": "2024-08-26T17:34:10.305Z"
   },
   {
    "duration": 0,
    "start_time": "2024-08-26T17:34:10.319Z"
   },
   {
    "duration": 0,
    "start_time": "2024-08-26T17:34:10.320Z"
   },
   {
    "duration": 0,
    "start_time": "2024-08-26T17:34:10.321Z"
   },
   {
    "duration": 0,
    "start_time": "2024-08-26T17:34:10.322Z"
   },
   {
    "duration": 0,
    "start_time": "2024-08-26T17:34:10.323Z"
   },
   {
    "duration": 0,
    "start_time": "2024-08-26T17:34:10.324Z"
   },
   {
    "duration": 0,
    "start_time": "2024-08-26T17:34:10.325Z"
   },
   {
    "duration": 0,
    "start_time": "2024-08-26T17:34:10.327Z"
   },
   {
    "duration": 0,
    "start_time": "2024-08-26T17:34:10.328Z"
   },
   {
    "duration": 0,
    "start_time": "2024-08-26T17:34:10.329Z"
   },
   {
    "duration": 0,
    "start_time": "2024-08-26T17:34:10.330Z"
   },
   {
    "duration": 0,
    "start_time": "2024-08-26T17:34:10.331Z"
   },
   {
    "duration": 0,
    "start_time": "2024-08-26T17:34:10.332Z"
   },
   {
    "duration": 0,
    "start_time": "2024-08-26T17:34:10.333Z"
   },
   {
    "duration": 0,
    "start_time": "2024-08-26T17:34:10.334Z"
   },
   {
    "duration": 0,
    "start_time": "2024-08-26T17:34:10.335Z"
   },
   {
    "duration": 0,
    "start_time": "2024-08-26T17:34:10.336Z"
   },
   {
    "duration": 0,
    "start_time": "2024-08-26T17:34:10.337Z"
   },
   {
    "duration": 0,
    "start_time": "2024-08-26T17:34:10.339Z"
   },
   {
    "duration": 0,
    "start_time": "2024-08-26T17:34:10.340Z"
   },
   {
    "duration": 0,
    "start_time": "2024-08-26T17:34:10.342Z"
   },
   {
    "duration": 0,
    "start_time": "2024-08-26T17:34:10.343Z"
   },
   {
    "duration": 0,
    "start_time": "2024-08-26T17:34:10.345Z"
   },
   {
    "duration": 0,
    "start_time": "2024-08-26T17:34:10.346Z"
   },
   {
    "duration": 0,
    "start_time": "2024-08-26T17:34:10.348Z"
   },
   {
    "duration": 0,
    "start_time": "2024-08-26T17:34:10.353Z"
   },
   {
    "duration": 0,
    "start_time": "2024-08-26T17:34:10.354Z"
   },
   {
    "duration": 0,
    "start_time": "2024-08-26T17:34:10.356Z"
   },
   {
    "duration": 0,
    "start_time": "2024-08-26T17:34:10.357Z"
   },
   {
    "duration": 0,
    "start_time": "2024-08-26T17:34:10.359Z"
   },
   {
    "duration": 0,
    "start_time": "2024-08-26T17:34:10.420Z"
   },
   {
    "duration": 0,
    "start_time": "2024-08-26T17:34:10.421Z"
   },
   {
    "duration": 1,
    "start_time": "2024-08-26T17:34:10.422Z"
   },
   {
    "duration": 0,
    "start_time": "2024-08-26T17:34:10.423Z"
   },
   {
    "duration": 0,
    "start_time": "2024-08-26T17:34:10.425Z"
   },
   {
    "duration": 0,
    "start_time": "2024-08-26T17:34:10.427Z"
   },
   {
    "duration": 0,
    "start_time": "2024-08-26T17:34:10.428Z"
   },
   {
    "duration": 0,
    "start_time": "2024-08-26T17:34:10.430Z"
   },
   {
    "duration": 0,
    "start_time": "2024-08-26T17:34:10.432Z"
   },
   {
    "duration": 0,
    "start_time": "2024-08-26T17:34:10.433Z"
   },
   {
    "duration": 0,
    "start_time": "2024-08-26T17:34:10.434Z"
   },
   {
    "duration": 0,
    "start_time": "2024-08-26T17:34:10.436Z"
   },
   {
    "duration": 0,
    "start_time": "2024-08-26T17:34:10.437Z"
   },
   {
    "duration": 0,
    "start_time": "2024-08-26T17:34:10.439Z"
   },
   {
    "duration": 3,
    "start_time": "2024-08-26T17:34:28.582Z"
   },
   {
    "duration": 32,
    "start_time": "2024-08-26T17:35:39.272Z"
   },
   {
    "duration": 22,
    "start_time": "2024-08-26T17:35:49.055Z"
   },
   {
    "duration": 75,
    "start_time": "2024-08-26T17:36:12.078Z"
   },
   {
    "duration": 84,
    "start_time": "2024-08-26T17:37:30.394Z"
   },
   {
    "duration": 10,
    "start_time": "2024-08-26T17:37:46.439Z"
   },
   {
    "duration": 14,
    "start_time": "2024-08-26T17:38:08.724Z"
   },
   {
    "duration": 11,
    "start_time": "2024-08-26T17:38:17.258Z"
   },
   {
    "duration": 101,
    "start_time": "2024-08-26T17:40:29.961Z"
   },
   {
    "duration": 56,
    "start_time": "2024-08-26T17:40:44.828Z"
   },
   {
    "duration": 97,
    "start_time": "2024-08-26T17:41:07.793Z"
   },
   {
    "duration": 133,
    "start_time": "2024-08-26T17:41:34.086Z"
   },
   {
    "duration": 13,
    "start_time": "2024-08-26T17:45:08.186Z"
   },
   {
    "duration": 4,
    "start_time": "2024-08-26T17:46:37.029Z"
   },
   {
    "duration": 5,
    "start_time": "2024-08-26T17:47:00.830Z"
   },
   {
    "duration": 3,
    "start_time": "2024-08-26T17:47:14.973Z"
   },
   {
    "duration": 1224,
    "start_time": "2024-08-26T17:47:38.856Z"
   },
   {
    "duration": 3,
    "start_time": "2024-08-26T17:47:40.082Z"
   },
   {
    "duration": 0,
    "start_time": "2024-08-26T17:47:40.089Z"
   },
   {
    "duration": 0,
    "start_time": "2024-08-26T17:47:40.090Z"
   },
   {
    "duration": 0,
    "start_time": "2024-08-26T17:47:40.091Z"
   },
   {
    "duration": 0,
    "start_time": "2024-08-26T17:47:40.093Z"
   },
   {
    "duration": 0,
    "start_time": "2024-08-26T17:47:40.094Z"
   },
   {
    "duration": 0,
    "start_time": "2024-08-26T17:47:40.095Z"
   },
   {
    "duration": 0,
    "start_time": "2024-08-26T17:47:40.097Z"
   },
   {
    "duration": 0,
    "start_time": "2024-08-26T17:47:40.098Z"
   },
   {
    "duration": 0,
    "start_time": "2024-08-26T17:47:40.099Z"
   },
   {
    "duration": 1,
    "start_time": "2024-08-26T17:47:40.119Z"
   },
   {
    "duration": 0,
    "start_time": "2024-08-26T17:47:40.120Z"
   },
   {
    "duration": 0,
    "start_time": "2024-08-26T17:47:40.121Z"
   },
   {
    "duration": 0,
    "start_time": "2024-08-26T17:47:40.123Z"
   },
   {
    "duration": 0,
    "start_time": "2024-08-26T17:47:40.124Z"
   },
   {
    "duration": 0,
    "start_time": "2024-08-26T17:47:40.125Z"
   },
   {
    "duration": 0,
    "start_time": "2024-08-26T17:47:40.126Z"
   },
   {
    "duration": 0,
    "start_time": "2024-08-26T17:47:40.127Z"
   },
   {
    "duration": 0,
    "start_time": "2024-08-26T17:47:40.129Z"
   },
   {
    "duration": 0,
    "start_time": "2024-08-26T17:47:40.130Z"
   },
   {
    "duration": 0,
    "start_time": "2024-08-26T17:47:40.131Z"
   },
   {
    "duration": 0,
    "start_time": "2024-08-26T17:47:40.132Z"
   },
   {
    "duration": 0,
    "start_time": "2024-08-26T17:47:40.133Z"
   },
   {
    "duration": 0,
    "start_time": "2024-08-26T17:47:40.134Z"
   },
   {
    "duration": 0,
    "start_time": "2024-08-26T17:47:40.136Z"
   },
   {
    "duration": 0,
    "start_time": "2024-08-26T17:47:40.137Z"
   },
   {
    "duration": 0,
    "start_time": "2024-08-26T17:47:40.139Z"
   },
   {
    "duration": 0,
    "start_time": "2024-08-26T17:47:40.141Z"
   },
   {
    "duration": 0,
    "start_time": "2024-08-26T17:47:40.142Z"
   },
   {
    "duration": 0,
    "start_time": "2024-08-26T17:47:40.144Z"
   },
   {
    "duration": 0,
    "start_time": "2024-08-26T17:47:40.148Z"
   },
   {
    "duration": 0,
    "start_time": "2024-08-26T17:47:40.149Z"
   },
   {
    "duration": 0,
    "start_time": "2024-08-26T17:47:40.151Z"
   },
   {
    "duration": 0,
    "start_time": "2024-08-26T17:47:40.152Z"
   },
   {
    "duration": 0,
    "start_time": "2024-08-26T17:47:40.154Z"
   },
   {
    "duration": 0,
    "start_time": "2024-08-26T17:47:40.156Z"
   },
   {
    "duration": 0,
    "start_time": "2024-08-26T17:47:40.157Z"
   },
   {
    "duration": 0,
    "start_time": "2024-08-26T17:47:40.220Z"
   },
   {
    "duration": 0,
    "start_time": "2024-08-26T17:47:40.221Z"
   },
   {
    "duration": 0,
    "start_time": "2024-08-26T17:47:40.222Z"
   },
   {
    "duration": 0,
    "start_time": "2024-08-26T17:47:40.223Z"
   },
   {
    "duration": 0,
    "start_time": "2024-08-26T17:47:40.224Z"
   },
   {
    "duration": 0,
    "start_time": "2024-08-26T17:47:40.225Z"
   },
   {
    "duration": 0,
    "start_time": "2024-08-26T17:47:40.227Z"
   },
   {
    "duration": 0,
    "start_time": "2024-08-26T17:47:40.228Z"
   },
   {
    "duration": 0,
    "start_time": "2024-08-26T17:47:40.229Z"
   },
   {
    "duration": 0,
    "start_time": "2024-08-26T17:47:40.230Z"
   },
   {
    "duration": 0,
    "start_time": "2024-08-26T17:47:40.231Z"
   },
   {
    "duration": 0,
    "start_time": "2024-08-26T17:47:40.232Z"
   },
   {
    "duration": 575,
    "start_time": "2024-08-26T17:49:16.283Z"
   },
   {
    "duration": 87,
    "start_time": "2024-08-26T17:49:28.333Z"
   },
   {
    "duration": 115,
    "start_time": "2024-08-26T17:50:10.949Z"
   },
   {
    "duration": 75,
    "start_time": "2024-08-26T17:50:25.732Z"
   },
   {
    "duration": 40,
    "start_time": "2024-08-26T17:50:45.323Z"
   },
   {
    "duration": 4,
    "start_time": "2024-08-26T17:53:14.916Z"
   },
   {
    "duration": 3,
    "start_time": "2024-08-26T17:54:14.590Z"
   },
   {
    "duration": 4,
    "start_time": "2024-08-26T17:54:28.605Z"
   },
   {
    "duration": 11,
    "start_time": "2024-08-26T17:55:22.573Z"
   },
   {
    "duration": 3,
    "start_time": "2024-08-26T17:56:15.124Z"
   },
   {
    "duration": 5,
    "start_time": "2024-08-26T17:57:37.595Z"
   },
   {
    "duration": 888,
    "start_time": "2024-08-26T17:59:05.214Z"
   },
   {
    "duration": 4,
    "start_time": "2024-08-26T18:00:27.268Z"
   },
   {
    "duration": 311,
    "start_time": "2024-08-26T23:48:23.011Z"
   },
   {
    "duration": 2192,
    "start_time": "2024-08-26T23:48:57.726Z"
   },
   {
    "duration": 7,
    "start_time": "2024-08-26T23:48:59.921Z"
   },
   {
    "duration": 0,
    "start_time": "2024-08-26T23:48:59.947Z"
   },
   {
    "duration": 0,
    "start_time": "2024-08-26T23:48:59.948Z"
   },
   {
    "duration": 0,
    "start_time": "2024-08-26T23:48:59.950Z"
   },
   {
    "duration": 0,
    "start_time": "2024-08-26T23:48:59.952Z"
   },
   {
    "duration": 0,
    "start_time": "2024-08-26T23:48:59.955Z"
   },
   {
    "duration": 0,
    "start_time": "2024-08-26T23:48:59.957Z"
   },
   {
    "duration": 0,
    "start_time": "2024-08-26T23:48:59.960Z"
   },
   {
    "duration": 1,
    "start_time": "2024-08-26T23:48:59.961Z"
   },
   {
    "duration": 0,
    "start_time": "2024-08-26T23:48:59.963Z"
   },
   {
    "duration": 0,
    "start_time": "2024-08-26T23:48:59.965Z"
   },
   {
    "duration": 0,
    "start_time": "2024-08-26T23:48:59.968Z"
   },
   {
    "duration": 0,
    "start_time": "2024-08-26T23:48:59.970Z"
   },
   {
    "duration": 0,
    "start_time": "2024-08-26T23:48:59.972Z"
   },
   {
    "duration": 0,
    "start_time": "2024-08-26T23:48:59.975Z"
   },
   {
    "duration": 0,
    "start_time": "2024-08-26T23:48:59.976Z"
   },
   {
    "duration": 0,
    "start_time": "2024-08-26T23:48:59.979Z"
   },
   {
    "duration": 0,
    "start_time": "2024-08-26T23:48:59.981Z"
   },
   {
    "duration": 0,
    "start_time": "2024-08-26T23:48:59.984Z"
   },
   {
    "duration": 0,
    "start_time": "2024-08-26T23:48:59.986Z"
   },
   {
    "duration": 0,
    "start_time": "2024-08-26T23:48:59.987Z"
   },
   {
    "duration": 0,
    "start_time": "2024-08-26T23:49:00.042Z"
   },
   {
    "duration": 0,
    "start_time": "2024-08-26T23:49:00.043Z"
   },
   {
    "duration": 0,
    "start_time": "2024-08-26T23:49:00.046Z"
   },
   {
    "duration": 0,
    "start_time": "2024-08-26T23:49:00.048Z"
   },
   {
    "duration": 0,
    "start_time": "2024-08-26T23:49:00.050Z"
   },
   {
    "duration": 0,
    "start_time": "2024-08-26T23:49:00.052Z"
   },
   {
    "duration": 0,
    "start_time": "2024-08-26T23:49:00.054Z"
   },
   {
    "duration": 0,
    "start_time": "2024-08-26T23:49:00.056Z"
   },
   {
    "duration": 0,
    "start_time": "2024-08-26T23:49:00.058Z"
   },
   {
    "duration": 0,
    "start_time": "2024-08-26T23:49:00.061Z"
   },
   {
    "duration": 0,
    "start_time": "2024-08-26T23:49:00.064Z"
   },
   {
    "duration": 0,
    "start_time": "2024-08-26T23:49:00.066Z"
   },
   {
    "duration": 1,
    "start_time": "2024-08-26T23:49:00.067Z"
   },
   {
    "duration": 0,
    "start_time": "2024-08-26T23:49:00.070Z"
   },
   {
    "duration": 0,
    "start_time": "2024-08-26T23:49:00.081Z"
   },
   {
    "duration": 0,
    "start_time": "2024-08-26T23:49:00.082Z"
   },
   {
    "duration": 0,
    "start_time": "2024-08-26T23:49:00.083Z"
   },
   {
    "duration": 0,
    "start_time": "2024-08-26T23:49:00.084Z"
   },
   {
    "duration": 0,
    "start_time": "2024-08-26T23:49:00.143Z"
   },
   {
    "duration": 0,
    "start_time": "2024-08-26T23:49:00.144Z"
   },
   {
    "duration": 1,
    "start_time": "2024-08-26T23:49:00.146Z"
   },
   {
    "duration": 0,
    "start_time": "2024-08-26T23:49:00.149Z"
   },
   {
    "duration": 0,
    "start_time": "2024-08-26T23:49:00.152Z"
   },
   {
    "duration": 0,
    "start_time": "2024-08-26T23:49:00.154Z"
   },
   {
    "duration": 0,
    "start_time": "2024-08-26T23:49:00.156Z"
   },
   {
    "duration": 0,
    "start_time": "2024-08-26T23:49:00.158Z"
   },
   {
    "duration": 0,
    "start_time": "2024-08-26T23:49:00.160Z"
   },
   {
    "duration": 2043,
    "start_time": "2024-08-26T23:49:56.417Z"
   },
   {
    "duration": 168,
    "start_time": "2024-08-26T23:49:58.464Z"
   },
   {
    "duration": 22,
    "start_time": "2024-08-26T23:49:58.641Z"
   },
   {
    "duration": 197,
    "start_time": "2024-08-26T23:49:58.667Z"
   },
   {
    "duration": 165,
    "start_time": "2024-08-26T23:49:58.867Z"
   },
   {
    "duration": 44,
    "start_time": "2024-08-26T23:49:59.035Z"
   },
   {
    "duration": 274,
    "start_time": "2024-08-26T23:49:59.082Z"
   },
   {
    "duration": 23,
    "start_time": "2024-08-26T23:49:59.359Z"
   },
   {
    "duration": 8,
    "start_time": "2024-08-26T23:49:59.385Z"
   },
   {
    "duration": 77,
    "start_time": "2024-08-26T23:49:59.398Z"
   },
   {
    "duration": 37,
    "start_time": "2024-08-26T23:49:59.478Z"
   },
   {
    "duration": 28,
    "start_time": "2024-08-26T23:49:59.518Z"
   },
   {
    "duration": 7,
    "start_time": "2024-08-26T23:49:59.549Z"
   },
   {
    "duration": 7,
    "start_time": "2024-08-26T23:49:59.559Z"
   },
   {
    "duration": 6,
    "start_time": "2024-08-26T23:49:59.569Z"
   },
   {
    "duration": 132,
    "start_time": "2024-08-26T23:49:59.579Z"
   },
   {
    "duration": 252,
    "start_time": "2024-08-26T23:49:59.714Z"
   },
   {
    "duration": 12,
    "start_time": "2024-08-26T23:49:59.968Z"
   },
   {
    "duration": 16,
    "start_time": "2024-08-26T23:49:59.983Z"
   },
   {
    "duration": 41,
    "start_time": "2024-08-26T23:50:00.002Z"
   },
   {
    "duration": 3,
    "start_time": "2024-08-26T23:50:00.046Z"
   },
   {
    "duration": 17,
    "start_time": "2024-08-26T23:50:00.051Z"
   },
   {
    "duration": 11,
    "start_time": "2024-08-26T23:50:00.072Z"
   },
   {
    "duration": 68,
    "start_time": "2024-08-26T23:50:00.085Z"
   },
   {
    "duration": 38,
    "start_time": "2024-08-26T23:50:00.157Z"
   },
   {
    "duration": 79,
    "start_time": "2024-08-26T23:50:00.198Z"
   },
   {
    "duration": 22,
    "start_time": "2024-08-26T23:50:00.280Z"
   },
   {
    "duration": 32,
    "start_time": "2024-08-26T23:50:00.310Z"
   },
   {
    "duration": 28,
    "start_time": "2024-08-26T23:50:00.345Z"
   },
   {
    "duration": 8,
    "start_time": "2024-08-26T23:50:00.376Z"
   },
   {
    "duration": 4327,
    "start_time": "2024-08-26T23:50:00.387Z"
   },
   {
    "duration": 277,
    "start_time": "2024-08-26T23:50:04.719Z"
   },
   {
    "duration": 373,
    "start_time": "2024-08-26T23:50:04.999Z"
   },
   {
    "duration": 11,
    "start_time": "2024-08-26T23:50:05.374Z"
   },
   {
    "duration": 56,
    "start_time": "2024-08-26T23:50:05.387Z"
   },
   {
    "duration": 550,
    "start_time": "2024-08-26T23:50:05.446Z"
   },
   {
    "duration": 300,
    "start_time": "2024-08-26T23:50:05.999Z"
   },
   {
    "duration": 11,
    "start_time": "2024-08-26T23:50:06.303Z"
   },
   {
    "duration": 28,
    "start_time": "2024-08-26T23:50:06.316Z"
   },
   {
    "duration": 14,
    "start_time": "2024-08-26T23:50:06.347Z"
   },
   {
    "duration": 544,
    "start_time": "2024-08-26T23:50:06.364Z"
   },
   {
    "duration": 321,
    "start_time": "2024-08-26T23:50:06.910Z"
   },
   {
    "duration": 230,
    "start_time": "2024-08-26T23:50:07.233Z"
   },
   {
    "duration": 14,
    "start_time": "2024-08-26T23:50:07.466Z"
   },
   {
    "duration": 371,
    "start_time": "2024-08-26T23:50:07.483Z"
   },
   {
    "duration": 357,
    "start_time": "2024-08-26T23:50:07.856Z"
   },
   {
    "duration": 28,
    "start_time": "2024-08-26T23:50:08.216Z"
   },
   {
    "duration": 624,
    "start_time": "2024-08-26T23:50:08.247Z"
   },
   {
    "duration": 1289,
    "start_time": "2024-08-26T23:51:19.114Z"
   },
   {
    "duration": 1137,
    "start_time": "2024-08-26T23:52:15.469Z"
   },
   {
    "duration": 7,
    "start_time": "2024-08-27T00:00:57.538Z"
   },
   {
    "duration": 2040,
    "start_time": "2024-08-27T00:14:00.730Z"
   },
   {
    "duration": 179,
    "start_time": "2024-08-27T00:14:02.778Z"
   },
   {
    "duration": 22,
    "start_time": "2024-08-27T00:14:02.961Z"
   },
   {
    "duration": 200,
    "start_time": "2024-08-27T00:14:02.985Z"
   },
   {
    "duration": 190,
    "start_time": "2024-08-27T00:14:03.188Z"
   },
   {
    "duration": 61,
    "start_time": "2024-08-27T00:14:03.381Z"
   },
   {
    "duration": 256,
    "start_time": "2024-08-27T00:14:03.445Z"
   },
   {
    "duration": 39,
    "start_time": "2024-08-27T00:14:03.704Z"
   },
   {
    "duration": 9,
    "start_time": "2024-08-27T00:14:03.748Z"
   },
   {
    "duration": 50,
    "start_time": "2024-08-27T00:14:03.760Z"
   },
   {
    "duration": 62,
    "start_time": "2024-08-27T00:14:03.813Z"
   },
   {
    "duration": 7,
    "start_time": "2024-08-27T00:14:03.877Z"
   },
   {
    "duration": 6,
    "start_time": "2024-08-27T00:14:03.888Z"
   },
   {
    "duration": 47,
    "start_time": "2024-08-27T00:14:03.897Z"
   },
   {
    "duration": 8,
    "start_time": "2024-08-27T00:14:03.947Z"
   },
   {
    "duration": 1319,
    "start_time": "2024-08-27T00:14:03.958Z"
   },
   {
    "duration": 1209,
    "start_time": "2024-08-27T00:14:05.280Z"
   },
   {
    "duration": 11,
    "start_time": "2024-08-27T00:14:06.492Z"
   },
   {
    "duration": 38,
    "start_time": "2024-08-27T00:14:06.507Z"
   },
   {
    "duration": 16,
    "start_time": "2024-08-27T00:14:06.551Z"
   },
   {
    "duration": 4,
    "start_time": "2024-08-27T00:14:06.570Z"
   },
   {
    "duration": 18,
    "start_time": "2024-08-27T00:14:06.577Z"
   },
   {
    "duration": 56,
    "start_time": "2024-08-27T00:14:06.598Z"
   },
   {
    "duration": 29,
    "start_time": "2024-08-27T00:14:06.657Z"
   },
   {
    "duration": 70,
    "start_time": "2024-08-27T00:14:06.689Z"
   },
   {
    "duration": 47,
    "start_time": "2024-08-27T00:14:06.762Z"
   },
   {
    "duration": 21,
    "start_time": "2024-08-27T00:14:06.841Z"
   },
   {
    "duration": 12,
    "start_time": "2024-08-27T00:14:06.865Z"
   },
   {
    "duration": 29,
    "start_time": "2024-08-27T00:14:06.879Z"
   },
   {
    "duration": 9,
    "start_time": "2024-08-27T00:14:06.942Z"
   },
   {
    "duration": 777,
    "start_time": "2024-08-27T00:14:06.954Z"
   },
   {
    "duration": 273,
    "start_time": "2024-08-27T00:14:07.742Z"
   },
   {
    "duration": 370,
    "start_time": "2024-08-27T00:14:08.018Z"
   },
   {
    "duration": 11,
    "start_time": "2024-08-27T00:14:08.391Z"
   },
   {
    "duration": 46,
    "start_time": "2024-08-27T00:14:08.404Z"
   },
   {
    "duration": 480,
    "start_time": "2024-08-27T00:14:08.453Z"
   },
   {
    "duration": 299,
    "start_time": "2024-08-27T00:14:08.943Z"
   },
   {
    "duration": 10,
    "start_time": "2024-08-27T00:14:09.245Z"
   },
   {
    "duration": 6,
    "start_time": "2024-08-27T00:14:09.257Z"
   },
   {
    "duration": 12,
    "start_time": "2024-08-27T00:14:09.266Z"
   },
   {
    "duration": 556,
    "start_time": "2024-08-27T00:14:09.281Z"
   },
   {
    "duration": 318,
    "start_time": "2024-08-27T00:14:09.842Z"
   },
   {
    "duration": 230,
    "start_time": "2024-08-27T00:14:10.163Z"
   },
   {
    "duration": 15,
    "start_time": "2024-08-27T00:14:10.396Z"
   },
   {
    "duration": 374,
    "start_time": "2024-08-27T00:14:10.413Z"
   },
   {
    "duration": 365,
    "start_time": "2024-08-27T00:14:10.790Z"
   },
   {
    "duration": 16,
    "start_time": "2024-08-27T00:14:11.159Z"
   },
   {
    "duration": 646,
    "start_time": "2024-08-27T00:14:11.178Z"
   },
   {
    "duration": 1214,
    "start_time": "2024-08-27T04:29:31.079Z"
   },
   {
    "duration": 91,
    "start_time": "2024-08-27T04:29:32.295Z"
   },
   {
    "duration": 13,
    "start_time": "2024-08-27T04:29:32.388Z"
   },
   {
    "duration": 106,
    "start_time": "2024-08-27T04:29:32.404Z"
   },
   {
    "duration": 93,
    "start_time": "2024-08-27T04:29:32.512Z"
   },
   {
    "duration": 36,
    "start_time": "2024-08-27T04:29:32.606Z"
   },
   {
    "duration": 147,
    "start_time": "2024-08-27T04:29:32.644Z"
   },
   {
    "duration": 13,
    "start_time": "2024-08-27T04:29:32.793Z"
   },
   {
    "duration": 4,
    "start_time": "2024-08-27T04:29:32.808Z"
   },
   {
    "duration": 43,
    "start_time": "2024-08-27T04:29:32.816Z"
   },
   {
    "duration": 20,
    "start_time": "2024-08-27T04:29:32.861Z"
   },
   {
    "duration": 4,
    "start_time": "2024-08-27T04:29:32.883Z"
   },
   {
    "duration": 4,
    "start_time": "2024-08-27T04:29:32.889Z"
   },
   {
    "duration": 4,
    "start_time": "2024-08-27T04:29:32.896Z"
   },
   {
    "duration": 33,
    "start_time": "2024-08-27T04:29:32.902Z"
   },
   {
    "duration": 774,
    "start_time": "2024-08-27T04:29:32.937Z"
   },
   {
    "duration": 691,
    "start_time": "2024-08-27T04:29:33.713Z"
   },
   {
    "duration": 8,
    "start_time": "2024-08-27T04:29:34.406Z"
   },
   {
    "duration": 19,
    "start_time": "2024-08-27T04:29:34.416Z"
   },
   {
    "duration": 8,
    "start_time": "2024-08-27T04:29:34.437Z"
   },
   {
    "duration": 2,
    "start_time": "2024-08-27T04:29:34.447Z"
   },
   {
    "duration": 8,
    "start_time": "2024-08-27T04:29:34.451Z"
   },
   {
    "duration": 7,
    "start_time": "2024-08-27T04:29:34.461Z"
   },
   {
    "duration": 16,
    "start_time": "2024-08-27T04:29:34.470Z"
   },
   {
    "duration": 58,
    "start_time": "2024-08-27T04:29:34.489Z"
   },
   {
    "duration": 28,
    "start_time": "2024-08-27T04:29:34.549Z"
   },
   {
    "duration": 13,
    "start_time": "2024-08-27T04:29:34.579Z"
   },
   {
    "duration": 8,
    "start_time": "2024-08-27T04:29:34.596Z"
   },
   {
    "duration": 44,
    "start_time": "2024-08-27T04:29:34.605Z"
   },
   {
    "duration": 5,
    "start_time": "2024-08-27T04:29:34.651Z"
   },
   {
    "duration": 417,
    "start_time": "2024-08-27T04:29:34.658Z"
   },
   {
    "duration": 150,
    "start_time": "2024-08-27T04:29:35.077Z"
   },
   {
    "duration": 197,
    "start_time": "2024-08-27T04:29:35.235Z"
   },
   {
    "duration": 5,
    "start_time": "2024-08-27T04:29:35.434Z"
   },
   {
    "duration": 12,
    "start_time": "2024-08-27T04:29:35.441Z"
   },
   {
    "duration": 254,
    "start_time": "2024-08-27T04:29:35.455Z"
   },
   {
    "duration": 156,
    "start_time": "2024-08-27T04:29:35.711Z"
   },
   {
    "duration": 7,
    "start_time": "2024-08-27T04:29:35.869Z"
   },
   {
    "duration": 3,
    "start_time": "2024-08-27T04:29:35.878Z"
   },
   {
    "duration": 7,
    "start_time": "2024-08-27T04:29:35.882Z"
   },
   {
    "duration": 280,
    "start_time": "2024-08-27T04:29:35.892Z"
   },
   {
    "duration": 163,
    "start_time": "2024-08-27T04:29:36.174Z"
   },
   {
    "duration": 134,
    "start_time": "2024-08-27T04:29:36.339Z"
   },
   {
    "duration": 8,
    "start_time": "2024-08-27T04:29:36.475Z"
   },
   {
    "duration": 214,
    "start_time": "2024-08-27T04:29:36.484Z"
   },
   {
    "duration": 210,
    "start_time": "2024-08-27T04:29:36.700Z"
   },
   {
    "duration": 13,
    "start_time": "2024-08-27T04:29:36.914Z"
   },
   {
    "duration": 385,
    "start_time": "2024-08-27T04:29:36.929Z"
   }
  ],
  "kernelspec": {
   "display_name": "base",
   "language": "python",
   "name": "python3"
  },
  "language_info": {
   "codemirror_mode": {
    "name": "ipython",
    "version": 3
   },
   "file_extension": ".py",
   "mimetype": "text/x-python",
   "name": "python",
   "nbconvert_exporter": "python",
   "pygments_lexer": "ipython3",
   "version": "3.12.4"
  },
  "toc": {
   "base_numbering": 1,
   "nav_menu": {},
   "number_sections": true,
   "sideBar": true,
   "skip_h1_title": true,
   "title_cell": "Table of Contents",
   "title_sidebar": "Contents",
   "toc_cell": false,
   "toc_position": {},
   "toc_section_display": true,
   "toc_window_display": true
  }
 },
 "nbformat": 4,
 "nbformat_minor": 5
}
